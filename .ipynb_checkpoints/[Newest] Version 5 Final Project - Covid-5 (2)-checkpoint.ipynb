{
 "cells": [
  {
   "cell_type": "markdown",
   "metadata": {
    "colab_type": "text",
    "id": "l9xgh7dG1Bwd"
   },
   "source": [
    "Welcome! We first import the needed packages."
   ]
  },
  {
   "cell_type": "code",
   "execution_count": 1,
   "metadata": {
    "colab": {
     "base_uri": "https://localhost:8080/",
     "height": 50
    },
    "colab_type": "code",
    "executionInfo": {
     "elapsed": 1005,
     "status": "ok",
     "timestamp": 1588967591944,
     "user": {
      "displayName": "Eric Yang",
      "photoUrl": "",
      "userId": "16540930875245764335"
     },
     "user_tz": 420
    },
    "id": "2yl2HFIU1Bwe",
    "outputId": "76c66de8-8670-41b8-87d0-5da7b711a183"
   },
   "outputs": [],
   "source": [
    "import numpy as np\n",
    "import pandas as pd\n",
    "import matplotlib\n",
    "import matplotlib.pyplot as plt\n",
    "import seaborn as sns"
   ]
  },
  {
   "cell_type": "markdown",
   "metadata": {
    "colab_type": "text",
    "id": "sYag11_U1Bwg"
   },
   "source": [
    "## 0. Goal"
   ]
  },
  {
   "cell_type": "markdown",
   "metadata": {
    "colab_type": "text",
    "id": "-B7NEBG41Bwh"
   },
   "source": [
    "The goal of this part of the project is to make a linear model to predict mortality rates in different states and countries. "
   ]
  },
  {
   "cell_type": "markdown",
   "metadata": {
    "colab_type": "text",
    "id": "XQe5Gdvc1Bwh"
   },
   "source": [
    "# Preparing Data"
   ]
  },
  {
   "cell_type": "markdown",
   "metadata": {
    "colab_type": "text",
    "id": "HU_LDA5Z1Bwh"
   },
   "source": [
    "## 1. Loading the data"
   ]
  },
  {
   "cell_type": "markdown",
   "metadata": {
    "colab_type": "text",
    "id": "6Lzpa8kr1Bwi"
   },
   "source": [
    "#1 Let's first load the data and clean it a little."
   ]
  },
  {
   "cell_type": "code",
   "execution_count": 2,
   "metadata": {
    "colab": {
     "base_uri": "https://localhost:8080/",
     "height": 404
    },
    "colab_type": "code",
    "executionInfo": {
     "elapsed": 503,
     "status": "error",
     "timestamp": 1588967595608,
     "user": {
      "displayName": "Eric Yang",
      "photoUrl": "",
      "userId": "16540930875245764335"
     },
     "user_tz": 420
    },
    "id": "9825T2Yu1Bwi",
    "outputId": "585da6a6-391d-43b7-f8cd-c331c9b56418"
   },
   "outputs": [
    {
     "data": {
      "text/html": [
       "<div>\n",
       "<style scoped>\n",
       "    .dataframe tbody tr th:only-of-type {\n",
       "        vertical-align: middle;\n",
       "    }\n",
       "\n",
       "    .dataframe tbody tr th {\n",
       "        vertical-align: top;\n",
       "    }\n",
       "\n",
       "    .dataframe thead th {\n",
       "        text-align: right;\n",
       "    }\n",
       "</style>\n",
       "<table border=\"1\" class=\"dataframe\">\n",
       "  <thead>\n",
       "    <tr style=\"text-align: right;\">\n",
       "      <th></th>\n",
       "      <th>Province_State</th>\n",
       "      <th>Country_Region</th>\n",
       "      <th>Last_Update</th>\n",
       "      <th>Lat</th>\n",
       "      <th>Long_</th>\n",
       "      <th>Confirmed</th>\n",
       "      <th>Deaths</th>\n",
       "      <th>Recovered</th>\n",
       "      <th>Active</th>\n",
       "      <th>FIPS</th>\n",
       "      <th>Incident_Rate</th>\n",
       "      <th>People_Tested</th>\n",
       "      <th>People_Hospitalized</th>\n",
       "      <th>Mortality_Rate</th>\n",
       "      <th>UID</th>\n",
       "      <th>ISO3</th>\n",
       "      <th>Testing_Rate</th>\n",
       "      <th>Hospitalization_Rate</th>\n",
       "    </tr>\n",
       "  </thead>\n",
       "  <tbody>\n",
       "    <tr>\n",
       "      <th>0</th>\n",
       "      <td>Alabama</td>\n",
       "      <td>US</td>\n",
       "      <td>2020-04-18 22:32:47</td>\n",
       "      <td>32.3182</td>\n",
       "      <td>-86.9023</td>\n",
       "      <td>4712</td>\n",
       "      <td>153</td>\n",
       "      <td>NaN</td>\n",
       "      <td>4559.0</td>\n",
       "      <td>1.0</td>\n",
       "      <td>100.492717</td>\n",
       "      <td>42538.0</td>\n",
       "      <td>620.0</td>\n",
       "      <td>3.247029</td>\n",
       "      <td>84000001</td>\n",
       "      <td>USA</td>\n",
       "      <td>907.206961</td>\n",
       "      <td>13.157895</td>\n",
       "    </tr>\n",
       "    <tr>\n",
       "      <th>1</th>\n",
       "      <td>Alaska</td>\n",
       "      <td>US</td>\n",
       "      <td>2020-04-18 22:32:47</td>\n",
       "      <td>61.3707</td>\n",
       "      <td>-152.4044</td>\n",
       "      <td>314</td>\n",
       "      <td>9</td>\n",
       "      <td>147.0</td>\n",
       "      <td>305.0</td>\n",
       "      <td>2.0</td>\n",
       "      <td>52.530410</td>\n",
       "      <td>9655.0</td>\n",
       "      <td>39.0</td>\n",
       "      <td>2.866242</td>\n",
       "      <td>84000002</td>\n",
       "      <td>USA</td>\n",
       "      <td>1615.226458</td>\n",
       "      <td>12.420382</td>\n",
       "    </tr>\n",
       "    <tr>\n",
       "      <th>2</th>\n",
       "      <td>American Samoa</td>\n",
       "      <td>US</td>\n",
       "      <td>NaN</td>\n",
       "      <td>-14.2710</td>\n",
       "      <td>-170.1320</td>\n",
       "      <td>0</td>\n",
       "      <td>0</td>\n",
       "      <td>NaN</td>\n",
       "      <td>NaN</td>\n",
       "      <td>60.0</td>\n",
       "      <td>0.000000</td>\n",
       "      <td>3.0</td>\n",
       "      <td>NaN</td>\n",
       "      <td>NaN</td>\n",
       "      <td>16</td>\n",
       "      <td>ASM</td>\n",
       "      <td>5.391708</td>\n",
       "      <td>NaN</td>\n",
       "    </tr>\n",
       "    <tr>\n",
       "      <th>3</th>\n",
       "      <td>Arizona</td>\n",
       "      <td>US</td>\n",
       "      <td>2020-04-18 22:32:47</td>\n",
       "      <td>33.7298</td>\n",
       "      <td>-111.4312</td>\n",
       "      <td>4724</td>\n",
       "      <td>180</td>\n",
       "      <td>539.0</td>\n",
       "      <td>4544.0</td>\n",
       "      <td>4.0</td>\n",
       "      <td>64.901548</td>\n",
       "      <td>51045.0</td>\n",
       "      <td>566.0</td>\n",
       "      <td>3.810330</td>\n",
       "      <td>84000004</td>\n",
       "      <td>USA</td>\n",
       "      <td>701.291175</td>\n",
       "      <td>11.981372</td>\n",
       "    </tr>\n",
       "    <tr>\n",
       "      <th>4</th>\n",
       "      <td>Arkansas</td>\n",
       "      <td>US</td>\n",
       "      <td>2020-04-18 22:32:47</td>\n",
       "      <td>34.9697</td>\n",
       "      <td>-92.3731</td>\n",
       "      <td>1744</td>\n",
       "      <td>38</td>\n",
       "      <td>703.0</td>\n",
       "      <td>1706.0</td>\n",
       "      <td>5.0</td>\n",
       "      <td>67.361213</td>\n",
       "      <td>24141.0</td>\n",
       "      <td>291.0</td>\n",
       "      <td>2.178899</td>\n",
       "      <td>84000005</td>\n",
       "      <td>USA</td>\n",
       "      <td>932.435235</td>\n",
       "      <td>16.685780</td>\n",
       "    </tr>\n",
       "    <tr>\n",
       "      <th>...</th>\n",
       "      <td>...</td>\n",
       "      <td>...</td>\n",
       "      <td>...</td>\n",
       "      <td>...</td>\n",
       "      <td>...</td>\n",
       "      <td>...</td>\n",
       "      <td>...</td>\n",
       "      <td>...</td>\n",
       "      <td>...</td>\n",
       "      <td>...</td>\n",
       "      <td>...</td>\n",
       "      <td>...</td>\n",
       "      <td>...</td>\n",
       "      <td>...</td>\n",
       "      <td>...</td>\n",
       "      <td>...</td>\n",
       "      <td>...</td>\n",
       "      <td>...</td>\n",
       "    </tr>\n",
       "    <tr>\n",
       "      <th>135</th>\n",
       "      <td>Xinjiang</td>\n",
       "      <td>China</td>\n",
       "      <td>NaN</td>\n",
       "      <td>41.1129</td>\n",
       "      <td>85.2401</td>\n",
       "      <td>76</td>\n",
       "      <td>3</td>\n",
       "      <td>73.0</td>\n",
       "      <td>0.0</td>\n",
       "      <td>NaN</td>\n",
       "      <td>0.305589</td>\n",
       "      <td>NaN</td>\n",
       "      <td>NaN</td>\n",
       "      <td>3.947368</td>\n",
       "      <td>15629</td>\n",
       "      <td>CHN</td>\n",
       "      <td>NaN</td>\n",
       "      <td>NaN</td>\n",
       "    </tr>\n",
       "    <tr>\n",
       "      <th>136</th>\n",
       "      <td>Yukon</td>\n",
       "      <td>Canada</td>\n",
       "      <td>NaN</td>\n",
       "      <td>64.2823</td>\n",
       "      <td>-135.0000</td>\n",
       "      <td>9</td>\n",
       "      <td>0</td>\n",
       "      <td>0.0</td>\n",
       "      <td>9.0</td>\n",
       "      <td>NaN</td>\n",
       "      <td>21.909538</td>\n",
       "      <td>NaN</td>\n",
       "      <td>NaN</td>\n",
       "      <td>0.000000</td>\n",
       "      <td>12412</td>\n",
       "      <td>CAN</td>\n",
       "      <td>NaN</td>\n",
       "      <td>NaN</td>\n",
       "    </tr>\n",
       "    <tr>\n",
       "      <th>137</th>\n",
       "      <td>Yunnan</td>\n",
       "      <td>China</td>\n",
       "      <td>NaN</td>\n",
       "      <td>24.9740</td>\n",
       "      <td>101.4870</td>\n",
       "      <td>184</td>\n",
       "      <td>2</td>\n",
       "      <td>177.0</td>\n",
       "      <td>5.0</td>\n",
       "      <td>NaN</td>\n",
       "      <td>0.380952</td>\n",
       "      <td>NaN</td>\n",
       "      <td>NaN</td>\n",
       "      <td>1.086957</td>\n",
       "      <td>15630</td>\n",
       "      <td>CHN</td>\n",
       "      <td>NaN</td>\n",
       "      <td>NaN</td>\n",
       "    </tr>\n",
       "    <tr>\n",
       "      <th>138</th>\n",
       "      <td>Zhejiang</td>\n",
       "      <td>China</td>\n",
       "      <td>NaN</td>\n",
       "      <td>29.1832</td>\n",
       "      <td>120.0934</td>\n",
       "      <td>1268</td>\n",
       "      <td>1</td>\n",
       "      <td>1246.0</td>\n",
       "      <td>21.0</td>\n",
       "      <td>NaN</td>\n",
       "      <td>2.210214</td>\n",
       "      <td>NaN</td>\n",
       "      <td>NaN</td>\n",
       "      <td>0.078864</td>\n",
       "      <td>15631</td>\n",
       "      <td>CHN</td>\n",
       "      <td>NaN</td>\n",
       "      <td>NaN</td>\n",
       "    </tr>\n",
       "    <tr>\n",
       "      <th>139</th>\n",
       "      <td>Grand Princess</td>\n",
       "      <td>Canada</td>\n",
       "      <td>NaN</td>\n",
       "      <td>NaN</td>\n",
       "      <td>NaN</td>\n",
       "      <td>13</td>\n",
       "      <td>0</td>\n",
       "      <td>0.0</td>\n",
       "      <td>13.0</td>\n",
       "      <td>NaN</td>\n",
       "      <td>NaN</td>\n",
       "      <td>NaN</td>\n",
       "      <td>NaN</td>\n",
       "      <td>0.000000</td>\n",
       "      <td>12414</td>\n",
       "      <td>CAN</td>\n",
       "      <td>NaN</td>\n",
       "      <td>NaN</td>\n",
       "    </tr>\n",
       "  </tbody>\n",
       "</table>\n",
       "<p>140 rows × 18 columns</p>\n",
       "</div>"
      ],
      "text/plain": [
       "     Province_State Country_Region          Last_Update      Lat     Long_  \\\n",
       "0           Alabama             US  2020-04-18 22:32:47  32.3182  -86.9023   \n",
       "1            Alaska             US  2020-04-18 22:32:47  61.3707 -152.4044   \n",
       "2    American Samoa             US                  NaN -14.2710 -170.1320   \n",
       "3           Arizona             US  2020-04-18 22:32:47  33.7298 -111.4312   \n",
       "4          Arkansas             US  2020-04-18 22:32:47  34.9697  -92.3731   \n",
       "..              ...            ...                  ...      ...       ...   \n",
       "135        Xinjiang          China                  NaN  41.1129   85.2401   \n",
       "136           Yukon         Canada                  NaN  64.2823 -135.0000   \n",
       "137          Yunnan          China                  NaN  24.9740  101.4870   \n",
       "138        Zhejiang          China                  NaN  29.1832  120.0934   \n",
       "139  Grand Princess         Canada                  NaN      NaN       NaN   \n",
       "\n",
       "     Confirmed  Deaths  Recovered  Active  FIPS  Incident_Rate  People_Tested  \\\n",
       "0         4712     153        NaN  4559.0   1.0     100.492717        42538.0   \n",
       "1          314       9      147.0   305.0   2.0      52.530410         9655.0   \n",
       "2            0       0        NaN     NaN  60.0       0.000000            3.0   \n",
       "3         4724     180      539.0  4544.0   4.0      64.901548        51045.0   \n",
       "4         1744      38      703.0  1706.0   5.0      67.361213        24141.0   \n",
       "..         ...     ...        ...     ...   ...            ...            ...   \n",
       "135         76       3       73.0     0.0   NaN       0.305589            NaN   \n",
       "136          9       0        0.0     9.0   NaN      21.909538            NaN   \n",
       "137        184       2      177.0     5.0   NaN       0.380952            NaN   \n",
       "138       1268       1     1246.0    21.0   NaN       2.210214            NaN   \n",
       "139         13       0        0.0    13.0   NaN            NaN            NaN   \n",
       "\n",
       "     People_Hospitalized  Mortality_Rate       UID ISO3  Testing_Rate  \\\n",
       "0                  620.0        3.247029  84000001  USA    907.206961   \n",
       "1                   39.0        2.866242  84000002  USA   1615.226458   \n",
       "2                    NaN             NaN        16  ASM      5.391708   \n",
       "3                  566.0        3.810330  84000004  USA    701.291175   \n",
       "4                  291.0        2.178899  84000005  USA    932.435235   \n",
       "..                   ...             ...       ...  ...           ...   \n",
       "135                  NaN        3.947368     15629  CHN           NaN   \n",
       "136                  NaN        0.000000     12412  CAN           NaN   \n",
       "137                  NaN        1.086957     15630  CHN           NaN   \n",
       "138                  NaN        0.078864     15631  CHN           NaN   \n",
       "139                  NaN        0.000000     12414  CAN           NaN   \n",
       "\n",
       "     Hospitalization_Rate  \n",
       "0               13.157895  \n",
       "1               12.420382  \n",
       "2                     NaN  \n",
       "3               11.981372  \n",
       "4               16.685780  \n",
       "..                    ...  \n",
       "135                   NaN  \n",
       "136                   NaN  \n",
       "137                   NaN  \n",
       "138                   NaN  \n",
       "139                   NaN  \n",
       "\n",
       "[140 rows x 18 columns]"
      ]
     },
     "execution_count": 2,
     "metadata": {},
     "output_type": "execute_result"
    }
   ],
   "source": [
    "original_data1 = pd.read_csv('4.18states.csv')\n",
    "data1 = original_data1\n",
    "data1"
   ]
  },
  {
   "cell_type": "code",
   "execution_count": 3,
   "metadata": {
    "colab": {},
    "colab_type": "code",
    "id": "p8avOHfa1Bwl"
   },
   "outputs": [
    {
     "data": {
      "text/html": [
       "<div>\n",
       "<style scoped>\n",
       "    .dataframe tbody tr th:only-of-type {\n",
       "        vertical-align: middle;\n",
       "    }\n",
       "\n",
       "    .dataframe tbody tr th {\n",
       "        vertical-align: top;\n",
       "    }\n",
       "\n",
       "    .dataframe thead th {\n",
       "        text-align: right;\n",
       "    }\n",
       "</style>\n",
       "<table border=\"1\" class=\"dataframe\">\n",
       "  <thead>\n",
       "    <tr style=\"text-align: right;\">\n",
       "      <th></th>\n",
       "      <th>countyFIPS</th>\n",
       "      <th>STATEFP</th>\n",
       "      <th>COUNTYFP</th>\n",
       "      <th>CountyName</th>\n",
       "      <th>StateName</th>\n",
       "      <th>State</th>\n",
       "      <th>lat</th>\n",
       "      <th>lon</th>\n",
       "      <th>POP_LATITUDE</th>\n",
       "      <th>POP_LONGITUDE</th>\n",
       "      <th>...</th>\n",
       "      <th>&gt;500 gatherings</th>\n",
       "      <th>public schools</th>\n",
       "      <th>restaurant dine-in</th>\n",
       "      <th>entertainment/gym</th>\n",
       "      <th>federal guidelines</th>\n",
       "      <th>foreign travel ban</th>\n",
       "      <th>SVIPercentile</th>\n",
       "      <th>HPSAShortage</th>\n",
       "      <th>HPSAServedPop</th>\n",
       "      <th>HPSAUnderservedPop</th>\n",
       "    </tr>\n",
       "  </thead>\n",
       "  <tbody>\n",
       "    <tr>\n",
       "      <th>0</th>\n",
       "      <td>01001</td>\n",
       "      <td>1.0</td>\n",
       "      <td>1.0</td>\n",
       "      <td>Autauga</td>\n",
       "      <td>AL</td>\n",
       "      <td>Alabama</td>\n",
       "      <td>32.540091</td>\n",
       "      <td>-86.645649</td>\n",
       "      <td>32.500389</td>\n",
       "      <td>-86.494165</td>\n",
       "      <td>...</td>\n",
       "      <td>737497.0</td>\n",
       "      <td>737500.0</td>\n",
       "      <td>737503.0</td>\n",
       "      <td>737512.0</td>\n",
       "      <td>737500.0</td>\n",
       "      <td>737495.0</td>\n",
       "      <td>0.4354</td>\n",
       "      <td>NaN</td>\n",
       "      <td>NaN</td>\n",
       "      <td>NaN</td>\n",
       "    </tr>\n",
       "    <tr>\n",
       "      <th>1</th>\n",
       "      <td>01003</td>\n",
       "      <td>1.0</td>\n",
       "      <td>3.0</td>\n",
       "      <td>Baldwin</td>\n",
       "      <td>AL</td>\n",
       "      <td>Alabama</td>\n",
       "      <td>30.738314</td>\n",
       "      <td>-87.726272</td>\n",
       "      <td>30.548923</td>\n",
       "      <td>-87.762381</td>\n",
       "      <td>...</td>\n",
       "      <td>737497.0</td>\n",
       "      <td>737500.0</td>\n",
       "      <td>737503.0</td>\n",
       "      <td>737512.0</td>\n",
       "      <td>737500.0</td>\n",
       "      <td>737495.0</td>\n",
       "      <td>0.2162</td>\n",
       "      <td>NaN</td>\n",
       "      <td>NaN</td>\n",
       "      <td>NaN</td>\n",
       "    </tr>\n",
       "    <tr>\n",
       "      <th>2</th>\n",
       "      <td>01005</td>\n",
       "      <td>1.0</td>\n",
       "      <td>5.0</td>\n",
       "      <td>Barbour</td>\n",
       "      <td>AL</td>\n",
       "      <td>Alabama</td>\n",
       "      <td>31.874030</td>\n",
       "      <td>-85.397327</td>\n",
       "      <td>31.844036</td>\n",
       "      <td>-85.310038</td>\n",
       "      <td>...</td>\n",
       "      <td>737497.0</td>\n",
       "      <td>737500.0</td>\n",
       "      <td>737503.0</td>\n",
       "      <td>737512.0</td>\n",
       "      <td>737500.0</td>\n",
       "      <td>737495.0</td>\n",
       "      <td>0.9959</td>\n",
       "      <td>6.08</td>\n",
       "      <td>5400.0</td>\n",
       "      <td>18241.0</td>\n",
       "    </tr>\n",
       "    <tr>\n",
       "      <th>3</th>\n",
       "      <td>01007</td>\n",
       "      <td>1.0</td>\n",
       "      <td>7.0</td>\n",
       "      <td>Bibb</td>\n",
       "      <td>AL</td>\n",
       "      <td>Alabama</td>\n",
       "      <td>32.999024</td>\n",
       "      <td>-87.125260</td>\n",
       "      <td>33.030921</td>\n",
       "      <td>-87.127659</td>\n",
       "      <td>...</td>\n",
       "      <td>737497.0</td>\n",
       "      <td>737500.0</td>\n",
       "      <td>737503.0</td>\n",
       "      <td>737512.0</td>\n",
       "      <td>737500.0</td>\n",
       "      <td>737495.0</td>\n",
       "      <td>0.6003</td>\n",
       "      <td>2.75</td>\n",
       "      <td>14980.0</td>\n",
       "      <td>6120.0</td>\n",
       "    </tr>\n",
       "    <tr>\n",
       "      <th>4</th>\n",
       "      <td>01009</td>\n",
       "      <td>1.0</td>\n",
       "      <td>9.0</td>\n",
       "      <td>Blount</td>\n",
       "      <td>AL</td>\n",
       "      <td>Alabama</td>\n",
       "      <td>33.990440</td>\n",
       "      <td>-86.562711</td>\n",
       "      <td>33.955243</td>\n",
       "      <td>-86.591491</td>\n",
       "      <td>...</td>\n",
       "      <td>737497.0</td>\n",
       "      <td>737500.0</td>\n",
       "      <td>737503.0</td>\n",
       "      <td>737512.0</td>\n",
       "      <td>737500.0</td>\n",
       "      <td>737495.0</td>\n",
       "      <td>0.4242</td>\n",
       "      <td>7.21</td>\n",
       "      <td>31850.0</td>\n",
       "      <td>25233.0</td>\n",
       "    </tr>\n",
       "  </tbody>\n",
       "</table>\n",
       "<p>5 rows × 87 columns</p>\n",
       "</div>"
      ],
      "text/plain": [
       "  countyFIPS  STATEFP  COUNTYFP CountyName StateName    State        lat  \\\n",
       "0      01001      1.0       1.0    Autauga        AL  Alabama  32.540091   \n",
       "1      01003      1.0       3.0    Baldwin        AL  Alabama  30.738314   \n",
       "2      01005      1.0       5.0    Barbour        AL  Alabama  31.874030   \n",
       "3      01007      1.0       7.0       Bibb        AL  Alabama  32.999024   \n",
       "4      01009      1.0       9.0     Blount        AL  Alabama  33.990440   \n",
       "\n",
       "         lon  POP_LATITUDE  POP_LONGITUDE  ... >500 gatherings public schools  \\\n",
       "0 -86.645649     32.500389     -86.494165  ...        737497.0       737500.0   \n",
       "1 -87.726272     30.548923     -87.762381  ...        737497.0       737500.0   \n",
       "2 -85.397327     31.844036     -85.310038  ...        737497.0       737500.0   \n",
       "3 -87.125260     33.030921     -87.127659  ...        737497.0       737500.0   \n",
       "4 -86.562711     33.955243     -86.591491  ...        737497.0       737500.0   \n",
       "\n",
       "   restaurant dine-in  entertainment/gym  federal guidelines  \\\n",
       "0            737503.0           737512.0            737500.0   \n",
       "1            737503.0           737512.0            737500.0   \n",
       "2            737503.0           737512.0            737500.0   \n",
       "3            737503.0           737512.0            737500.0   \n",
       "4            737503.0           737512.0            737500.0   \n",
       "\n",
       "   foreign travel ban  SVIPercentile  HPSAShortage  HPSAServedPop  \\\n",
       "0            737495.0         0.4354           NaN            NaN   \n",
       "1            737495.0         0.2162           NaN            NaN   \n",
       "2            737495.0         0.9959          6.08         5400.0   \n",
       "3            737495.0         0.6003          2.75        14980.0   \n",
       "4            737495.0         0.4242          7.21        31850.0   \n",
       "\n",
       "   HPSAUnderservedPop  \n",
       "0                 NaN  \n",
       "1                 NaN  \n",
       "2             18241.0  \n",
       "3              6120.0  \n",
       "4             25233.0  \n",
       "\n",
       "[5 rows x 87 columns]"
      ]
     },
     "execution_count": 3,
     "metadata": {},
     "output_type": "execute_result"
    }
   ],
   "source": [
    "original_data2 = pd.read_csv('abridged_couties.csv')\n",
    "data2 = original_data2\n",
    "original_data2.head()\n",
    "#original_data2['COUNTYFP'].value_counts()"
   ]
  },
  {
   "cell_type": "code",
   "execution_count": 4,
   "metadata": {},
   "outputs": [
    {
     "name": "stdout",
     "output_type": "stream",
     "text": [
      "Index(['UID', 'iso2', 'iso3', 'code3', 'FIPS', 'Admin2', 'Province_State',\n",
      "       'Country_Region', 'Lat', 'Long_', 'Combined_Key', '1/22/20', '1/23/20',\n",
      "       '1/24/20', '1/25/20', '1/26/20', '1/27/20', '1/28/20', '1/29/20',\n",
      "       '1/30/20', '1/31/20', '2/1/20', '2/2/20', '2/3/20', '2/4/20', '2/5/20',\n",
      "       '2/6/20', '2/7/20', '2/8/20', '2/9/20', '2/10/20', '2/11/20', '2/12/20',\n",
      "       '2/13/20', '2/14/20', '2/15/20', '2/16/20', '2/17/20', '2/18/20',\n",
      "       '2/19/20', '2/20/20', '2/21/20', '2/22/20', '2/23/20', '2/24/20',\n",
      "       '2/25/20', '2/26/20', '2/27/20', '2/28/20', '2/29/20', '3/1/20',\n",
      "       '3/2/20', '3/3/20', '3/4/20', '3/5/20', '3/6/20', '3/7/20', '3/8/20',\n",
      "       '3/9/20', '3/10/20', '3/11/20', '3/12/20', '3/13/20', '3/14/20',\n",
      "       '3/15/20', '3/16/20', '3/17/20', '3/18/20', '3/19/20', '3/20/20',\n",
      "       '3/21/20', '3/22/20', '3/23/20', '3/24/20', '3/25/20', '3/26/20',\n",
      "       '3/27/20', '3/28/20', '3/29/20', '3/30/20', '3/31/20', '4/1/20',\n",
      "       '4/2/20', '4/3/20', '4/4/20', '4/5/20', '4/6/20', '4/7/20', '4/8/20',\n",
      "       '4/9/20', '4/10/20', '4/11/20', '4/12/20', '4/13/20', '4/14/20',\n",
      "       '4/15/20', '4/16/20', '4/17/20', '4/18/20'],\n",
      "      dtype='object')\n"
     ]
    },
    {
     "data": {
      "text/plain": [
       "Cole, Missouri, US               1\n",
       "Marion, Ohio, US                 1\n",
       "Martin, North Carolina, US       1\n",
       "Barnstable, Massachusetts, US    1\n",
       "Collingsworth, Texas, US         1\n",
       "                                ..\n",
       "Smith, Texas, US                 1\n",
       "El Dorado, California, US        1\n",
       "Mercer, Missouri, US             1\n",
       "Lawrence, Mississippi, US        1\n",
       "Muhlenberg, Kentucky, US         1\n",
       "Name: Combined_Key, Length: 3255, dtype: int64"
      ]
     },
     "execution_count": 4,
     "metadata": {},
     "output_type": "execute_result"
    }
   ],
   "source": [
    "original_data_time_case = pd.read_csv('time_series_covid19_confirmed_US.csv')\n",
    "data_time_case = original_data_time_case\n",
    "print(data_time_case.columns)\n",
    "data_time_case.head()\n",
    "data_time_case['Combined_Key'].value_counts()"
   ]
  },
  {
   "cell_type": "code",
   "execution_count": 5,
   "metadata": {},
   "outputs": [
    {
     "data": {
      "text/plain": [
       "Cole, Missouri, US               1\n",
       "Marion, Ohio, US                 1\n",
       "Martin, North Carolina, US       1\n",
       "Barnstable, Massachusetts, US    1\n",
       "Collingsworth, Texas, US         1\n",
       "                                ..\n",
       "Smith, Texas, US                 1\n",
       "El Dorado, California, US        1\n",
       "Mercer, Missouri, US             1\n",
       "Lawrence, Mississippi, US        1\n",
       "Muhlenberg, Kentucky, US         1\n",
       "Name: Combined_Key, Length: 3255, dtype: int64"
      ]
     },
     "execution_count": 5,
     "metadata": {},
     "output_type": "execute_result"
    }
   ],
   "source": [
    "original_data_time_death= pd.read_csv('time_series_covid19_deaths_US.csv')\n",
    "data_time_death = original_data_time_death\n",
    "data_time_death.head()\n",
    "data_time_death['Combined_Key'].value_counts()"
   ]
  },
  {
   "cell_type": "markdown",
   "metadata": {
    "colab_type": "text",
    "id": "HU_LDA5Z1Bwh"
   },
   "source": [
    "## 2. Cleaning the data"
   ]
  },
  {
   "cell_type": "markdown",
   "metadata": {
    "colab_type": "text",
    "id": "qyKl5DGK1Bw2"
   },
   "source": [
    "##  Missing Values"
   ]
  },
  {
   "cell_type": "markdown",
   "metadata": {
    "colab_type": "text",
    "id": "2qkZZ_OK1Bw2"
   },
   "source": [
    "First we will look at missing values."
   ]
  },
  {
   "cell_type": "code",
   "execution_count": 6,
   "metadata": {
    "colab": {},
    "colab_type": "code",
    "id": "7p046CJ81Bw2",
    "outputId": "a84161e7-50b2-4f49-d8a7-723200ac2603",
    "scrolled": true
   },
   "outputs": [
    {
     "data": {
      "text/plain": [
       "countyFIPS               0\n",
       "STATEFP                 23\n",
       "COUNTYFP                23\n",
       "CountyName               0\n",
       "StateName                0\n",
       "                      ... \n",
       "foreign travel ban      25\n",
       "SVIPercentile          104\n",
       "HPSAShortage          1141\n",
       "HPSAServedPop         1141\n",
       "HPSAUnderservedPop    1141\n",
       "Length: 87, dtype: int64"
      ]
     },
     "execution_count": 6,
     "metadata": {},
     "output_type": "execute_result"
    }
   ],
   "source": [
    "data2.isnull().sum()"
   ]
  },
  {
   "cell_type": "markdown",
   "metadata": {
    "colab_type": "text",
    "id": "PpcOge9V1Bw5"
   },
   "source": [
    "We should replace the NaN values of 'stay at home', 'public school', and '>500 gatherings' with the average value in their states. \n",
    "\n",
    "**For Now** for simplicity I will replace all values in the three columns with an average value of the whole table (which is incorrect but convenient). \n",
    "\n",
    "**An idea** We can also fill all the NaN values with .isna(method = 'ffill') to fill all the values with previous valid values, which saves more time and should work well, given that adjacent counties are likely to be in the same state.\n"
   ]
  },
  {
   "cell_type": "code",
   "execution_count": 7,
   "metadata": {
    "colab": {},
    "colab_type": "code",
    "id": "hFSCYnza1Bw5",
    "outputId": "c580db86-1802-4efc-d81e-a7eae67a3975",
    "scrolled": true
   },
   "outputs": [
    {
     "data": {
      "text/plain": [
       "State                                  67\n",
       "lat                                    67\n",
       "lon                                    67\n",
       "#EligibleforMedicare2018                7\n",
       "MedicareEnrollment,AgedTot2017          9\n",
       "3-YrDiabetes2015-17                  1344\n",
       "DiabetesPercentage                      1\n",
       "HeartDiseaseMortality                   7\n",
       "StrokeMortality                         7\n",
       "dem_to_rep_ratio                       27\n",
       "3-YrMortalityAge<1Year2015-17        2209\n",
       "3-YrMortalityAge1-4Years2015-17      2589\n",
       "3-YrMortalityAge5-14Years2015-17     2562\n",
       "3-YrMortalityAge15-24Years2015-17    2060\n",
       "3-YrMortalityAge25-34Years2015-17    1753\n",
       "3-YrMortalityAge35-44Years2015-17    1444\n",
       "3-YrMortalityAge45-54Years2015-17     736\n",
       "3-YrMortalityAge55-64Years2015-17     299\n",
       "3-YrMortalityAge65-74Years2015-17     192\n",
       "3-YrMortalityAge75-84Years2015-17     139\n",
       "3-YrMortalityAge85+Years2015-17       115\n",
       "mortality2015-17Estimated            2562\n",
       "SVIPercentile                           1\n",
       "HPSAShortage                          879\n",
       "HPSAServedPop                         879\n",
       "HPSAUnderservedPop                    879\n",
       "dtype: int64"
      ]
     },
     "execution_count": 7,
     "metadata": {},
     "output_type": "execute_result"
    }
   ],
   "source": [
    "def drop_na_vals(data, col_names):\n",
    "    \"\"\"\n",
    "    Drop from data all rows that have nan values in col_names columns\n",
    "    \"\"\"\n",
    "    return data.dropna(subset = col_names)\n",
    "\n",
    "timestamps = ['stay at home', 'public schools', '>500 gatherings', 'foreign travel ban', 'entertainment/gym', 'restaurant dine-in', 'federal guidelines']\n",
    "\n",
    "\"\"\"\n",
    "data2['stay at home'] = data2['stay at home'].fillna(np.mean(data2['stay at home']))\n",
    "data2['public schools'] = data2['public schools'].fillna(np.mean(data2['public schools']))\n",
    "data2['>500 gatherings'] = data2['>500 gatherings'].fillna(np.mean(data2['>500 gatherings']))\n",
    "data2['foreign travel ban'] = data2['foreign travel ban'].fillna(np.mean(data2['foreign travel ban']))\n",
    "data2['entertainment/gym'] = data2['entertainment/gym'].fillna(np.mean(data2['entertainment/gym']))\n",
    "data2['restaurant dine-in'] = data2['restaurant dine-in'].fillna(np.mean(data2['restaurant dine-in']))\n",
    "data2['federal guidelines'] = data2['federal guidelines'].fillna(np.mean(data2['federal guidelines']))\n",
    "\"\"\"\n",
    "data2 = drop_na_vals(data2, timestamps)\n",
    "data2_zeros = data2.isnull().sum()\n",
    "data2_zeros[data2_zeros != 0]\n",
    "#operate_data2_with_states[operate_data2_with_states['stay at home'].isnull()]"
   ]
  },
  {
   "cell_type": "markdown",
   "metadata": {},
   "source": [
    "Then, we need to change all the ordinals into timestamps for readability."
   ]
  },
  {
   "cell_type": "code",
   "execution_count": 8,
   "metadata": {},
   "outputs": [
    {
     "name": "stderr",
     "output_type": "stream",
     "text": [
      "D:\\Anaconda3\\lib\\site-packages\\ipykernel_launcher.py:6: SettingWithCopyWarning: \n",
      "A value is trying to be set on a copy of a slice from a DataFrame.\n",
      "Try using .loc[row_indexer,col_indexer] = value instead\n",
      "\n",
      "See the caveats in the documentation: https://pandas.pydata.org/pandas-docs/stable/user_guide/indexing.html#returning-a-view-versus-a-copy\n",
      "  \n"
     ]
    },
    {
     "data": {
      "text/html": [
       "<div>\n",
       "<style scoped>\n",
       "    .dataframe tbody tr th:only-of-type {\n",
       "        vertical-align: middle;\n",
       "    }\n",
       "\n",
       "    .dataframe tbody tr th {\n",
       "        vertical-align: top;\n",
       "    }\n",
       "\n",
       "    .dataframe thead th {\n",
       "        text-align: right;\n",
       "    }\n",
       "</style>\n",
       "<table border=\"1\" class=\"dataframe\">\n",
       "  <thead>\n",
       "    <tr style=\"text-align: right;\">\n",
       "      <th></th>\n",
       "      <th>countyFIPS</th>\n",
       "      <th>STATEFP</th>\n",
       "      <th>COUNTYFP</th>\n",
       "      <th>CountyName</th>\n",
       "      <th>StateName</th>\n",
       "      <th>State</th>\n",
       "      <th>lat</th>\n",
       "      <th>lon</th>\n",
       "      <th>POP_LATITUDE</th>\n",
       "      <th>POP_LONGITUDE</th>\n",
       "      <th>...</th>\n",
       "      <th>&gt;500 gatherings</th>\n",
       "      <th>public schools</th>\n",
       "      <th>restaurant dine-in</th>\n",
       "      <th>entertainment/gym</th>\n",
       "      <th>federal guidelines</th>\n",
       "      <th>foreign travel ban</th>\n",
       "      <th>SVIPercentile</th>\n",
       "      <th>HPSAShortage</th>\n",
       "      <th>HPSAServedPop</th>\n",
       "      <th>HPSAUnderservedPop</th>\n",
       "    </tr>\n",
       "  </thead>\n",
       "  <tbody>\n",
       "    <tr>\n",
       "      <th>0</th>\n",
       "      <td>01001</td>\n",
       "      <td>1.0</td>\n",
       "      <td>1.0</td>\n",
       "      <td>Autauga</td>\n",
       "      <td>AL</td>\n",
       "      <td>Alabama</td>\n",
       "      <td>32.540091</td>\n",
       "      <td>-86.645649</td>\n",
       "      <td>32.500389</td>\n",
       "      <td>-86.494165</td>\n",
       "      <td>...</td>\n",
       "      <td>2020-03-13</td>\n",
       "      <td>2020-03-16</td>\n",
       "      <td>2020-03-19</td>\n",
       "      <td>2020-03-28</td>\n",
       "      <td>2020-03-16</td>\n",
       "      <td>2020-03-11</td>\n",
       "      <td>0.4354</td>\n",
       "      <td>NaN</td>\n",
       "      <td>NaN</td>\n",
       "      <td>NaN</td>\n",
       "    </tr>\n",
       "    <tr>\n",
       "      <th>1</th>\n",
       "      <td>01003</td>\n",
       "      <td>1.0</td>\n",
       "      <td>3.0</td>\n",
       "      <td>Baldwin</td>\n",
       "      <td>AL</td>\n",
       "      <td>Alabama</td>\n",
       "      <td>30.738314</td>\n",
       "      <td>-87.726272</td>\n",
       "      <td>30.548923</td>\n",
       "      <td>-87.762381</td>\n",
       "      <td>...</td>\n",
       "      <td>2020-03-13</td>\n",
       "      <td>2020-03-16</td>\n",
       "      <td>2020-03-19</td>\n",
       "      <td>2020-03-28</td>\n",
       "      <td>2020-03-16</td>\n",
       "      <td>2020-03-11</td>\n",
       "      <td>0.2162</td>\n",
       "      <td>NaN</td>\n",
       "      <td>NaN</td>\n",
       "      <td>NaN</td>\n",
       "    </tr>\n",
       "    <tr>\n",
       "      <th>2</th>\n",
       "      <td>01005</td>\n",
       "      <td>1.0</td>\n",
       "      <td>5.0</td>\n",
       "      <td>Barbour</td>\n",
       "      <td>AL</td>\n",
       "      <td>Alabama</td>\n",
       "      <td>31.874030</td>\n",
       "      <td>-85.397327</td>\n",
       "      <td>31.844036</td>\n",
       "      <td>-85.310038</td>\n",
       "      <td>...</td>\n",
       "      <td>2020-03-13</td>\n",
       "      <td>2020-03-16</td>\n",
       "      <td>2020-03-19</td>\n",
       "      <td>2020-03-28</td>\n",
       "      <td>2020-03-16</td>\n",
       "      <td>2020-03-11</td>\n",
       "      <td>0.9959</td>\n",
       "      <td>6.08</td>\n",
       "      <td>5400.0</td>\n",
       "      <td>18241.0</td>\n",
       "    </tr>\n",
       "    <tr>\n",
       "      <th>3</th>\n",
       "      <td>01007</td>\n",
       "      <td>1.0</td>\n",
       "      <td>7.0</td>\n",
       "      <td>Bibb</td>\n",
       "      <td>AL</td>\n",
       "      <td>Alabama</td>\n",
       "      <td>32.999024</td>\n",
       "      <td>-87.125260</td>\n",
       "      <td>33.030921</td>\n",
       "      <td>-87.127659</td>\n",
       "      <td>...</td>\n",
       "      <td>2020-03-13</td>\n",
       "      <td>2020-03-16</td>\n",
       "      <td>2020-03-19</td>\n",
       "      <td>2020-03-28</td>\n",
       "      <td>2020-03-16</td>\n",
       "      <td>2020-03-11</td>\n",
       "      <td>0.6003</td>\n",
       "      <td>2.75</td>\n",
       "      <td>14980.0</td>\n",
       "      <td>6120.0</td>\n",
       "    </tr>\n",
       "    <tr>\n",
       "      <th>4</th>\n",
       "      <td>01009</td>\n",
       "      <td>1.0</td>\n",
       "      <td>9.0</td>\n",
       "      <td>Blount</td>\n",
       "      <td>AL</td>\n",
       "      <td>Alabama</td>\n",
       "      <td>33.990440</td>\n",
       "      <td>-86.562711</td>\n",
       "      <td>33.955243</td>\n",
       "      <td>-86.591491</td>\n",
       "      <td>...</td>\n",
       "      <td>2020-03-13</td>\n",
       "      <td>2020-03-16</td>\n",
       "      <td>2020-03-19</td>\n",
       "      <td>2020-03-28</td>\n",
       "      <td>2020-03-16</td>\n",
       "      <td>2020-03-11</td>\n",
       "      <td>0.4242</td>\n",
       "      <td>7.21</td>\n",
       "      <td>31850.0</td>\n",
       "      <td>25233.0</td>\n",
       "    </tr>\n",
       "  </tbody>\n",
       "</table>\n",
       "<p>5 rows × 87 columns</p>\n",
       "</div>"
      ],
      "text/plain": [
       "  countyFIPS  STATEFP  COUNTYFP CountyName StateName    State        lat  \\\n",
       "0      01001      1.0       1.0    Autauga        AL  Alabama  32.540091   \n",
       "1      01003      1.0       3.0    Baldwin        AL  Alabama  30.738314   \n",
       "2      01005      1.0       5.0    Barbour        AL  Alabama  31.874030   \n",
       "3      01007      1.0       7.0       Bibb        AL  Alabama  32.999024   \n",
       "4      01009      1.0       9.0     Blount        AL  Alabama  33.990440   \n",
       "\n",
       "         lon  POP_LATITUDE  POP_LONGITUDE  ... >500 gatherings public schools  \\\n",
       "0 -86.645649     32.500389     -86.494165  ...      2020-03-13     2020-03-16   \n",
       "1 -87.726272     30.548923     -87.762381  ...      2020-03-13     2020-03-16   \n",
       "2 -85.397327     31.844036     -85.310038  ...      2020-03-13     2020-03-16   \n",
       "3 -87.125260     33.030921     -87.127659  ...      2020-03-13     2020-03-16   \n",
       "4 -86.562711     33.955243     -86.591491  ...      2020-03-13     2020-03-16   \n",
       "\n",
       "   restaurant dine-in  entertainment/gym  federal guidelines  \\\n",
       "0          2020-03-19         2020-03-28          2020-03-16   \n",
       "1          2020-03-19         2020-03-28          2020-03-16   \n",
       "2          2020-03-19         2020-03-28          2020-03-16   \n",
       "3          2020-03-19         2020-03-28          2020-03-16   \n",
       "4          2020-03-19         2020-03-28          2020-03-16   \n",
       "\n",
       "   foreign travel ban  SVIPercentile  HPSAShortage  HPSAServedPop  \\\n",
       "0          2020-03-11         0.4354           NaN            NaN   \n",
       "1          2020-03-11         0.2162           NaN            NaN   \n",
       "2          2020-03-11         0.9959          6.08         5400.0   \n",
       "3          2020-03-11         0.6003          2.75        14980.0   \n",
       "4          2020-03-11         0.4242          7.21        31850.0   \n",
       "\n",
       "   HPSAUnderservedPop  \n",
       "0                 NaN  \n",
       "1                 NaN  \n",
       "2             18241.0  \n",
       "3              6120.0  \n",
       "4             25233.0  \n",
       "\n",
       "[5 rows x 87 columns]"
      ]
     },
     "execution_count": 8,
     "metadata": {},
     "output_type": "execute_result"
    }
   ],
   "source": [
    "def to_stamp_cols(data, col_names):\n",
    "    \"\"\"\n",
    "    Converts ordinals into timestamps in col_names columns\n",
    "    \"\"\"\n",
    "    for name in col_names:\n",
    "        data[name] = data[name].apply(lambda x: pd.Timestamp.fromordinal(int(x)))\n",
    "    return data\n",
    "data2 = to_stamp_cols(data2, timestamps) \n",
    "data2.head()"
   ]
  },
  {
   "cell_type": "markdown",
   "metadata": {},
   "source": [
    "Next, let's look at the date of the first discovered case (death) in each county. "
   ]
  },
  {
   "cell_type": "code",
   "execution_count": 9,
   "metadata": {},
   "outputs": [],
   "source": [
    "def find_first_date(data, cap):\n",
    "    \"\"\"\n",
    "    Find the earliest date that the number of confirmed case (death) reached cap in each county, return in a series\n",
    "    \"\"\"\n",
    "    data = data.loc[:, '1/22/20':'4/18/20']\n",
    "    return data.keys()[np.argmax(data.values > cap,axis=1)]\n",
    "\n",
    "data_time_case['First_Case'] = find_first_date(data_time_case, 0)\n",
    "data_time_case['First_Hundred_Case'] = find_first_date(data_time_case, 100)\n",
    "data_time_death['First_Death'] = find_first_date(data_time_death, 0)"
   ]
  },
  {
   "cell_type": "markdown",
   "metadata": {},
   "source": [
    "Drop all counties that never had any cases/deaths from the respective tables. And convert the string to timestamp"
   ]
  },
  {
   "cell_type": "code",
   "execution_count": 10,
   "metadata": {},
   "outputs": [
    {
     "data": {
      "text/html": [
       "<div>\n",
       "<style scoped>\n",
       "    .dataframe tbody tr th:only-of-type {\n",
       "        vertical-align: middle;\n",
       "    }\n",
       "\n",
       "    .dataframe tbody tr th {\n",
       "        vertical-align: top;\n",
       "    }\n",
       "\n",
       "    .dataframe thead th {\n",
       "        text-align: right;\n",
       "    }\n",
       "</style>\n",
       "<table border=\"1\" class=\"dataframe\">\n",
       "  <thead>\n",
       "    <tr style=\"text-align: right;\">\n",
       "      <th></th>\n",
       "      <th>UID</th>\n",
       "      <th>iso2</th>\n",
       "      <th>iso3</th>\n",
       "      <th>code3</th>\n",
       "      <th>FIPS</th>\n",
       "      <th>Admin2</th>\n",
       "      <th>Province_State</th>\n",
       "      <th>Country_Region</th>\n",
       "      <th>Lat</th>\n",
       "      <th>Long_</th>\n",
       "      <th>...</th>\n",
       "      <th>4/10/20</th>\n",
       "      <th>4/11/20</th>\n",
       "      <th>4/12/20</th>\n",
       "      <th>4/13/20</th>\n",
       "      <th>4/14/20</th>\n",
       "      <th>4/15/20</th>\n",
       "      <th>4/16/20</th>\n",
       "      <th>4/17/20</th>\n",
       "      <th>4/18/20</th>\n",
       "      <th>First_Death</th>\n",
       "    </tr>\n",
       "  </thead>\n",
       "  <tbody>\n",
       "    <tr>\n",
       "      <th>1</th>\n",
       "      <td>316</td>\n",
       "      <td>GU</td>\n",
       "      <td>GUM</td>\n",
       "      <td>316</td>\n",
       "      <td>66.0</td>\n",
       "      <td>NaN</td>\n",
       "      <td>Guam</td>\n",
       "      <td>US</td>\n",
       "      <td>13.444300</td>\n",
       "      <td>144.793700</td>\n",
       "      <td>...</td>\n",
       "      <td>4</td>\n",
       "      <td>5</td>\n",
       "      <td>5</td>\n",
       "      <td>5</td>\n",
       "      <td>5</td>\n",
       "      <td>5</td>\n",
       "      <td>5</td>\n",
       "      <td>5</td>\n",
       "      <td>5</td>\n",
       "      <td>2020-03-22</td>\n",
       "    </tr>\n",
       "    <tr>\n",
       "      <th>2</th>\n",
       "      <td>580</td>\n",
       "      <td>MP</td>\n",
       "      <td>MNP</td>\n",
       "      <td>580</td>\n",
       "      <td>69.0</td>\n",
       "      <td>NaN</td>\n",
       "      <td>Northern Mariana Islands</td>\n",
       "      <td>US</td>\n",
       "      <td>15.097900</td>\n",
       "      <td>145.673900</td>\n",
       "      <td>...</td>\n",
       "      <td>2</td>\n",
       "      <td>2</td>\n",
       "      <td>2</td>\n",
       "      <td>2</td>\n",
       "      <td>2</td>\n",
       "      <td>2</td>\n",
       "      <td>2</td>\n",
       "      <td>2</td>\n",
       "      <td>2</td>\n",
       "      <td>2020-04-01</td>\n",
       "    </tr>\n",
       "    <tr>\n",
       "      <th>3</th>\n",
       "      <td>630</td>\n",
       "      <td>PR</td>\n",
       "      <td>PRI</td>\n",
       "      <td>630</td>\n",
       "      <td>72.0</td>\n",
       "      <td>NaN</td>\n",
       "      <td>Puerto Rico</td>\n",
       "      <td>US</td>\n",
       "      <td>18.220800</td>\n",
       "      <td>-66.590100</td>\n",
       "      <td>...</td>\n",
       "      <td>39</td>\n",
       "      <td>42</td>\n",
       "      <td>44</td>\n",
       "      <td>45</td>\n",
       "      <td>45</td>\n",
       "      <td>51</td>\n",
       "      <td>56</td>\n",
       "      <td>58</td>\n",
       "      <td>60</td>\n",
       "      <td>2020-03-21</td>\n",
       "    </tr>\n",
       "    <tr>\n",
       "      <th>4</th>\n",
       "      <td>850</td>\n",
       "      <td>VI</td>\n",
       "      <td>VIR</td>\n",
       "      <td>850</td>\n",
       "      <td>78.0</td>\n",
       "      <td>NaN</td>\n",
       "      <td>Virgin Islands</td>\n",
       "      <td>US</td>\n",
       "      <td>18.335800</td>\n",
       "      <td>-64.896300</td>\n",
       "      <td>...</td>\n",
       "      <td>1</td>\n",
       "      <td>1</td>\n",
       "      <td>1</td>\n",
       "      <td>1</td>\n",
       "      <td>1</td>\n",
       "      <td>1</td>\n",
       "      <td>1</td>\n",
       "      <td>2</td>\n",
       "      <td>3</td>\n",
       "      <td>2020-04-05</td>\n",
       "    </tr>\n",
       "    <tr>\n",
       "      <th>5</th>\n",
       "      <td>84001001</td>\n",
       "      <td>US</td>\n",
       "      <td>USA</td>\n",
       "      <td>840</td>\n",
       "      <td>1001.0</td>\n",
       "      <td>Autauga</td>\n",
       "      <td>Alabama</td>\n",
       "      <td>US</td>\n",
       "      <td>32.539527</td>\n",
       "      <td>-86.644082</td>\n",
       "      <td>...</td>\n",
       "      <td>1</td>\n",
       "      <td>1</td>\n",
       "      <td>1</td>\n",
       "      <td>1</td>\n",
       "      <td>1</td>\n",
       "      <td>1</td>\n",
       "      <td>1</td>\n",
       "      <td>2</td>\n",
       "      <td>2</td>\n",
       "      <td>2020-04-07</td>\n",
       "    </tr>\n",
       "  </tbody>\n",
       "</table>\n",
       "<p>5 rows × 101 columns</p>\n",
       "</div>"
      ],
      "text/plain": [
       "        UID iso2 iso3  code3    FIPS   Admin2            Province_State  \\\n",
       "1       316   GU  GUM    316    66.0      NaN                      Guam   \n",
       "2       580   MP  MNP    580    69.0      NaN  Northern Mariana Islands   \n",
       "3       630   PR  PRI    630    72.0      NaN               Puerto Rico   \n",
       "4       850   VI  VIR    850    78.0      NaN            Virgin Islands   \n",
       "5  84001001   US  USA    840  1001.0  Autauga                   Alabama   \n",
       "\n",
       "  Country_Region        Lat       Long_  ... 4/10/20  4/11/20  4/12/20  \\\n",
       "1             US  13.444300  144.793700  ...       4        5        5   \n",
       "2             US  15.097900  145.673900  ...       2        2        2   \n",
       "3             US  18.220800  -66.590100  ...      39       42       44   \n",
       "4             US  18.335800  -64.896300  ...       1        1        1   \n",
       "5             US  32.539527  -86.644082  ...       1        1        1   \n",
       "\n",
       "   4/13/20  4/14/20  4/15/20  4/16/20  4/17/20  4/18/20  First_Death  \n",
       "1        5        5        5        5        5        5   2020-03-22  \n",
       "2        2        2        2        2        2        2   2020-04-01  \n",
       "3       45       45       51       56       58       60   2020-03-21  \n",
       "4        1        1        1        1        2        3   2020-04-05  \n",
       "5        1        1        1        1        2        2   2020-04-07  \n",
       "\n",
       "[5 rows x 101 columns]"
      ]
     },
     "execution_count": 10,
     "metadata": {},
     "output_type": "execute_result"
    }
   ],
   "source": [
    "data_time_case = data_time_case.drop(data_time_case[data_time_case[\"First_Case\"] == \"1/22/20\"].index)\n",
    "data_time_death = data_time_death.drop(data_time_death[data_time_death[\"First_Death\"] == \"1/22/20\"].index)\n",
    "data_time_case[\"First_Case\"] = pd.to_datetime(data_time_case[\"First_Case\"], infer_datetime_format = True)\n",
    "data_time_case[\"First_Hundred_Case\"] = pd.to_datetime(data_time_case[\"First_Hundred_Case\"], infer_datetime_format = True)\n",
    "data_time_death[\"First_Death\"] = pd.to_datetime(data_time_death[\"First_Death\"], infer_datetime_format = True)\n",
    "data_time_death.head()"
   ]
  },
  {
   "cell_type": "markdown",
   "metadata": {},
   "source": [
    "While we're at it, we can extract the county name in the time series, and drop some of the stuff we won't use, too."
   ]
  },
  {
   "cell_type": "code",
   "execution_count": 11,
   "metadata": {},
   "outputs": [
    {
     "data": {
      "text/html": [
       "<div>\n",
       "<style scoped>\n",
       "    .dataframe tbody tr th:only-of-type {\n",
       "        vertical-align: middle;\n",
       "    }\n",
       "\n",
       "    .dataframe tbody tr th {\n",
       "        vertical-align: top;\n",
       "    }\n",
       "\n",
       "    .dataframe thead th {\n",
       "        text-align: right;\n",
       "    }\n",
       "</style>\n",
       "<table border=\"1\" class=\"dataframe\">\n",
       "  <thead>\n",
       "    <tr style=\"text-align: right;\">\n",
       "      <th></th>\n",
       "      <th>Province_State</th>\n",
       "      <th>First_Death</th>\n",
       "      <th>County_Name</th>\n",
       "    </tr>\n",
       "  </thead>\n",
       "  <tbody>\n",
       "    <tr>\n",
       "      <th>1</th>\n",
       "      <td>Guam</td>\n",
       "      <td>2020-03-22</td>\n",
       "      <td>Guam</td>\n",
       "    </tr>\n",
       "    <tr>\n",
       "      <th>2</th>\n",
       "      <td>Northern Mariana Islands</td>\n",
       "      <td>2020-04-01</td>\n",
       "      <td>Northern Mariana Islands</td>\n",
       "    </tr>\n",
       "    <tr>\n",
       "      <th>3</th>\n",
       "      <td>Puerto Rico</td>\n",
       "      <td>2020-03-21</td>\n",
       "      <td>Puerto Rico</td>\n",
       "    </tr>\n",
       "    <tr>\n",
       "      <th>4</th>\n",
       "      <td>Virgin Islands</td>\n",
       "      <td>2020-04-05</td>\n",
       "      <td>Virgin Islands</td>\n",
       "    </tr>\n",
       "    <tr>\n",
       "      <th>5</th>\n",
       "      <td>Alabama</td>\n",
       "      <td>2020-04-07</td>\n",
       "      <td>Autauga</td>\n",
       "    </tr>\n",
       "    <tr>\n",
       "      <th>6</th>\n",
       "      <td>Alabama</td>\n",
       "      <td>2020-03-29</td>\n",
       "      <td>Baldwin</td>\n",
       "    </tr>\n",
       "    <tr>\n",
       "      <th>12</th>\n",
       "      <td>Alabama</td>\n",
       "      <td>2020-04-17</td>\n",
       "      <td>Calhoun</td>\n",
       "    </tr>\n",
       "    <tr>\n",
       "      <th>13</th>\n",
       "      <td>Alabama</td>\n",
       "      <td>2020-03-29</td>\n",
       "      <td>Chambers</td>\n",
       "    </tr>\n",
       "    <tr>\n",
       "      <th>21</th>\n",
       "      <td>Alabama</td>\n",
       "      <td>2020-04-07</td>\n",
       "      <td>Colbert</td>\n",
       "    </tr>\n",
       "    <tr>\n",
       "      <th>23</th>\n",
       "      <td>Alabama</td>\n",
       "      <td>2020-04-14</td>\n",
       "      <td>Coosa</td>\n",
       "    </tr>\n",
       "  </tbody>\n",
       "</table>\n",
       "</div>"
      ],
      "text/plain": [
       "              Province_State First_Death               County_Name\n",
       "1                       Guam  2020-03-22                      Guam\n",
       "2   Northern Mariana Islands  2020-04-01  Northern Mariana Islands\n",
       "3                Puerto Rico  2020-03-21               Puerto Rico\n",
       "4             Virgin Islands  2020-04-05            Virgin Islands\n",
       "5                    Alabama  2020-04-07                   Autauga\n",
       "6                    Alabama  2020-03-29                   Baldwin\n",
       "12                   Alabama  2020-04-17                   Calhoun\n",
       "13                   Alabama  2020-03-29                  Chambers\n",
       "21                   Alabama  2020-04-07                   Colbert\n",
       "23                   Alabama  2020-04-14                     Coosa"
      ]
     },
     "execution_count": 11,
     "metadata": {},
     "output_type": "execute_result"
    }
   ],
   "source": [
    "data_time_case['County_Name'] = data_time_case['Combined_Key'].str.split(',').str[0]\n",
    "data_first_case = data_time_case[['Province_State', 'First_Case', 'First_Hundred_Case', 'County_Name']]\n",
    "data_time_death['County_Name'] = data_time_death['Combined_Key'].str.split(',').str[0]\n",
    "data_first_death = data_time_death[['Province_State', 'First_Death', 'County_Name']]\n",
    "data_first_death.head(10)"
   ]
  },
  {
   "cell_type": "markdown",
   "metadata": {
    "colab_type": "text",
    "id": "d49URzdV1Bwn"
   },
   "source": [
    "# EDA"
   ]
  },
  {
   "cell_type": "markdown",
   "metadata": {
    "colab_type": "text",
    "id": "Se8w0zna1Bwo"
   },
   "source": [
    "## Mortality rate"
   ]
  },
  {
   "cell_type": "markdown",
   "metadata": {
    "colab_type": "text",
    "id": "16Q1m4a71Bwo"
   },
   "source": [
    "Let's do some visualization and see whether there are some relationship between different variables."
   ]
  },
  {
   "cell_type": "markdown",
   "metadata": {
    "colab_type": "text",
    "id": "qW_FX47B1Bwp"
   },
   "source": [
    "### Mortality rates' outlier and overlapping points"
   ]
  },
  {
   "cell_type": "markdown",
   "metadata": {
    "colab_type": "text",
    "id": "4K-6qho91Bwp"
   },
   "source": [
    "Plot the distribution of mortality rate and see if we can find something interesting."
   ]
  },
  {
   "cell_type": "code",
   "execution_count": 12,
   "metadata": {
    "colab": {},
    "colab_type": "code",
    "id": "Y0jivfpp1Bwp",
    "outputId": "e43efa01-4071-47c1-f255-9210b0bd339b",
    "scrolled": false
   },
   "outputs": [
    {
     "data": {
      "text/plain": [
       "<matplotlib.axes._subplots.AxesSubplot at 0x1af708e4208>"
      ]
     },
     "execution_count": 12,
     "metadata": {},
     "output_type": "execute_result"
    },
    {
     "data": {
      "image/png": "[encoded data removed]",
      "text/plain": [
       "<Figure size 360x360 with 1 Axes>"
      ]
     },
     "metadata": {
      "needs_background": "light"
     },
     "output_type": "display_data"
    },
    {
     "data": {
      "image/png": "[encoded data removed]",
      "text/plain": [
       "<Figure size 360x360 with 1 Axes>"
      ]
     },
     "metadata": {
      "needs_background": "light"
     },
     "output_type": "display_data"
    }
   ],
   "source": [
    "mortality_rate = data1['Mortality_Rate']\n",
    "#operate_data2['mortality_rate'] = operate_data2[operate_data2['State'].isin(mortality_rate.index)]\n",
    "\n",
    "plt.figure(figsize = (5,5))\n",
    "sns.distplot(data1['Mortality_Rate'])\n",
    "plt.figure(figsize = (5,5))\n",
    "sns.scatterplot(x=data1['Province_State'],y=data1['Mortality_Rate'])"
   ]
  },
  {
   "cell_type": "code",
   "execution_count": 13,
   "metadata": {
    "colab": {},
    "colab_type": "code",
    "id": "xauhnf8E1Bwr"
   },
   "outputs": [],
   "source": [
    "#mortality_rate.value_counts()\n",
    "#data1[data1['Mortality_Rate']>8]"
   ]
  },
  {
   "cell_type": "markdown",
   "metadata": {
    "colab_type": "text",
    "id": "dckIeUgZ1Bwt"
   },
   "source": [
    "Two interesting things to note: \n",
    "\n",
    "1: overlapping: there are 28 points of 0 mortality rate.\n",
    "\n",
    "2: outliers: three states have mortality rate>8%. It seems like they have high mortality rates because they have pretty small population? The confirmed cases and death cases are pretty low."
   ]
  },
  {
   "cell_type": "markdown",
   "metadata": {
    "colab_type": "text",
    "id": "1Tn-UmhX1Bwu"
   },
   "source": [
    "## Update state representation"
   ]
  },
  {
   "cell_type": "markdown",
   "metadata": {
    "colab_type": "text",
    "id": "6GyGIIC_1Bwu"
   },
   "source": [
    "For table 2, there are >150 entries with NaN values in \"State\". Here we add a new column to table 2 called \"State update\", where we fill in the NaN values for State based on the state abbreviation column."
   ]
  },
  {
   "cell_type": "code",
   "execution_count": 14,
   "metadata": {
    "colab": {
     "base_uri": "https://localhost:8080/",
     "height": 229
    },
    "colab_type": "code",
    "executionInfo": {
     "elapsed": 786,
     "status": "error",
     "timestamp": 1588967590810,
     "user": {
      "displayName": "Eric Yang",
      "photoUrl": "",
      "userId": "16540930875245764335"
     },
     "user_tz": 420
    },
    "id": "iBGk95gt1Bwu",
    "outputId": "822b6ef2-48ca-4aa0-d587-d3abd301fb9c"
   },
   "outputs": [
    {
     "data": {
      "text/plain": [
       "0"
      ]
     },
     "execution_count": 14,
     "metadata": {},
     "output_type": "execute_result"
    }
   ],
   "source": [
    "state_abbreviation = data2.groupby(['StateName', 'State']).agg(sum)#['StateName']\n",
    "state_dict_original = state_abbreviation.reset_index()[['StateName', 'State']]\n",
    "new_state_df = pd.DataFrame({'StateName': ['AK','VI', 'PR', \"HI\", 'GU',\"AS\",'MP'], \n",
    "                             'State': ['Alaska', 'Virgin Islands','Puerto Rico','Hawaii', \"Guam\",'American Samoa'\n",
    "                                      ,'Northern Marianas']})\n",
    "state_dict_combined = pd.concat([state_dict_original, new_state_df])\n",
    "state_dict = state_dict_combined.set_index('StateName')['State']\n",
    "mapped_state = data2['StateName'].map(state_dict)\n",
    "mapped_state.isna().sum()\n",
    "#state_dict"
   ]
  },
  {
   "cell_type": "markdown",
   "metadata": {
    "colab_type": "text",
    "id": "EtgVglZU1Bww"
   },
   "source": [
    "## Append mortality to table 2"
   ]
  },
  {
   "cell_type": "markdown",
   "metadata": {
    "colab_type": "text",
    "id": "xaaIk1bN1Bww"
   },
   "source": [
    "Here we add a new column to table 2 called \"Mortality Rate\", which corresponds to the \"Mortality_Rate\" column in table 1, and mapped the mortality rate to each county based on which state it is in."
   ]
  },
  {
   "cell_type": "markdown",
   "metadata": {
    "colab_type": "text",
    "id": "EvUjoADw1Bwx"
   },
   "source": [
    "**Question about methodology**: Is it valid to take the aggregate data from a bigger granularity (state) to a data of lower granularity (county)? The mortality rate in different county is different, and since each county has different population, we cannot generalize one state's mortality rate to all counties in it?\n",
    "\n"
   ]
  },
  {
   "cell_type": "code",
   "execution_count": 15,
   "metadata": {
    "colab": {},
    "colab_type": "code",
    "id": "xTgGEgY11Bwx"
   },
   "outputs": [
    {
     "name": "stderr",
     "output_type": "stream",
     "text": [
      "D:\\Anaconda3\\lib\\site-packages\\ipykernel_launcher.py:1: SettingWithCopyWarning: \n",
      "A value is trying to be set on a copy of a slice from a DataFrame.\n",
      "Try using .loc[row_indexer,col_indexer] = value instead\n",
      "\n",
      "See the caveats in the documentation: https://pandas.pydata.org/pandas-docs/stable/user_guide/indexing.html#returning-a-view-versus-a-copy\n",
      "  \"\"\"Entry point for launching an IPython kernel.\n",
      "D:\\Anaconda3\\lib\\site-packages\\ipykernel_launcher.py:5: SettingWithCopyWarning: \n",
      "A value is trying to be set on a copy of a slice from a DataFrame.\n",
      "Try using .loc[row_indexer,col_indexer] = value instead\n",
      "\n",
      "See the caveats in the documentation: https://pandas.pydata.org/pandas-docs/stable/user_guide/indexing.html#returning-a-view-versus-a-copy\n",
      "  \"\"\"\n"
     ]
    },
    {
     "data": {
      "text/html": [
       "<div>\n",
       "<style scoped>\n",
       "    .dataframe tbody tr th:only-of-type {\n",
       "        vertical-align: middle;\n",
       "    }\n",
       "\n",
       "    .dataframe tbody tr th {\n",
       "        vertical-align: top;\n",
       "    }\n",
       "\n",
       "    .dataframe thead th {\n",
       "        text-align: right;\n",
       "    }\n",
       "</style>\n",
       "<table border=\"1\" class=\"dataframe\">\n",
       "  <thead>\n",
       "    <tr style=\"text-align: right;\">\n",
       "      <th></th>\n",
       "      <th>countyFIPS</th>\n",
       "      <th>STATEFP</th>\n",
       "      <th>COUNTYFP</th>\n",
       "      <th>CountyName</th>\n",
       "      <th>StateName</th>\n",
       "      <th>State</th>\n",
       "      <th>lat</th>\n",
       "      <th>lon</th>\n",
       "      <th>POP_LATITUDE</th>\n",
       "      <th>POP_LONGITUDE</th>\n",
       "      <th>...</th>\n",
       "      <th>restaurant dine-in</th>\n",
       "      <th>entertainment/gym</th>\n",
       "      <th>federal guidelines</th>\n",
       "      <th>foreign travel ban</th>\n",
       "      <th>SVIPercentile</th>\n",
       "      <th>HPSAShortage</th>\n",
       "      <th>HPSAServedPop</th>\n",
       "      <th>HPSAUnderservedPop</th>\n",
       "      <th>State updated</th>\n",
       "      <th>Mortality Rate</th>\n",
       "    </tr>\n",
       "  </thead>\n",
       "  <tbody>\n",
       "    <tr>\n",
       "      <th>0</th>\n",
       "      <td>01001</td>\n",
       "      <td>1.0</td>\n",
       "      <td>1.0</td>\n",
       "      <td>Autauga</td>\n",
       "      <td>AL</td>\n",
       "      <td>Alabama</td>\n",
       "      <td>32.540091</td>\n",
       "      <td>-86.645649</td>\n",
       "      <td>32.500389</td>\n",
       "      <td>-86.494165</td>\n",
       "      <td>...</td>\n",
       "      <td>2020-03-19</td>\n",
       "      <td>2020-03-28</td>\n",
       "      <td>2020-03-16</td>\n",
       "      <td>2020-03-11</td>\n",
       "      <td>0.4354</td>\n",
       "      <td>NaN</td>\n",
       "      <td>NaN</td>\n",
       "      <td>NaN</td>\n",
       "      <td>Alabama</td>\n",
       "      <td>3.247029</td>\n",
       "    </tr>\n",
       "    <tr>\n",
       "      <th>1</th>\n",
       "      <td>01003</td>\n",
       "      <td>1.0</td>\n",
       "      <td>3.0</td>\n",
       "      <td>Baldwin</td>\n",
       "      <td>AL</td>\n",
       "      <td>Alabama</td>\n",
       "      <td>30.738314</td>\n",
       "      <td>-87.726272</td>\n",
       "      <td>30.548923</td>\n",
       "      <td>-87.762381</td>\n",
       "      <td>...</td>\n",
       "      <td>2020-03-19</td>\n",
       "      <td>2020-03-28</td>\n",
       "      <td>2020-03-16</td>\n",
       "      <td>2020-03-11</td>\n",
       "      <td>0.2162</td>\n",
       "      <td>NaN</td>\n",
       "      <td>NaN</td>\n",
       "      <td>NaN</td>\n",
       "      <td>Alabama</td>\n",
       "      <td>3.247029</td>\n",
       "    </tr>\n",
       "    <tr>\n",
       "      <th>2</th>\n",
       "      <td>01005</td>\n",
       "      <td>1.0</td>\n",
       "      <td>5.0</td>\n",
       "      <td>Barbour</td>\n",
       "      <td>AL</td>\n",
       "      <td>Alabama</td>\n",
       "      <td>31.874030</td>\n",
       "      <td>-85.397327</td>\n",
       "      <td>31.844036</td>\n",
       "      <td>-85.310038</td>\n",
       "      <td>...</td>\n",
       "      <td>2020-03-19</td>\n",
       "      <td>2020-03-28</td>\n",
       "      <td>2020-03-16</td>\n",
       "      <td>2020-03-11</td>\n",
       "      <td>0.9959</td>\n",
       "      <td>6.08</td>\n",
       "      <td>5400.0</td>\n",
       "      <td>18241.0</td>\n",
       "      <td>Alabama</td>\n",
       "      <td>3.247029</td>\n",
       "    </tr>\n",
       "    <tr>\n",
       "      <th>3</th>\n",
       "      <td>01007</td>\n",
       "      <td>1.0</td>\n",
       "      <td>7.0</td>\n",
       "      <td>Bibb</td>\n",
       "      <td>AL</td>\n",
       "      <td>Alabama</td>\n",
       "      <td>32.999024</td>\n",
       "      <td>-87.125260</td>\n",
       "      <td>33.030921</td>\n",
       "      <td>-87.127659</td>\n",
       "      <td>...</td>\n",
       "      <td>2020-03-19</td>\n",
       "      <td>2020-03-28</td>\n",
       "      <td>2020-03-16</td>\n",
       "      <td>2020-03-11</td>\n",
       "      <td>0.6003</td>\n",
       "      <td>2.75</td>\n",
       "      <td>14980.0</td>\n",
       "      <td>6120.0</td>\n",
       "      <td>Alabama</td>\n",
       "      <td>3.247029</td>\n",
       "    </tr>\n",
       "    <tr>\n",
       "      <th>4</th>\n",
       "      <td>01009</td>\n",
       "      <td>1.0</td>\n",
       "      <td>9.0</td>\n",
       "      <td>Blount</td>\n",
       "      <td>AL</td>\n",
       "      <td>Alabama</td>\n",
       "      <td>33.990440</td>\n",
       "      <td>-86.562711</td>\n",
       "      <td>33.955243</td>\n",
       "      <td>-86.591491</td>\n",
       "      <td>...</td>\n",
       "      <td>2020-03-19</td>\n",
       "      <td>2020-03-28</td>\n",
       "      <td>2020-03-16</td>\n",
       "      <td>2020-03-11</td>\n",
       "      <td>0.4242</td>\n",
       "      <td>7.21</td>\n",
       "      <td>31850.0</td>\n",
       "      <td>25233.0</td>\n",
       "      <td>Alabama</td>\n",
       "      <td>3.247029</td>\n",
       "    </tr>\n",
       "  </tbody>\n",
       "</table>\n",
       "<p>5 rows × 89 columns</p>\n",
       "</div>"
      ],
      "text/plain": [
       "  countyFIPS  STATEFP  COUNTYFP CountyName StateName    State        lat  \\\n",
       "0      01001      1.0       1.0    Autauga        AL  Alabama  32.540091   \n",
       "1      01003      1.0       3.0    Baldwin        AL  Alabama  30.738314   \n",
       "2      01005      1.0       5.0    Barbour        AL  Alabama  31.874030   \n",
       "3      01007      1.0       7.0       Bibb        AL  Alabama  32.999024   \n",
       "4      01009      1.0       9.0     Blount        AL  Alabama  33.990440   \n",
       "\n",
       "         lon  POP_LATITUDE  POP_LONGITUDE  ... restaurant dine-in  \\\n",
       "0 -86.645649     32.500389     -86.494165  ...         2020-03-19   \n",
       "1 -87.726272     30.548923     -87.762381  ...         2020-03-19   \n",
       "2 -85.397327     31.844036     -85.310038  ...         2020-03-19   \n",
       "3 -87.125260     33.030921     -87.127659  ...         2020-03-19   \n",
       "4 -86.562711     33.955243     -86.591491  ...         2020-03-19   \n",
       "\n",
       "  entertainment/gym  federal guidelines  foreign travel ban  SVIPercentile  \\\n",
       "0        2020-03-28          2020-03-16          2020-03-11         0.4354   \n",
       "1        2020-03-28          2020-03-16          2020-03-11         0.2162   \n",
       "2        2020-03-28          2020-03-16          2020-03-11         0.9959   \n",
       "3        2020-03-28          2020-03-16          2020-03-11         0.6003   \n",
       "4        2020-03-28          2020-03-16          2020-03-11         0.4242   \n",
       "\n",
       "   HPSAShortage  HPSAServedPop  HPSAUnderservedPop  State updated  \\\n",
       "0           NaN            NaN                 NaN        Alabama   \n",
       "1           NaN            NaN                 NaN        Alabama   \n",
       "2          6.08         5400.0             18241.0        Alabama   \n",
       "3          2.75        14980.0              6120.0        Alabama   \n",
       "4          7.21        31850.0             25233.0        Alabama   \n",
       "\n",
       "   Mortality Rate  \n",
       "0        3.247029  \n",
       "1        3.247029  \n",
       "2        3.247029  \n",
       "3        3.247029  \n",
       "4        3.247029  \n",
       "\n",
       "[5 rows x 89 columns]"
      ]
     },
     "execution_count": 15,
     "metadata": {},
     "output_type": "execute_result"
    }
   ],
   "source": [
    "data2['State updated'] = mapped_state\n",
    "mortality_dict = data1[data1['Country_Region'] == 'US'][['Province_State', 'Mortality_Rate']].set_index('Province_State')['Mortality_Rate']\n",
    "mapped_mortality = data2['State updated'].map(mortality_dict)\n",
    "mapped_mortality.isna().sum() #should be American Samoa \n",
    "data2['Mortality Rate'] = mapped_mortality\n",
    "data2.head()\n"
   ]
  },
  {
   "cell_type": "markdown",
   "metadata": {},
   "source": [
    "Plot when does each county discover the first case/death casued by the virus"
   ]
  },
  {
   "cell_type": "code",
   "execution_count": 16,
   "metadata": {},
   "outputs": [
    {
     "data": {
      "text/plain": [
       "Text(0.5, 1.0, 'Distribution of First discovered case by county')"
      ]
     },
     "execution_count": 16,
     "metadata": {},
     "output_type": "execute_result"
    },
    {
     "data": {
      "image/png": "[encoded data removed]",
      "text/plain": [
       "<Figure size 864x648 with 1 Axes>"
      ]
     },
     "metadata": {
      "needs_background": "light"
     },
     "output_type": "display_data"
    }
   ],
   "source": [
    "first_case_count = data_time_case['First_Case'].value_counts()\n",
    "plt.figure(figsize=(12, 9))\n",
    "plt.bar(first_case_count.index, first_case_count.values)\n",
    "plt.title(\"Distribution of First discovered case by county\")"
   ]
  },
  {
   "cell_type": "code",
   "execution_count": 17,
   "metadata": {},
   "outputs": [
    {
     "data": {
      "image/png": "[encoded data removed]",
      "text/plain": [
       "<Figure size 864x648 with 1 Axes>"
      ]
     },
     "metadata": {
      "needs_background": "light"
     },
     "output_type": "display_data"
    }
   ],
   "source": [
    "first_death_count = data_time_death['First_Death'].value_counts()\n",
    "plt.figure(figsize=(12, 9))\n",
    "plt.bar(first_death_count.index, first_death_count.values)\n",
    "plt.show()"
   ]
  },
  {
   "cell_type": "markdown",
   "metadata": {
    "colab_type": "text",
    "id": "6faOxzqF1Bwz"
   },
   "source": [
    "## Feature Selection"
   ]
  },
  {
   "cell_type": "markdown",
   "metadata": {
    "colab_type": "text",
    "id": "b_ZCouiR1Bwz"
   },
   "source": [
    "To begin with, we first take an \"educated guess\" and select a few features of interest in the second table, which we think will affect the death rate of Covid 19. \n",
    "\n",
    "We also want to drop American Samoa and Northern Marianas because they do not have mortality rates. We also manually fill in the mortality rate for DC (don't know why it was not there). "
   ]
  },
  {
   "cell_type": "code",
   "execution_count": 18,
   "metadata": {
    "colab": {},
    "colab_type": "code",
    "id": "X898b9pg1Bwz",
    "outputId": "f77135cc-d32d-4ee7-f7d1-3e568f51961f"
   },
   "outputs": [
    {
     "data": {
      "text/html": [
       "<div>\n",
       "<style scoped>\n",
       "    .dataframe tbody tr th:only-of-type {\n",
       "        vertical-align: middle;\n",
       "    }\n",
       "\n",
       "    .dataframe tbody tr th {\n",
       "        vertical-align: top;\n",
       "    }\n",
       "\n",
       "    .dataframe thead th {\n",
       "        text-align: right;\n",
       "    }\n",
       "</style>\n",
       "<table border=\"1\" class=\"dataframe\">\n",
       "  <thead>\n",
       "    <tr style=\"text-align: right;\">\n",
       "      <th></th>\n",
       "      <th>CountyName</th>\n",
       "      <th>State updated</th>\n",
       "      <th>stay at home</th>\n",
       "      <th>public schools</th>\n",
       "      <th>&gt;500 gatherings</th>\n",
       "      <th>entertainment/gym</th>\n",
       "      <th>restaurant dine-in</th>\n",
       "      <th>Mortality Rate</th>\n",
       "    </tr>\n",
       "  </thead>\n",
       "  <tbody>\n",
       "    <tr>\n",
       "      <th>0</th>\n",
       "      <td>Autauga</td>\n",
       "      <td>Alabama</td>\n",
       "      <td>2020-04-04</td>\n",
       "      <td>2020-03-16</td>\n",
       "      <td>2020-03-13</td>\n",
       "      <td>2020-03-28</td>\n",
       "      <td>2020-03-19</td>\n",
       "      <td>3.247029</td>\n",
       "    </tr>\n",
       "    <tr>\n",
       "      <th>1</th>\n",
       "      <td>Baldwin</td>\n",
       "      <td>Alabama</td>\n",
       "      <td>2020-04-04</td>\n",
       "      <td>2020-03-16</td>\n",
       "      <td>2020-03-13</td>\n",
       "      <td>2020-03-28</td>\n",
       "      <td>2020-03-19</td>\n",
       "      <td>3.247029</td>\n",
       "    </tr>\n",
       "    <tr>\n",
       "      <th>2</th>\n",
       "      <td>Barbour</td>\n",
       "      <td>Alabama</td>\n",
       "      <td>2020-04-04</td>\n",
       "      <td>2020-03-16</td>\n",
       "      <td>2020-03-13</td>\n",
       "      <td>2020-03-28</td>\n",
       "      <td>2020-03-19</td>\n",
       "      <td>3.247029</td>\n",
       "    </tr>\n",
       "    <tr>\n",
       "      <th>3</th>\n",
       "      <td>Bibb</td>\n",
       "      <td>Alabama</td>\n",
       "      <td>2020-04-04</td>\n",
       "      <td>2020-03-16</td>\n",
       "      <td>2020-03-13</td>\n",
       "      <td>2020-03-28</td>\n",
       "      <td>2020-03-19</td>\n",
       "      <td>3.247029</td>\n",
       "    </tr>\n",
       "    <tr>\n",
       "      <th>4</th>\n",
       "      <td>Blount</td>\n",
       "      <td>Alabama</td>\n",
       "      <td>2020-04-04</td>\n",
       "      <td>2020-03-16</td>\n",
       "      <td>2020-03-13</td>\n",
       "      <td>2020-03-28</td>\n",
       "      <td>2020-03-19</td>\n",
       "      <td>3.247029</td>\n",
       "    </tr>\n",
       "    <tr>\n",
       "      <th>...</th>\n",
       "      <td>...</td>\n",
       "      <td>...</td>\n",
       "      <td>...</td>\n",
       "      <td>...</td>\n",
       "      <td>...</td>\n",
       "      <td>...</td>\n",
       "      <td>...</td>\n",
       "      <td>...</td>\n",
       "    </tr>\n",
       "    <tr>\n",
       "      <th>3235</th>\n",
       "      <td>Petersburg Borough</td>\n",
       "      <td>Alaska</td>\n",
       "      <td>2020-03-28</td>\n",
       "      <td>2020-03-19</td>\n",
       "      <td>2020-03-24</td>\n",
       "      <td>2020-03-17</td>\n",
       "      <td>2020-03-17</td>\n",
       "      <td>2.866242</td>\n",
       "    </tr>\n",
       "    <tr>\n",
       "      <th>3236</th>\n",
       "      <td>Prince of Wales-Hyder Census Area</td>\n",
       "      <td>Alaska</td>\n",
       "      <td>2020-03-28</td>\n",
       "      <td>2020-03-19</td>\n",
       "      <td>2020-03-24</td>\n",
       "      <td>2020-03-17</td>\n",
       "      <td>2020-03-17</td>\n",
       "      <td>2.866242</td>\n",
       "    </tr>\n",
       "    <tr>\n",
       "      <th>3237</th>\n",
       "      <td>Skagway Municipality</td>\n",
       "      <td>Alaska</td>\n",
       "      <td>2020-03-28</td>\n",
       "      <td>2020-03-19</td>\n",
       "      <td>2020-03-24</td>\n",
       "      <td>2020-03-17</td>\n",
       "      <td>2020-03-17</td>\n",
       "      <td>2.866242</td>\n",
       "    </tr>\n",
       "    <tr>\n",
       "      <th>3238</th>\n",
       "      <td>Wrangell City and Borough</td>\n",
       "      <td>Alaska</td>\n",
       "      <td>2020-03-28</td>\n",
       "      <td>2020-03-19</td>\n",
       "      <td>2020-03-24</td>\n",
       "      <td>2020-03-17</td>\n",
       "      <td>2020-03-17</td>\n",
       "      <td>2.866242</td>\n",
       "    </tr>\n",
       "    <tr>\n",
       "      <th>3239</th>\n",
       "      <td>Kalawao</td>\n",
       "      <td>Hawaii</td>\n",
       "      <td>2020-03-25</td>\n",
       "      <td>2020-03-23</td>\n",
       "      <td>2020-03-25</td>\n",
       "      <td>2020-03-25</td>\n",
       "      <td>2020-03-20</td>\n",
       "      <td>1.567944</td>\n",
       "    </tr>\n",
       "  </tbody>\n",
       "</table>\n",
       "<p>2652 rows × 8 columns</p>\n",
       "</div>"
      ],
      "text/plain": [
       "                             CountyName State updated stay at home  \\\n",
       "0                               Autauga       Alabama   2020-04-04   \n",
       "1                               Baldwin       Alabama   2020-04-04   \n",
       "2                               Barbour       Alabama   2020-04-04   \n",
       "3                                  Bibb       Alabama   2020-04-04   \n",
       "4                                Blount       Alabama   2020-04-04   \n",
       "...                                 ...           ...          ...   \n",
       "3235                 Petersburg Borough        Alaska   2020-03-28   \n",
       "3236  Prince of Wales-Hyder Census Area        Alaska   2020-03-28   \n",
       "3237               Skagway Municipality        Alaska   2020-03-28   \n",
       "3238          Wrangell City and Borough        Alaska   2020-03-28   \n",
       "3239                            Kalawao        Hawaii   2020-03-25   \n",
       "\n",
       "     public schools >500 gatherings entertainment/gym restaurant dine-in  \\\n",
       "0        2020-03-16      2020-03-13        2020-03-28         2020-03-19   \n",
       "1        2020-03-16      2020-03-13        2020-03-28         2020-03-19   \n",
       "2        2020-03-16      2020-03-13        2020-03-28         2020-03-19   \n",
       "3        2020-03-16      2020-03-13        2020-03-28         2020-03-19   \n",
       "4        2020-03-16      2020-03-13        2020-03-28         2020-03-19   \n",
       "...             ...             ...               ...                ...   \n",
       "3235     2020-03-19      2020-03-24        2020-03-17         2020-03-17   \n",
       "3236     2020-03-19      2020-03-24        2020-03-17         2020-03-17   \n",
       "3237     2020-03-19      2020-03-24        2020-03-17         2020-03-17   \n",
       "3238     2020-03-19      2020-03-24        2020-03-17         2020-03-17   \n",
       "3239     2020-03-23      2020-03-25        2020-03-25         2020-03-20   \n",
       "\n",
       "      Mortality Rate  \n",
       "0           3.247029  \n",
       "1           3.247029  \n",
       "2           3.247029  \n",
       "3           3.247029  \n",
       "4           3.247029  \n",
       "...              ...  \n",
       "3235        2.866242  \n",
       "3236        2.866242  \n",
       "3237        2.866242  \n",
       "3238        2.866242  \n",
       "3239        1.567944  \n",
       "\n",
       "[2652 rows x 8 columns]"
      ]
     },
     "execution_count": 18,
     "metadata": {},
     "output_type": "execute_result"
    }
   ],
   "source": [
    "operate_data2 = data2[['CountyName', 'State updated', 'stay at home', 'public schools', '>500 gatherings', 'entertainment/gym', 'restaurant dine-in',\n",
    "                                 'Mortality Rate']][data2['State updated'] != 'American Samoa'][data2['State updated'] != 'Northern Marianas']\n",
    "#operate_data2[operate_data2['CountyName']=='Washington']\n",
    "operate_data2['Mortality Rate'] = operate_data2['Mortality Rate'].fillna(3.413353)\n",
    "operate_data2_with_states = operate_data2\n",
    "operate_data2_with_states"
   ]
  },
  {
   "cell_type": "markdown",
   "metadata": {
    "colab_type": "text",
    "id": "qyKl5DGK1Bw2"
   },
   "source": [
    "##  Missing Values"
   ]
  },
  {
   "cell_type": "markdown",
   "metadata": {
    "colab_type": "text",
    "id": "2qkZZ_OK1Bw2"
   },
   "source": [
    "#2 Now we will look at missing values."
   ]
  },
  {
   "cell_type": "code",
   "execution_count": 19,
   "metadata": {
    "colab": {},
    "colab_type": "code",
    "id": "7p046CJ81Bw2",
    "outputId": "a84161e7-50b2-4f49-d8a7-723200ac2603",
    "scrolled": true
   },
   "outputs": [
    {
     "data": {
      "text/plain": [
       "CountyName            0\n",
       "State updated         0\n",
       "stay at home          0\n",
       "public schools        0\n",
       ">500 gatherings       0\n",
       "entertainment/gym     0\n",
       "restaurant dine-in    0\n",
       "Mortality Rate        0\n",
       "dtype: int64"
      ]
     },
     "execution_count": 19,
     "metadata": {},
     "output_type": "execute_result"
    }
   ],
   "source": [
    "operate_data2.isnull().sum()"
   ]
  },
  {
   "cell_type": "markdown",
   "metadata": {
    "colab_type": "text",
    "id": "PpcOge9V1Bw5"
   },
   "source": [
    "We should replace the NaN values of 'stay at home', 'public school', and '>500 gatherings' with the average value in their states. \n",
    "\n",
    "**For Now** for simplicity I will replace all values in the three columns with an average value of the whole table (which is incorrect but convenient). \n",
    "\n",
    "**An idea** We can also fill all the NaN values with .isna(method = 'ffill') to fill all the values with previous valid values, which saves more time and should work well, given that adjacent counties are likely to be in the same state.\n"
   ]
  },
  {
   "cell_type": "code",
   "execution_count": 20,
   "metadata": {
    "colab": {},
    "colab_type": "code",
    "id": "hFSCYnza1Bw5",
    "outputId": "c580db86-1802-4efc-d81e-a7eae67a3975",
    "scrolled": true
   },
   "outputs": [
    {
     "data": {
      "text/plain": [
       "CountyName            0\n",
       "State updated         0\n",
       "stay at home          0\n",
       "public schools        0\n",
       ">500 gatherings       0\n",
       "entertainment/gym     0\n",
       "restaurant dine-in    0\n",
       "Mortality Rate        0\n",
       "dtype: int64"
      ]
     },
     "execution_count": 20,
     "metadata": {},
     "output_type": "execute_result"
    }
   ],
   "source": [
    "operate_data2_with_states['stay at home'] = operate_data2_with_states['stay at home'].fillna(np.mean(operate_data2_with_states['stay at home']))\n",
    "operate_data2_with_states['public schools'] = operate_data2_with_states['public schools'].fillna(np.mean(operate_data2_with_states['public schools']))\n",
    "operate_data2_with_states['>500 gatherings'] = operate_data2_with_states['>500 gatherings'].fillna(np.mean(operate_data2_with_states['>500 gatherings']))\n",
    "operate_data2_with_states.isnull().sum()\n",
    "#operate_data2_with_states[operate_data2_with_states['stay at home'].isnull()]"
   ]
  },
  {
   "cell_type": "markdown",
   "metadata": {
    "colab_type": "text",
    "id": "ASvl_o8J1Bw7"
   },
   "source": [
    "Now we can see all the null values are filled."
   ]
  },
  {
   "cell_type": "markdown",
   "metadata": {
    "colab_type": "text",
    "id": "7kYfsFYE1Bw7"
   },
   "source": [
    "## Outliers"
   ]
  },
  {
   "cell_type": "markdown",
   "metadata": {
    "colab_type": "text",
    "id": "t9buP9m51Bw8"
   },
   "source": [
    "#3 Let's observe whether there is any outlier for each feature. "
   ]
  },
  {
   "cell_type": "code",
   "execution_count": 21,
   "metadata": {
    "colab": {},
    "colab_type": "code",
    "id": "v5tkMp_z1Bw8"
   },
   "outputs": [],
   "source": [
    "#operate_data2_with_states['stay at home'].value_counts()\n",
    "#operate_data2_with_states['public schools'].value_counts()\n",
    "#operate_data2_with_states['>500 gatherings'].value_counts()\n"
   ]
  },
  {
   "cell_type": "markdown",
   "metadata": {
    "colab_type": "text",
    "id": "kHaeKlgK1Bw9"
   },
   "source": [
    "By observing the value_counts, we find that there is no significant outlier. "
   ]
  },
  {
   "cell_type": "markdown",
   "metadata": {
    "colab_type": "text",
    "id": "ngnI2CI51Bw-"
   },
   "source": [
    "**To Do:** Here we can also draw some scatter plot to show the relation between some features we choose and the response vector (death rate), and show they have positive correlation."
   ]
  },
  {
   "cell_type": "markdown",
   "metadata": {},
   "source": [
    "## Join with first case/death"
   ]
  },
  {
   "cell_type": "code",
   "execution_count": 22,
   "metadata": {},
   "outputs": [
    {
     "ename": "SyntaxError",
     "evalue": "invalid syntax (<ipython-input-22-163aca3f4583>, line 1)",
     "output_type": "error",
     "traceback": [
      "\u001b[1;36m  File \u001b[1;32m\"<ipython-input-22-163aca3f4583>\"\u001b[1;36m, line \u001b[1;32m1\u001b[0m\n\u001b[1;33m    operate_data2_with_states = operate_data2_with_states.merge(data_time_case[[\"\", \"First_Case\", \"First_Hundred_Case\"]], on = )\u001b[0m\n\u001b[1;37m                                                                                                                               ^\u001b[0m\n\u001b[1;31mSyntaxError\u001b[0m\u001b[1;31m:\u001b[0m invalid syntax\n"
     ]
    }
   ],
   "source": [
    "operate_data2_with_states = operate_data2_with_states.merge(data_time_case[[\"\", \"First_Case\", \"First_Hundred_Case\"]], on = )"
   ]
  },
  {
   "cell_type": "markdown",
   "metadata": {
    "colab_type": "text",
    "id": "y_H5fPIH1Bw-"
   },
   "source": [
    "## PCA (for feature selection)"
   ]
  },
  {
   "cell_type": "markdown",
   "metadata": {
    "colab_type": "text",
    "id": "Q-K1LhDs1Bw-"
   },
   "source": [
    "I have copied the below text from lecture slides. Not entirely sure how we can use PCA, but it should be an idea in performing feature selection.\n",
    "\n",
    "Principal Component Analysis for Exploratory Data Analysis\n",
    "\n",
    "Goal: Plot high dimensional data as a 2 dimensional approximation that results from a linear combinations of attributes.\n",
    "\n",
    "Related Goal: Determine whether this two-dimensional plot is really showing the variability in the data. (If not, be wary of conclusions drawn using PCA.)\n",
    "\n",
    "PCA is appropriate  for EDA when:\n",
    "\n",
    "Visually identifying clusters of similar observations in high dimensions.\n",
    "\n",
    "You are still exploring the data.\n",
    "(If you already know what to predict, you probably don’t need PCA.)\n",
    "\n",
    "You have reason to believe that the data are inherently low rank: there are many attributes, but only a few (perhaps unobserved) attributes mostly determine the rest through a linear association.\n"
   ]
  },
  {
   "cell_type": "code",
   "execution_count": 23,
   "metadata": {
    "colab": {},
    "colab_type": "code",
    "id": "Br5UGYq_1Bw_",
    "outputId": "b44e75e1-d643-457e-d5f1-3edf3ab3e6b0"
   },
   "outputs": [
    {
     "data": {
      "text/html": [
       "<div>\n",
       "<style scoped>\n",
       "    .dataframe tbody tr th:only-of-type {\n",
       "        vertical-align: middle;\n",
       "    }\n",
       "\n",
       "    .dataframe tbody tr th {\n",
       "        vertical-align: top;\n",
       "    }\n",
       "\n",
       "    .dataframe thead th {\n",
       "        text-align: right;\n",
       "    }\n",
       "</style>\n",
       "<table border=\"1\" class=\"dataframe\">\n",
       "  <thead>\n",
       "    <tr style=\"text-align: right;\">\n",
       "      <th></th>\n",
       "      <th>lat</th>\n",
       "      <th>lon</th>\n",
       "      <th>POP_LATITUDE</th>\n",
       "      <th>POP_LONGITUDE</th>\n",
       "      <th>Rural-UrbanContinuumCode2013</th>\n",
       "      <th>PopulationEstimate2018</th>\n",
       "      <th>PopTotalMale2017</th>\n",
       "      <th>PopTotalFemale2017</th>\n",
       "      <th>FracMale2017</th>\n",
       "      <th>PopulationEstimate65+2017</th>\n",
       "      <th>...</th>\n",
       "      <th>3-YrMortalityAge65-74Years2015-17</th>\n",
       "      <th>3-YrMortalityAge75-84Years2015-17</th>\n",
       "      <th>3-YrMortalityAge85+Years2015-17</th>\n",
       "      <th>mortality2015-17Estimated</th>\n",
       "      <th>&gt;50 gatherings</th>\n",
       "      <th>SVIPercentile</th>\n",
       "      <th>HPSAShortage</th>\n",
       "      <th>HPSAServedPop</th>\n",
       "      <th>HPSAUnderservedPop</th>\n",
       "      <th>Mortality Rate</th>\n",
       "    </tr>\n",
       "  </thead>\n",
       "  <tbody>\n",
       "    <tr>\n",
       "      <th>0</th>\n",
       "      <td>-1.093880</td>\n",
       "      <td>0.339804</td>\n",
       "      <td>-1.030803</td>\n",
       "      <td>0.352162</td>\n",
       "      <td>-1.025461</td>\n",
       "      <td>-0.171903</td>\n",
       "      <td>-0.173050</td>\n",
       "      <td>-0.168916</td>\n",
       "      <td>-0.604568</td>\n",
       "      <td>-0.197577</td>\n",
       "      <td>...</td>\n",
       "      <td>-0.187041</td>\n",
       "      <td>-0.173053</td>\n",
       "      <td>-0.253513</td>\n",
       "      <td>0.000000</td>\n",
       "      <td>-0.331332</td>\n",
       "      <td>-0.311028</td>\n",
       "      <td>0.000000</td>\n",
       "      <td>0.000000</td>\n",
       "      <td>0.000000</td>\n",
       "      <td>-0.488962</td>\n",
       "    </tr>\n",
       "    <tr>\n",
       "      <th>1</th>\n",
       "      <td>-1.464034</td>\n",
       "      <td>0.249909</td>\n",
       "      <td>-1.392132</td>\n",
       "      <td>0.259859</td>\n",
       "      <td>-0.652003</td>\n",
       "      <td>0.279422</td>\n",
       "      <td>0.258560</td>\n",
       "      <td>0.273454</td>\n",
       "      <td>-0.651782</td>\n",
       "      <td>0.482441</td>\n",
       "      <td>...</td>\n",
       "      <td>0.519100</td>\n",
       "      <td>0.529638</td>\n",
       "      <td>0.325153</td>\n",
       "      <td>0.000000</td>\n",
       "      <td>-0.331332</td>\n",
       "      <td>-1.093325</td>\n",
       "      <td>0.000000</td>\n",
       "      <td>0.000000</td>\n",
       "      <td>0.000000</td>\n",
       "      <td>-0.488962</td>\n",
       "    </tr>\n",
       "    <tr>\n",
       "      <th>2</th>\n",
       "      <td>-1.230714</td>\n",
       "      <td>0.443649</td>\n",
       "      <td>-1.152332</td>\n",
       "      <td>0.438344</td>\n",
       "      <td>0.468372</td>\n",
       "      <td>-0.257265</td>\n",
       "      <td>-0.250473</td>\n",
       "      <td>-0.259472</td>\n",
       "      <td>1.152099</td>\n",
       "      <td>-0.270234</td>\n",
       "      <td>...</td>\n",
       "      <td>-0.290112</td>\n",
       "      <td>-0.296852</td>\n",
       "      <td>-0.302130</td>\n",
       "      <td>0.000000</td>\n",
       "      <td>-0.331332</td>\n",
       "      <td>1.689324</td>\n",
       "      <td>0.523368</td>\n",
       "      <td>-0.308851</td>\n",
       "      <td>0.501064</td>\n",
       "      <td>-0.488962</td>\n",
       "    </tr>\n",
       "    <tr>\n",
       "      <th>3</th>\n",
       "      <td>-0.999598</td>\n",
       "      <td>0.299906</td>\n",
       "      <td>-0.932571</td>\n",
       "      <td>0.306055</td>\n",
       "      <td>-1.398919</td>\n",
       "      <td>-0.264159</td>\n",
       "      <td>-0.257251</td>\n",
       "      <td>-0.267154</td>\n",
       "      <td>1.483912</td>\n",
       "      <td>-0.292721</td>\n",
       "      <td>...</td>\n",
       "      <td>-0.296690</td>\n",
       "      <td>-0.324750</td>\n",
       "      <td>-0.329404</td>\n",
       "      <td>0.000000</td>\n",
       "      <td>-0.331332</td>\n",
       "      <td>0.277479</td>\n",
       "      <td>-0.137200</td>\n",
       "      <td>0.192754</td>\n",
       "      <td>-0.287400</td>\n",
       "      <td>-0.488962</td>\n",
       "    </tr>\n",
       "    <tr>\n",
       "      <th>4</th>\n",
       "      <td>-0.795923</td>\n",
       "      <td>0.346704</td>\n",
       "      <td>-0.761426</td>\n",
       "      <td>0.345078</td>\n",
       "      <td>-1.398919</td>\n",
       "      <td>-0.165681</td>\n",
       "      <td>-0.163990</td>\n",
       "      <td>-0.163946</td>\n",
       "      <td>-0.325366</td>\n",
       "      <td>-0.158420</td>\n",
       "      <td>...</td>\n",
       "      <td>-0.103708</td>\n",
       "      <td>-0.105051</td>\n",
       "      <td>-0.214382</td>\n",
       "      <td>0.000000</td>\n",
       "      <td>-0.331332</td>\n",
       "      <td>-0.351000</td>\n",
       "      <td>0.747525</td>\n",
       "      <td>1.076060</td>\n",
       "      <td>0.955889</td>\n",
       "      <td>-0.488962</td>\n",
       "    </tr>\n",
       "    <tr>\n",
       "      <th>...</th>\n",
       "      <td>...</td>\n",
       "      <td>...</td>\n",
       "      <td>...</td>\n",
       "      <td>...</td>\n",
       "      <td>...</td>\n",
       "      <td>...</td>\n",
       "      <td>...</td>\n",
       "      <td>...</td>\n",
       "      <td>...</td>\n",
       "      <td>...</td>\n",
       "      <td>...</td>\n",
       "      <td>...</td>\n",
       "      <td>...</td>\n",
       "      <td>...</td>\n",
       "      <td>...</td>\n",
       "      <td>...</td>\n",
       "      <td>...</td>\n",
       "      <td>...</td>\n",
       "      <td>...</td>\n",
       "      <td>...</td>\n",
       "      <td>...</td>\n",
       "    </tr>\n",
       "    <tr>\n",
       "      <th>3235</th>\n",
       "      <td>-2.518018</td>\n",
       "      <td>0.843769</td>\n",
       "      <td>3.470812</td>\n",
       "      <td>-3.040962</td>\n",
       "      <td>1.588746</td>\n",
       "      <td>-0.317452</td>\n",
       "      <td>-0.316122</td>\n",
       "      <td>-0.316315</td>\n",
       "      <td>1.290283</td>\n",
       "      <td>-0.353225</td>\n",
       "      <td>...</td>\n",
       "      <td>6.679197</td>\n",
       "      <td>8.320262</td>\n",
       "      <td>8.025681</td>\n",
       "      <td>1.249337</td>\n",
       "      <td>0.751802</td>\n",
       "      <td>0.508385</td>\n",
       "      <td>-0.603367</td>\n",
       "      <td>-0.554941</td>\n",
       "      <td>-0.593327</td>\n",
       "      <td>-0.773220</td>\n",
       "    </tr>\n",
       "    <tr>\n",
       "      <th>3236</th>\n",
       "      <td>-2.518018</td>\n",
       "      <td>0.843769</td>\n",
       "      <td>3.218156</td>\n",
       "      <td>-3.000628</td>\n",
       "      <td>1.588746</td>\n",
       "      <td>-0.308558</td>\n",
       "      <td>-0.305997</td>\n",
       "      <td>-0.308802</td>\n",
       "      <td>2.014156</td>\n",
       "      <td>-0.344930</td>\n",
       "      <td>...</td>\n",
       "      <td>-0.406340</td>\n",
       "      <td>-0.403215</td>\n",
       "      <td>8.025681</td>\n",
       "      <td>1.249337</td>\n",
       "      <td>0.751802</td>\n",
       "      <td>0.869555</td>\n",
       "      <td>-0.385161</td>\n",
       "      <td>-0.536616</td>\n",
       "      <td>-0.343342</td>\n",
       "      <td>-0.773220</td>\n",
       "    </tr>\n",
       "    <tr>\n",
       "      <th>3237</th>\n",
       "      <td>-2.518018</td>\n",
       "      <td>0.843769</td>\n",
       "      <td>3.961818</td>\n",
       "      <td>-3.200824</td>\n",
       "      <td>1.588746</td>\n",
       "      <td>-0.323213</td>\n",
       "      <td>-0.322600</td>\n",
       "      <td>-0.321673</td>\n",
       "      <td>0.688751</td>\n",
       "      <td>-0.361900</td>\n",
       "      <td>...</td>\n",
       "      <td>-0.406340</td>\n",
       "      <td>-0.403215</td>\n",
       "      <td>8.025681</td>\n",
       "      <td>1.249337</td>\n",
       "      <td>0.751802</td>\n",
       "      <td>-1.263560</td>\n",
       "      <td>-0.545840</td>\n",
       "      <td>-0.582430</td>\n",
       "      <td>-0.528603</td>\n",
       "      <td>-0.773220</td>\n",
       "    </tr>\n",
       "    <tr>\n",
       "      <th>3238</th>\n",
       "      <td>-2.518018</td>\n",
       "      <td>0.843769</td>\n",
       "      <td>3.391770</td>\n",
       "      <td>-2.982432</td>\n",
       "      <td>1.588746</td>\n",
       "      <td>-0.319448</td>\n",
       "      <td>-0.318466</td>\n",
       "      <td>-0.318206</td>\n",
       "      <td>1.112554</td>\n",
       "      <td>-0.354044</td>\n",
       "      <td>...</td>\n",
       "      <td>-0.406340</td>\n",
       "      <td>-0.403215</td>\n",
       "      <td>8.025681</td>\n",
       "      <td>1.249337</td>\n",
       "      <td>0.751802</td>\n",
       "      <td>0.140077</td>\n",
       "      <td>-0.545840</td>\n",
       "      <td>-0.582430</td>\n",
       "      <td>-0.528603</td>\n",
       "      <td>-0.773220</td>\n",
       "    </tr>\n",
       "    <tr>\n",
       "      <th>3239</th>\n",
       "      <td>-2.518018</td>\n",
       "      <td>0.843769</td>\n",
       "      <td>-3.125288</td>\n",
       "      <td>-4.777882</td>\n",
       "      <td>-0.652003</td>\n",
       "      <td>-0.326158</td>\n",
       "      <td>-0.325749</td>\n",
       "      <td>-0.324478</td>\n",
       "      <td>-1.002043</td>\n",
       "      <td>-0.364638</td>\n",
       "      <td>...</td>\n",
       "      <td>-0.406340</td>\n",
       "      <td>-0.403215</td>\n",
       "      <td>8.025681</td>\n",
       "      <td>1.249337</td>\n",
       "      <td>1.022585</td>\n",
       "      <td>-0.736438</td>\n",
       "      <td>-0.545840</td>\n",
       "      <td>-0.582430</td>\n",
       "      <td>-0.528603</td>\n",
       "      <td>-1.742401</td>\n",
       "    </tr>\n",
       "  </tbody>\n",
       "</table>\n",
       "<p>2652 rows × 73 columns</p>\n",
       "</div>"
      ],
      "text/plain": [
       "           lat       lon  POP_LATITUDE  POP_LONGITUDE  \\\n",
       "0    -1.093880  0.339804     -1.030803       0.352162   \n",
       "1    -1.464034  0.249909     -1.392132       0.259859   \n",
       "2    -1.230714  0.443649     -1.152332       0.438344   \n",
       "3    -0.999598  0.299906     -0.932571       0.306055   \n",
       "4    -0.795923  0.346704     -0.761426       0.345078   \n",
       "...        ...       ...           ...            ...   \n",
       "3235 -2.518018  0.843769      3.470812      -3.040962   \n",
       "3236 -2.518018  0.843769      3.218156      -3.000628   \n",
       "3237 -2.518018  0.843769      3.961818      -3.200824   \n",
       "3238 -2.518018  0.843769      3.391770      -2.982432   \n",
       "3239 -2.518018  0.843769     -3.125288      -4.777882   \n",
       "\n",
       "      Rural-UrbanContinuumCode2013  PopulationEstimate2018  PopTotalMale2017  \\\n",
       "0                        -1.025461               -0.171903         -0.173050   \n",
       "1                        -0.652003                0.279422          0.258560   \n",
       "2                         0.468372               -0.257265         -0.250473   \n",
       "3                        -1.398919               -0.264159         -0.257251   \n",
       "4                        -1.398919               -0.165681         -0.163990   \n",
       "...                            ...                     ...               ...   \n",
       "3235                      1.588746               -0.317452         -0.316122   \n",
       "3236                      1.588746               -0.308558         -0.305997   \n",
       "3237                      1.588746               -0.323213         -0.322600   \n",
       "3238                      1.588746               -0.319448         -0.318466   \n",
       "3239                     -0.652003               -0.326158         -0.325749   \n",
       "\n",
       "      PopTotalFemale2017  FracMale2017  PopulationEstimate65+2017  ...  \\\n",
       "0              -0.168916     -0.604568                  -0.197577  ...   \n",
       "1               0.273454     -0.651782                   0.482441  ...   \n",
       "2              -0.259472      1.152099                  -0.270234  ...   \n",
       "3              -0.267154      1.483912                  -0.292721  ...   \n",
       "4              -0.163946     -0.325366                  -0.158420  ...   \n",
       "...                  ...           ...                        ...  ...   \n",
       "3235           -0.316315      1.290283                  -0.353225  ...   \n",
       "3236           -0.308802      2.014156                  -0.344930  ...   \n",
       "3237           -0.321673      0.688751                  -0.361900  ...   \n",
       "3238           -0.318206      1.112554                  -0.354044  ...   \n",
       "3239           -0.324478     -1.002043                  -0.364638  ...   \n",
       "\n",
       "      3-YrMortalityAge65-74Years2015-17  3-YrMortalityAge75-84Years2015-17  \\\n",
       "0                             -0.187041                          -0.173053   \n",
       "1                              0.519100                           0.529638   \n",
       "2                             -0.290112                          -0.296852   \n",
       "3                             -0.296690                          -0.324750   \n",
       "4                             -0.103708                          -0.105051   \n",
       "...                                 ...                                ...   \n",
       "3235                           6.679197                           8.320262   \n",
       "3236                          -0.406340                          -0.403215   \n",
       "3237                          -0.406340                          -0.403215   \n",
       "3238                          -0.406340                          -0.403215   \n",
       "3239                          -0.406340                          -0.403215   \n",
       "\n",
       "      3-YrMortalityAge85+Years2015-17  mortality2015-17Estimated  \\\n",
       "0                           -0.253513                   0.000000   \n",
       "1                            0.325153                   0.000000   \n",
       "2                           -0.302130                   0.000000   \n",
       "3                           -0.329404                   0.000000   \n",
       "4                           -0.214382                   0.000000   \n",
       "...                               ...                        ...   \n",
       "3235                         8.025681                   1.249337   \n",
       "3236                         8.025681                   1.249337   \n",
       "3237                         8.025681                   1.249337   \n",
       "3238                         8.025681                   1.249337   \n",
       "3239                         8.025681                   1.249337   \n",
       "\n",
       "      >50 gatherings  SVIPercentile  HPSAShortage  HPSAServedPop  \\\n",
       "0          -0.331332      -0.311028      0.000000       0.000000   \n",
       "1          -0.331332      -1.093325      0.000000       0.000000   \n",
       "2          -0.331332       1.689324      0.523368      -0.308851   \n",
       "3          -0.331332       0.277479     -0.137200       0.192754   \n",
       "4          -0.331332      -0.351000      0.747525       1.076060   \n",
       "...              ...            ...           ...            ...   \n",
       "3235        0.751802       0.508385     -0.603367      -0.554941   \n",
       "3236        0.751802       0.869555     -0.385161      -0.536616   \n",
       "3237        0.751802      -1.263560     -0.545840      -0.582430   \n",
       "3238        0.751802       0.140077     -0.545840      -0.582430   \n",
       "3239        1.022585      -0.736438     -0.545840      -0.582430   \n",
       "\n",
       "      HPSAUnderservedPop  Mortality Rate  \n",
       "0               0.000000       -0.488962  \n",
       "1               0.000000       -0.488962  \n",
       "2               0.501064       -0.488962  \n",
       "3              -0.287400       -0.488962  \n",
       "4               0.955889       -0.488962  \n",
       "...                  ...             ...  \n",
       "3235           -0.593327       -0.773220  \n",
       "3236           -0.343342       -0.773220  \n",
       "3237           -0.528603       -0.773220  \n",
       "3238           -0.528603       -0.773220  \n",
       "3239           -0.528603       -1.742401  \n",
       "\n",
       "[2652 rows x 73 columns]"
      ]
     },
     "execution_count": 23,
     "metadata": {},
     "output_type": "execute_result"
    }
   ],
   "source": [
    "data2_PCA = data2.select_dtypes(['number']).drop(columns=['STATEFP','COUNTYFP'])\n",
    "# center our data and normalize the variance\n",
    "df_mean = np.mean(data2_PCA)\n",
    "df_centered = data2_PCA - df_mean\n",
    "df_centered_scaled = df_centered / (np.var(df_centered))**0.5\n",
    "data2_PCA = df_centered_scaled\n",
    "data2_PCA_fillna =data2_PCA.fillna(method = 'ffill') #use the previous valid data to fill NaN,\n",
    "                                                    #good here since closeby county likely to be in the same State\n",
    "\n",
    "data2_PCA_fillna2 = data2_PCA_fillna.fillna(0) #fill NaN with no previous valid data (whole column is NaN)\n",
    "#sum(data2_PCA_fillna2.isna().sum())\n",
    "data2_PCA_fillna2"
   ]
  },
  {
   "cell_type": "code",
   "execution_count": 24,
   "metadata": {
    "colab": {},
    "colab_type": "code",
    "id": "GfXbdJ6U1BxA",
    "outputId": "3e6137b9-7020-48dd-f716-077b95d3d981"
   },
   "outputs": [
    {
     "data": {
      "image/png": "[encoded data removed]",
      "text/plain": [
       "<Figure size 432x288 with 1 Axes>"
      ]
     },
     "metadata": {
      "needs_background": "light"
     },
     "output_type": "display_data"
    }
   ],
   "source": [
    "#PCA \n",
    "u, s, vt = np.linalg.svd(data2_PCA_fillna2, full_matrices=False)\n",
    "P = u @ np.diag(s)\n",
    "df_1st_2_pcs =pd.DataFrame(P[:,0:2], columns=['pc1', 'pc2'])\n",
    "first_2_pcs = df_1st_2_pcs\n",
    "\n",
    "#jittered scatter plot (added noise)\n",
    "first_2_pcs_jittered = first_2_pcs + np.random.normal(0, 0.1, size = (len(first_2_pcs), 2))\n",
    "sns.scatterplot(data = first_2_pcs_jittered, x = \"pc1\", y = \"pc2\");\n",
    "\n",
    "#a better looking scatter plot with labels\n",
    "#import plotly.express as px\n",
    "#px.scatter(data_frame = first_2_pcs_jittered, x = \"pc1\", y = \"pc2\", text = list(df_1972_to_2016.index)).update_traces(textposition = 'top center')\n",
    "\n"
   ]
  },
  {
   "cell_type": "code",
   "execution_count": 25,
   "metadata": {
    "colab": {},
    "colab_type": "code",
    "id": "nWgLmFjN1BxC",
    "outputId": "68e4f7ed-3ace-47b5-ecb6-f7eee318a80c",
    "scrolled": false
   },
   "outputs": [
    {
     "data": {
      "image/png": "[encoded data removed]",
      "text/plain": [
       "<Figure size 720x720 with 1 Axes>"
      ]
     },
     "metadata": {
      "needs_background": "light"
     },
     "output_type": "display_data"
    }
   ],
   "source": [
    "#scree plot\n",
    "plt.figure(figsize = (10,10))\n",
    "x = list(range(1, s.shape[0]+1)) \n",
    "plt.plot(x, s**2 / sum(s**2)); \n",
    "plt.xticks(x, x);\n",
    "plt.xlabel('PC #');\n",
    "plt.ylabel('Fraction of Variance Explained');\n",
    "\n"
   ]
  },
  {
   "cell_type": "markdown",
   "metadata": {
    "colab_type": "text",
    "id": "9eSy1iLU1BxD"
   },
   "source": [
    "This plot doesn't make sense LOL why would latitude explain the variance this much. ???"
   ]
  },
  {
   "cell_type": "markdown",
   "metadata": {
    "colab_type": "text",
    "id": "D8YEZlNN1BxE"
   },
   "source": [
    "## 4. Train-Test Split"
   ]
  },
  {
   "cell_type": "markdown",
   "metadata": {
    "colab_type": "text",
    "id": "pw654jXw1BxE"
   },
   "source": [
    "#4 Let's do a train-test split."
   ]
  },
  {
   "cell_type": "code",
   "execution_count": 26,
   "metadata": {
    "colab": {},
    "colab_type": "code",
    "id": "KLNVlfrw1BxE"
   },
   "outputs": [],
   "source": [
    "from sklearn.model_selection import train_test_split\n",
    "\n",
    "train, test = train_test_split(operate_data2_with_states, test_size=0.1, random_state=42)"
   ]
  },
  {
   "cell_type": "markdown",
   "metadata": {
    "colab_type": "text",
    "id": "dluhwhzt1BxG"
   },
   "source": [
    "Let's do some feature selection. What are some good features to use to predict death rates? "
   ]
  },
  {
   "cell_type": "markdown",
   "metadata": {
    "colab_type": "text",
    "id": "o7-DvgxE1BxG"
   },
   "source": [
    "## Selecting features"
   ]
  },
  {
   "cell_type": "markdown",
   "metadata": {
    "colab_type": "text",
    "id": "b9-j12bP1BxG"
   },
   "source": [
    "Let's draw some scatter plot to see whether some features' values increase with mortality rates. "
   ]
  },
  {
   "cell_type": "code",
   "execution_count": 27,
   "metadata": {
    "colab": {},
    "colab_type": "code",
    "id": "zmCVw4FO1BxH",
    "outputId": "6306938f-5f7d-4b97-8ad1-5fe756688990"
   },
   "outputs": [
    {
     "data": {
      "text/plain": [
       "<Figure size 360x360 with 0 Axes>"
      ]
     },
     "execution_count": 27,
     "metadata": {},
     "output_type": "execute_result"
    },
    {
     "data": {
      "text/plain": [
       "<Figure size 360x360 with 0 Axes>"
      ]
     },
     "metadata": {},
     "output_type": "display_data"
    }
   ],
   "source": [
    "plt.figure(figsize = (5,5))\n",
    "#sns.regplot(operate_data2_with_states['Mortality_Rate'])"
   ]
  },
  {
   "cell_type": "code",
   "execution_count": 28,
   "metadata": {
    "colab": {},
    "colab_type": "code",
    "id": "Tbcp__dG1Bxo",
    "outputId": "d831ccbf-eb37-48c2-da98-dc7c6932c55e"
   },
   "outputs": [
    {
     "data": {
      "text/html": [
       "<div>\n",
       "<style scoped>\n",
       "    .dataframe tbody tr th:only-of-type {\n",
       "        vertical-align: middle;\n",
       "    }\n",
       "\n",
       "    .dataframe tbody tr th {\n",
       "        vertical-align: top;\n",
       "    }\n",
       "\n",
       "    .dataframe thead th {\n",
       "        text-align: right;\n",
       "    }\n",
       "</style>\n",
       "<table border=\"1\" class=\"dataframe\">\n",
       "  <thead>\n",
       "    <tr style=\"text-align: right;\">\n",
       "      <th></th>\n",
       "      <th>CountyName</th>\n",
       "      <th>State updated</th>\n",
       "      <th>stay at home</th>\n",
       "      <th>public schools</th>\n",
       "      <th>&gt;500 gatherings</th>\n",
       "      <th>entertainment/gym</th>\n",
       "      <th>restaurant dine-in</th>\n",
       "      <th>Mortality Rate</th>\n",
       "      <th>Province_State_x</th>\n",
       "      <th>First_Case</th>\n",
       "      <th>First_Hundred_Case</th>\n",
       "      <th>County_Name_x</th>\n",
       "      <th>Province_State_y</th>\n",
       "      <th>First_Death</th>\n",
       "      <th>County_Name_y</th>\n",
       "    </tr>\n",
       "  </thead>\n",
       "  <tbody>\n",
       "    <tr>\n",
       "      <th>0</th>\n",
       "      <td>Autauga</td>\n",
       "      <td>Alabama</td>\n",
       "      <td>2020-04-04</td>\n",
       "      <td>2020-03-16</td>\n",
       "      <td>2020-03-13</td>\n",
       "      <td>2020-03-28</td>\n",
       "      <td>2020-03-19</td>\n",
       "      <td>3.247029</td>\n",
       "      <td>Alabama</td>\n",
       "      <td>2020-03-24</td>\n",
       "      <td>2020-01-22</td>\n",
       "      <td>Autauga</td>\n",
       "      <td>Alabama</td>\n",
       "      <td>2020-04-07</td>\n",
       "      <td>Autauga</td>\n",
       "    </tr>\n",
       "    <tr>\n",
       "      <th>1</th>\n",
       "      <td>Baldwin</td>\n",
       "      <td>Alabama</td>\n",
       "      <td>2020-04-04</td>\n",
       "      <td>2020-03-16</td>\n",
       "      <td>2020-03-13</td>\n",
       "      <td>2020-03-28</td>\n",
       "      <td>2020-03-19</td>\n",
       "      <td>3.247029</td>\n",
       "      <td>Alabama</td>\n",
       "      <td>2020-03-15</td>\n",
       "      <td>2020-04-16</td>\n",
       "      <td>Baldwin</td>\n",
       "      <td>Alabama</td>\n",
       "      <td>2020-03-29</td>\n",
       "      <td>Baldwin</td>\n",
       "    </tr>\n",
       "    <tr>\n",
       "      <th>2</th>\n",
       "      <td>Barbour</td>\n",
       "      <td>Alabama</td>\n",
       "      <td>2020-04-04</td>\n",
       "      <td>2020-03-16</td>\n",
       "      <td>2020-03-13</td>\n",
       "      <td>2020-03-28</td>\n",
       "      <td>2020-03-19</td>\n",
       "      <td>3.247029</td>\n",
       "      <td>Alabama</td>\n",
       "      <td>2020-04-03</td>\n",
       "      <td>2020-01-22</td>\n",
       "      <td>Barbour</td>\n",
       "      <td>NaN</td>\n",
       "      <td>NaT</td>\n",
       "      <td>NaN</td>\n",
       "    </tr>\n",
       "    <tr>\n",
       "      <th>3</th>\n",
       "      <td>Bibb</td>\n",
       "      <td>Alabama</td>\n",
       "      <td>2020-04-04</td>\n",
       "      <td>2020-03-16</td>\n",
       "      <td>2020-03-13</td>\n",
       "      <td>2020-03-28</td>\n",
       "      <td>2020-03-19</td>\n",
       "      <td>3.247029</td>\n",
       "      <td>Alabama</td>\n",
       "      <td>2020-03-30</td>\n",
       "      <td>2020-01-22</td>\n",
       "      <td>Bibb</td>\n",
       "      <td>NaN</td>\n",
       "      <td>NaT</td>\n",
       "      <td>NaN</td>\n",
       "    </tr>\n",
       "    <tr>\n",
       "      <th>4</th>\n",
       "      <td>Blount</td>\n",
       "      <td>Alabama</td>\n",
       "      <td>2020-04-04</td>\n",
       "      <td>2020-03-16</td>\n",
       "      <td>2020-03-13</td>\n",
       "      <td>2020-03-28</td>\n",
       "      <td>2020-03-19</td>\n",
       "      <td>3.247029</td>\n",
       "      <td>Alabama</td>\n",
       "      <td>2020-03-25</td>\n",
       "      <td>2020-01-22</td>\n",
       "      <td>Blount</td>\n",
       "      <td>NaN</td>\n",
       "      <td>NaT</td>\n",
       "      <td>NaN</td>\n",
       "    </tr>\n",
       "  </tbody>\n",
       "</table>\n",
       "</div>"
      ],
      "text/plain": [
       "  CountyName State updated stay at home public schools >500 gatherings  \\\n",
       "0    Autauga       Alabama   2020-04-04     2020-03-16      2020-03-13   \n",
       "1    Baldwin       Alabama   2020-04-04     2020-03-16      2020-03-13   \n",
       "2    Barbour       Alabama   2020-04-04     2020-03-16      2020-03-13   \n",
       "3       Bibb       Alabama   2020-04-04     2020-03-16      2020-03-13   \n",
       "4     Blount       Alabama   2020-04-04     2020-03-16      2020-03-13   \n",
       "\n",
       "  entertainment/gym restaurant dine-in  Mortality Rate Province_State_x  \\\n",
       "0        2020-03-28         2020-03-19        3.247029          Alabama   \n",
       "1        2020-03-28         2020-03-19        3.247029          Alabama   \n",
       "2        2020-03-28         2020-03-19        3.247029          Alabama   \n",
       "3        2020-03-28         2020-03-19        3.247029          Alabama   \n",
       "4        2020-03-28         2020-03-19        3.247029          Alabama   \n",
       "\n",
       "  First_Case First_Hundred_Case County_Name_x Province_State_y First_Death  \\\n",
       "0 2020-03-24         2020-01-22       Autauga          Alabama  2020-04-07   \n",
       "1 2020-03-15         2020-04-16       Baldwin          Alabama  2020-03-29   \n",
       "2 2020-04-03         2020-01-22       Barbour              NaN         NaT   \n",
       "3 2020-03-30         2020-01-22          Bibb              NaN         NaT   \n",
       "4 2020-03-25         2020-01-22        Blount              NaN         NaT   \n",
       "\n",
       "  County_Name_y  \n",
       "0       Autauga  \n",
       "1       Baldwin  \n",
       "2           NaN  \n",
       "3           NaN  \n",
       "4           NaN  "
      ]
     },
     "execution_count": 28,
     "metadata": {},
     "output_type": "execute_result"
    }
   ],
   "source": [
    "operate_data2_with_states = operate_data2_with_states.merge(data_first_case, how = \"inner\", left_on = ['CountyName', 'State updated'], right_on = ['County_Name', 'Province_State'])\n",
    "operate_data2_with_states = operate_data2_with_states.merge(data_first_death, how = \"left\", left_on = ['CountyName', 'State updated'], right_on = ['County_Name', 'Province_State'])\n",
    "\n",
    "operate_data2_with_states.head()"
   ]
  },
  {
   "cell_type": "code",
   "execution_count": 29,
   "metadata": {},
   "outputs": [
    {
     "data": {
      "text/html": [
       "<div>\n",
       "<style scoped>\n",
       "    .dataframe tbody tr th:only-of-type {\n",
       "        vertical-align: middle;\n",
       "    }\n",
       "\n",
       "    .dataframe tbody tr th {\n",
       "        vertical-align: top;\n",
       "    }\n",
       "\n",
       "    .dataframe thead th {\n",
       "        text-align: right;\n",
       "    }\n",
       "</style>\n",
       "<table border=\"1\" class=\"dataframe\">\n",
       "  <thead>\n",
       "    <tr style=\"text-align: right;\">\n",
       "      <th></th>\n",
       "      <th>CountyName</th>\n",
       "      <th>State updated</th>\n",
       "      <th>stay at home</th>\n",
       "      <th>public schools</th>\n",
       "      <th>&gt;500 gatherings</th>\n",
       "      <th>entertainment/gym</th>\n",
       "      <th>restaurant dine-in</th>\n",
       "      <th>Mortality Rate</th>\n",
       "      <th>First_Case</th>\n",
       "      <th>First_Hundred_Case</th>\n",
       "      <th>First_Death</th>\n",
       "    </tr>\n",
       "  </thead>\n",
       "  <tbody>\n",
       "    <tr>\n",
       "      <th>0</th>\n",
       "      <td>Autauga</td>\n",
       "      <td>Alabama</td>\n",
       "      <td>2020-04-04</td>\n",
       "      <td>2020-03-16</td>\n",
       "      <td>2020-03-13</td>\n",
       "      <td>2020-03-28</td>\n",
       "      <td>2020-03-19</td>\n",
       "      <td>3.247029</td>\n",
       "      <td>2020-03-24</td>\n",
       "      <td>2020-01-22</td>\n",
       "      <td>2020-04-07</td>\n",
       "    </tr>\n",
       "    <tr>\n",
       "      <th>1</th>\n",
       "      <td>Baldwin</td>\n",
       "      <td>Alabama</td>\n",
       "      <td>2020-04-04</td>\n",
       "      <td>2020-03-16</td>\n",
       "      <td>2020-03-13</td>\n",
       "      <td>2020-03-28</td>\n",
       "      <td>2020-03-19</td>\n",
       "      <td>3.247029</td>\n",
       "      <td>2020-03-15</td>\n",
       "      <td>2020-04-16</td>\n",
       "      <td>2020-03-29</td>\n",
       "    </tr>\n",
       "    <tr>\n",
       "      <th>2</th>\n",
       "      <td>Barbour</td>\n",
       "      <td>Alabama</td>\n",
       "      <td>2020-04-04</td>\n",
       "      <td>2020-03-16</td>\n",
       "      <td>2020-03-13</td>\n",
       "      <td>2020-03-28</td>\n",
       "      <td>2020-03-19</td>\n",
       "      <td>3.247029</td>\n",
       "      <td>2020-04-03</td>\n",
       "      <td>2020-01-22</td>\n",
       "      <td>NaT</td>\n",
       "    </tr>\n",
       "    <tr>\n",
       "      <th>3</th>\n",
       "      <td>Bibb</td>\n",
       "      <td>Alabama</td>\n",
       "      <td>2020-04-04</td>\n",
       "      <td>2020-03-16</td>\n",
       "      <td>2020-03-13</td>\n",
       "      <td>2020-03-28</td>\n",
       "      <td>2020-03-19</td>\n",
       "      <td>3.247029</td>\n",
       "      <td>2020-03-30</td>\n",
       "      <td>2020-01-22</td>\n",
       "      <td>NaT</td>\n",
       "    </tr>\n",
       "    <tr>\n",
       "      <th>4</th>\n",
       "      <td>Blount</td>\n",
       "      <td>Alabama</td>\n",
       "      <td>2020-04-04</td>\n",
       "      <td>2020-03-16</td>\n",
       "      <td>2020-03-13</td>\n",
       "      <td>2020-03-28</td>\n",
       "      <td>2020-03-19</td>\n",
       "      <td>3.247029</td>\n",
       "      <td>2020-03-25</td>\n",
       "      <td>2020-01-22</td>\n",
       "      <td>NaT</td>\n",
       "    </tr>\n",
       "  </tbody>\n",
       "</table>\n",
       "</div>"
      ],
      "text/plain": [
       "  CountyName State updated stay at home public schools >500 gatherings  \\\n",
       "0    Autauga       Alabama   2020-04-04     2020-03-16      2020-03-13   \n",
       "1    Baldwin       Alabama   2020-04-04     2020-03-16      2020-03-13   \n",
       "2    Barbour       Alabama   2020-04-04     2020-03-16      2020-03-13   \n",
       "3       Bibb       Alabama   2020-04-04     2020-03-16      2020-03-13   \n",
       "4     Blount       Alabama   2020-04-04     2020-03-16      2020-03-13   \n",
       "\n",
       "  entertainment/gym restaurant dine-in  Mortality Rate First_Case  \\\n",
       "0        2020-03-28         2020-03-19        3.247029 2020-03-24   \n",
       "1        2020-03-28         2020-03-19        3.247029 2020-03-15   \n",
       "2        2020-03-28         2020-03-19        3.247029 2020-04-03   \n",
       "3        2020-03-28         2020-03-19        3.247029 2020-03-30   \n",
       "4        2020-03-28         2020-03-19        3.247029 2020-03-25   \n",
       "\n",
       "  First_Hundred_Case First_Death  \n",
       "0         2020-01-22  2020-04-07  \n",
       "1         2020-04-16  2020-03-29  \n",
       "2         2020-01-22         NaT  \n",
       "3         2020-01-22         NaT  \n",
       "4         2020-01-22         NaT  "
      ]
     },
     "execution_count": 29,
     "metadata": {},
     "output_type": "execute_result"
    }
   ],
   "source": [
    "operate_data2_with_states.drop(['Province_State_x', 'Province_State_y', 'County_Name_y', 'County_Name_x'], axis = 1, inplace = True)\n",
    "operate_data2_with_states.head()"
   ]
  },
  {
   "cell_type": "markdown",
   "metadata": {},
   "source": [
    "Calculate the time difference between the county's various responses to the date of the first discovered case."
   ]
  },
  {
   "cell_type": "code",
   "execution_count": 30,
   "metadata": {},
   "outputs": [
    {
     "data": {
      "text/html": [
       "<div>\n",
       "<style scoped>\n",
       "    .dataframe tbody tr th:only-of-type {\n",
       "        vertical-align: middle;\n",
       "    }\n",
       "\n",
       "    .dataframe tbody tr th {\n",
       "        vertical-align: top;\n",
       "    }\n",
       "\n",
       "    .dataframe thead th {\n",
       "        text-align: right;\n",
       "    }\n",
       "</style>\n",
       "<table border=\"1\" class=\"dataframe\">\n",
       "  <thead>\n",
       "    <tr style=\"text-align: right;\">\n",
       "      <th></th>\n",
       "      <th>CountyName</th>\n",
       "      <th>State updated</th>\n",
       "      <th>stay at home</th>\n",
       "      <th>public schools</th>\n",
       "      <th>&gt;500 gatherings</th>\n",
       "      <th>entertainment/gym</th>\n",
       "      <th>restaurant dine-in</th>\n",
       "      <th>Mortality Rate</th>\n",
       "      <th>First_Case</th>\n",
       "      <th>First_Hundred_Case</th>\n",
       "      <th>First_Death</th>\n",
       "    </tr>\n",
       "  </thead>\n",
       "  <tbody>\n",
       "    <tr>\n",
       "      <th>0</th>\n",
       "      <td>Autauga</td>\n",
       "      <td>Alabama</td>\n",
       "      <td>11 days</td>\n",
       "      <td>-8 days</td>\n",
       "      <td>-11 days</td>\n",
       "      <td>4 days</td>\n",
       "      <td>-5 days</td>\n",
       "      <td>3.247029</td>\n",
       "      <td>2020-03-24</td>\n",
       "      <td>2020-01-22</td>\n",
       "      <td>2020-04-07</td>\n",
       "    </tr>\n",
       "    <tr>\n",
       "      <th>1</th>\n",
       "      <td>Baldwin</td>\n",
       "      <td>Alabama</td>\n",
       "      <td>20 days</td>\n",
       "      <td>1 days</td>\n",
       "      <td>-2 days</td>\n",
       "      <td>13 days</td>\n",
       "      <td>4 days</td>\n",
       "      <td>3.247029</td>\n",
       "      <td>2020-03-15</td>\n",
       "      <td>2020-04-16</td>\n",
       "      <td>2020-03-29</td>\n",
       "    </tr>\n",
       "    <tr>\n",
       "      <th>2</th>\n",
       "      <td>Barbour</td>\n",
       "      <td>Alabama</td>\n",
       "      <td>1 days</td>\n",
       "      <td>-18 days</td>\n",
       "      <td>-21 days</td>\n",
       "      <td>-6 days</td>\n",
       "      <td>-15 days</td>\n",
       "      <td>3.247029</td>\n",
       "      <td>2020-04-03</td>\n",
       "      <td>2020-01-22</td>\n",
       "      <td>NaT</td>\n",
       "    </tr>\n",
       "    <tr>\n",
       "      <th>3</th>\n",
       "      <td>Bibb</td>\n",
       "      <td>Alabama</td>\n",
       "      <td>5 days</td>\n",
       "      <td>-14 days</td>\n",
       "      <td>-17 days</td>\n",
       "      <td>-2 days</td>\n",
       "      <td>-11 days</td>\n",
       "      <td>3.247029</td>\n",
       "      <td>2020-03-30</td>\n",
       "      <td>2020-01-22</td>\n",
       "      <td>NaT</td>\n",
       "    </tr>\n",
       "    <tr>\n",
       "      <th>4</th>\n",
       "      <td>Blount</td>\n",
       "      <td>Alabama</td>\n",
       "      <td>10 days</td>\n",
       "      <td>-9 days</td>\n",
       "      <td>-12 days</td>\n",
       "      <td>3 days</td>\n",
       "      <td>-6 days</td>\n",
       "      <td>3.247029</td>\n",
       "      <td>2020-03-25</td>\n",
       "      <td>2020-01-22</td>\n",
       "      <td>NaT</td>\n",
       "    </tr>\n",
       "  </tbody>\n",
       "</table>\n",
       "</div>"
      ],
      "text/plain": [
       "  CountyName State updated stay at home public schools >500 gatherings  \\\n",
       "0    Autauga       Alabama      11 days        -8 days        -11 days   \n",
       "1    Baldwin       Alabama      20 days         1 days         -2 days   \n",
       "2    Barbour       Alabama       1 days       -18 days        -21 days   \n",
       "3       Bibb       Alabama       5 days       -14 days        -17 days   \n",
       "4     Blount       Alabama      10 days        -9 days        -12 days   \n",
       "\n",
       "  entertainment/gym restaurant dine-in  Mortality Rate First_Case  \\\n",
       "0            4 days            -5 days        3.247029 2020-03-24   \n",
       "1           13 days             4 days        3.247029 2020-03-15   \n",
       "2           -6 days           -15 days        3.247029 2020-04-03   \n",
       "3           -2 days           -11 days        3.247029 2020-03-30   \n",
       "4            3 days            -6 days        3.247029 2020-03-25   \n",
       "\n",
       "  First_Hundred_Case First_Death  \n",
       "0         2020-01-22  2020-04-07  \n",
       "1         2020-04-16  2020-03-29  \n",
       "2         2020-01-22         NaT  \n",
       "3         2020-01-22         NaT  \n",
       "4         2020-01-22         NaT  "
      ]
     },
     "execution_count": 30,
     "metadata": {},
     "output_type": "execute_result"
    }
   ],
   "source": [
    "time_since_first_case = operate_data2_with_states.copy()\n",
    "time_since_first_case['stay at home'] = time_since_first_case['stay at home'] - time_since_first_case['First_Case']\n",
    "time_since_first_case['public schools'] = time_since_first_case['public schools'] - time_since_first_case['First_Case']\n",
    "time_since_first_case['entertainment/gym'] = time_since_first_case['entertainment/gym'] - time_since_first_case['First_Case']\n",
    "time_since_first_case['>500 gatherings'] = time_since_first_case['>500 gatherings'] - time_since_first_case['First_Case']\n",
    "time_since_first_case['restaurant dine-in'] = time_since_first_case['restaurant dine-in'] - time_since_first_case['First_Case']\n",
    "time_since_first_case.head()"
   ]
  },
  {
   "cell_type": "markdown",
   "metadata": {},
   "source": [
    "Some population percentage here. "
   ]
  },
  {
   "cell_type": "markdown",
   "metadata": {
    "colab_type": "text",
    "id": "wiF9vilD1Bxq"
   },
   "source": [
    "# Classification"
   ]
  },
  {
   "cell_type": "markdown",
   "metadata": {
    "colab_type": "text",
    "id": "thwWZT7o1Bxr"
   },
   "source": [
    "## 5. Basic Classification"
   ]
  },
  {
   "cell_type": "markdown",
   "metadata": {
    "colab_type": "text",
    "id": "7hxotDEm1Bxs"
   },
   "source": [
    "#5 After selecting features, now we will make training set and test sets. "
   ]
  },
  {
   "cell_type": "code",
   "execution_count": 31,
   "metadata": {
    "colab": {},
    "colab_type": "code",
    "id": "LePvbiE31Bxs",
    "outputId": "e1ba696b-94de-4670-812e-21d2b4612d6b"
   },
   "outputs": [
    {
     "data": {
      "text/plain": [
       "(     stay at home public schools >500 gatherings entertainment/gym  \\\n",
       " 2582   2020-04-02     2020-03-23      2020-03-14        2020-03-19   \n",
       " 1398   2020-04-06     2020-03-20      2020-03-25        2020-03-25   \n",
       " 1176   2020-04-02     2020-03-15      2020-03-18        2020-03-24   \n",
       " 646    2020-03-21     2020-03-17      2020-03-18        2020-03-18   \n",
       " 1774   2020-03-21     2020-03-18      2020-03-16        2020-03-16   \n",
       " \n",
       "      restaurant dine-in  \n",
       " 2582         2020-03-19  \n",
       " 1398         2020-03-25  \n",
       " 1176         2020-03-18  \n",
       " 646          2020-03-18  \n",
       " 1774         2020-03-16  ,\n",
       " 2582    2.544910\n",
       " 1398    3.824862\n",
       " 1176    3.778040\n",
       " 646     4.317558\n",
       " 1774    4.998772\n",
       " Name: Mortality Rate, dtype: float64)"
      ]
     },
     "execution_count": 31,
     "metadata": {},
     "output_type": "execute_result"
    }
   ],
   "source": [
    "X_train = train.drop(['CountyName', 'State updated','Mortality Rate'], axis=1)\n",
    "Y_train = train['Mortality Rate']\n",
    "\n",
    "X_train[:5], Y_train[:5]"
   ]
  },
  {
   "cell_type": "markdown",
   "metadata": {
    "colab_type": "text",
    "id": "fyx4iJNJ1ByB"
   },
   "source": [
    "Now we will make a linear regression model, fit the model with training data, and get the training loss. \n",
    "\n",
    "Loss function: I will use RMSE now but we can try other loss functions later. \n",
    "\n",
    "***Question: *** So what is a satisfying result loss for our model? How do we know how good our model is? "
   ]
  },
  {
   "cell_type": "code",
   "execution_count": 32,
   "metadata": {
    "colab": {},
    "colab_type": "code",
    "id": "NZEzLg_C1ByB",
    "outputId": "4895e607-7e94-4d56-f7ea-2008924ac25c"
   },
   "outputs": [
    {
     "ename": "TypeError",
     "evalue": "invalid type promotion",
     "output_type": "error",
     "traceback": [
      "\u001b[1;31m---------------------------------------------------------------------------\u001b[0m",
      "\u001b[1;31mTypeError\u001b[0m                                 Traceback (most recent call last)",
      "\u001b[1;32m<ipython-input-32-cb7db3babdbb>\u001b[0m in \u001b[0;36m<module>\u001b[1;34m\u001b[0m\n\u001b[0;32m      7\u001b[0m \u001b[0mmodel\u001b[0m\u001b[1;33m.\u001b[0m\u001b[0mfit\u001b[0m\u001b[1;33m(\u001b[0m\u001b[0mX_train\u001b[0m\u001b[1;33m,\u001b[0m \u001b[0mY_train\u001b[0m\u001b[1;33m)\u001b[0m\u001b[1;33m\u001b[0m\u001b[1;33m\u001b[0m\u001b[0m\n\u001b[0;32m      8\u001b[0m \u001b[1;33m\u001b[0m\u001b[0m\n\u001b[1;32m----> 9\u001b[1;33m \u001b[0mY_prediction\u001b[0m \u001b[1;33m=\u001b[0m \u001b[0mmodel\u001b[0m\u001b[1;33m.\u001b[0m\u001b[0mpredict\u001b[0m\u001b[1;33m(\u001b[0m\u001b[0mX_train\u001b[0m\u001b[1;33m)\u001b[0m\u001b[1;33m\u001b[0m\u001b[1;33m\u001b[0m\u001b[0m\n\u001b[0m\u001b[0;32m     10\u001b[0m \u001b[1;33m\u001b[0m\u001b[0m\n\u001b[0;32m     11\u001b[0m \u001b[1;33m\u001b[0m\u001b[0m\n",
      "\u001b[1;32mD:\\Anaconda3\\lib\\site-packages\\sklearn\\linear_model\\_base.py\u001b[0m in \u001b[0;36mpredict\u001b[1;34m(self, X)\u001b[0m\n\u001b[0;32m    223\u001b[0m             \u001b[0mReturns\u001b[0m \u001b[0mpredicted\u001b[0m \u001b[0mvalues\u001b[0m\u001b[1;33m.\u001b[0m\u001b[1;33m\u001b[0m\u001b[1;33m\u001b[0m\u001b[0m\n\u001b[0;32m    224\u001b[0m         \"\"\"\n\u001b[1;32m--> 225\u001b[1;33m         \u001b[1;32mreturn\u001b[0m \u001b[0mself\u001b[0m\u001b[1;33m.\u001b[0m\u001b[0m_decision_function\u001b[0m\u001b[1;33m(\u001b[0m\u001b[0mX\u001b[0m\u001b[1;33m)\u001b[0m\u001b[1;33m\u001b[0m\u001b[1;33m\u001b[0m\u001b[0m\n\u001b[0m\u001b[0;32m    226\u001b[0m \u001b[1;33m\u001b[0m\u001b[0m\n\u001b[0;32m    227\u001b[0m     \u001b[0m_preprocess_data\u001b[0m \u001b[1;33m=\u001b[0m \u001b[0mstaticmethod\u001b[0m\u001b[1;33m(\u001b[0m\u001b[0m_preprocess_data\u001b[0m\u001b[1;33m)\u001b[0m\u001b[1;33m\u001b[0m\u001b[1;33m\u001b[0m\u001b[0m\n",
      "\u001b[1;32mD:\\Anaconda3\\lib\\site-packages\\sklearn\\linear_model\\_base.py\u001b[0m in \u001b[0;36m_decision_function\u001b[1;34m(self, X)\u001b[0m\n\u001b[0;32m    207\u001b[0m         \u001b[0mX\u001b[0m \u001b[1;33m=\u001b[0m \u001b[0mcheck_array\u001b[0m\u001b[1;33m(\u001b[0m\u001b[0mX\u001b[0m\u001b[1;33m,\u001b[0m \u001b[0maccept_sparse\u001b[0m\u001b[1;33m=\u001b[0m\u001b[1;33m[\u001b[0m\u001b[1;34m'csr'\u001b[0m\u001b[1;33m,\u001b[0m \u001b[1;34m'csc'\u001b[0m\u001b[1;33m,\u001b[0m \u001b[1;34m'coo'\u001b[0m\u001b[1;33m]\u001b[0m\u001b[1;33m)\u001b[0m\u001b[1;33m\u001b[0m\u001b[1;33m\u001b[0m\u001b[0m\n\u001b[0;32m    208\u001b[0m         return safe_sparse_dot(X, self.coef_.T,\n\u001b[1;32m--> 209\u001b[1;33m                                dense_output=True) + self.intercept_\n\u001b[0m\u001b[0;32m    210\u001b[0m \u001b[1;33m\u001b[0m\u001b[0m\n\u001b[0;32m    211\u001b[0m     \u001b[1;32mdef\u001b[0m \u001b[0mpredict\u001b[0m\u001b[1;33m(\u001b[0m\u001b[0mself\u001b[0m\u001b[1;33m,\u001b[0m \u001b[0mX\u001b[0m\u001b[1;33m)\u001b[0m\u001b[1;33m:\u001b[0m\u001b[1;33m\u001b[0m\u001b[1;33m\u001b[0m\u001b[0m\n",
      "\u001b[1;32mD:\\Anaconda3\\lib\\site-packages\\sklearn\\utils\\extmath.py\u001b[0m in \u001b[0;36msafe_sparse_dot\u001b[1;34m(a, b, dense_output)\u001b[0m\n\u001b[0;32m    149\u001b[0m             \u001b[0mret\u001b[0m \u001b[1;33m=\u001b[0m \u001b[0mnp\u001b[0m\u001b[1;33m.\u001b[0m\u001b[0mdot\u001b[0m\u001b[1;33m(\u001b[0m\u001b[0ma\u001b[0m\u001b[1;33m,\u001b[0m \u001b[0mb\u001b[0m\u001b[1;33m)\u001b[0m\u001b[1;33m\u001b[0m\u001b[1;33m\u001b[0m\u001b[0m\n\u001b[0;32m    150\u001b[0m     \u001b[1;32melse\u001b[0m\u001b[1;33m:\u001b[0m\u001b[1;33m\u001b[0m\u001b[1;33m\u001b[0m\u001b[0m\n\u001b[1;32m--> 151\u001b[1;33m         \u001b[0mret\u001b[0m \u001b[1;33m=\u001b[0m \u001b[0ma\u001b[0m \u001b[1;33m@\u001b[0m \u001b[0mb\u001b[0m\u001b[1;33m\u001b[0m\u001b[1;33m\u001b[0m\u001b[0m\n\u001b[0m\u001b[0;32m    152\u001b[0m \u001b[1;33m\u001b[0m\u001b[0m\n\u001b[0;32m    153\u001b[0m     if (sparse.issparse(a) and sparse.issparse(b)\n",
      "\u001b[1;31mTypeError\u001b[0m: invalid type promotion"
     ]
    }
   ],
   "source": [
    "from sklearn.linear_model import LinearRegression\n",
    "from sklearn import metrics\n",
    "\n",
    "\n",
    "\n",
    "model = LinearRegression(fit_intercept=True) # should fit intercept be true?\n",
    "model.fit(X_train, Y_train)\n",
    "\n",
    "Y_prediction = model.predict(X_train)\n",
    "\n",
    "\n",
    "training_loss = metrics.mean_squared_error(Y_prediction, Y_train)\n",
    "print(\"Training loss: \", training_loss)"
   ]
  },
  {
   "cell_type": "code",
   "execution_count": null,
   "metadata": {
    "colab": {},
    "colab_type": "code",
    "id": "T5DIWN0A1ByE",
    "outputId": "b53cd2f8-af79-497b-c3ff-ab3d4b678831",
    "scrolled": true
   },
   "outputs": [],
   "source": [
    "plt.figure(figsize = (5,5))\n",
    "sns.regplot(Y_prediction, Y_train)"
   ]
  },
  {
   "cell_type": "markdown",
   "metadata": {
    "colab_type": "text",
    "id": "V6m1j2FJ1ByG"
   },
   "source": [
    "Should also check residual plot to make sure it has no pattern."
   ]
  },
  {
   "cell_type": "code",
   "execution_count": null,
   "metadata": {
    "colab": {},
    "colab_type": "code",
    "id": "emuOgrdZ1ByG",
    "outputId": "310a17ca-67ca-4bfc-d2c2-31c12f9fe321"
   },
   "outputs": [],
   "source": [
    "plt.figure(figsize = (5,5))\n",
    "sns.regplot(Y_prediction, Y_train-Y_prediction)"
   ]
  },
  {
   "cell_type": "markdown",
   "metadata": {
    "colab_type": "text",
    "id": "NB5PJ11w1ByH"
   },
   "source": [
    "## 6. Cross-Validation"
   ]
  },
  {
   "cell_type": "markdown",
   "metadata": {
    "colab_type": "text",
    "id": "8Fae7REo1ByI"
   },
   "source": [
    "#6 Now let's perform cross-validation to check whether we are overfitting, and determine which features are useful. "
   ]
  },
  {
   "cell_type": "code",
   "execution_count": null,
   "metadata": {
    "colab": {},
    "colab_type": "code",
    "id": "PD4i6An21ByJ",
    "outputId": "8ab27e2c-543e-4e54-f64d-af97211f5f2a"
   },
   "outputs": [],
   "source": [
    "# perform cross validation\n",
    "from sklearn import model_selection as ms\n",
    "\n",
    "# finding which features to use using Cross Validation\n",
    "errors = []\n",
    "range_of_num_features = range(1, X_train.shape[1] + 1)\n",
    "for N in range_of_num_features:\n",
    "    print(f\"Trying first {N} features\")\n",
    "    model = LinearRegression()\n",
    "    \n",
    "    # compute the cross validation error\n",
    "    error = ms.cross_val_score(model, X_train.iloc[:, 0:N], Y_train).mean()\n",
    "    \n",
    "    print(\"\\tScore:\", error)\n",
    "    errors.append(error)\n",
    "\n",
    "best_num_features = np.argmax(errors) + 1\n",
    "print (best_num_features)\n",
    "best_err = min(errors)\n",
    "\n",
    "print(f\"Best choice, use the first {best_num_features} features\")"
   ]
  },
  {
   "cell_type": "markdown",
   "metadata": {
    "colab_type": "text",
    "id": "n5bxhpOr1ByL"
   },
   "source": [
    "## 7. Regularization"
   ]
  },
  {
   "cell_type": "markdown",
   "metadata": {
    "colab_type": "text",
    "id": "Obu_dT7a1ByL"
   },
   "source": [
    "#7 Here we perform regularization of data."
   ]
  },
  {
   "cell_type": "code",
   "execution_count": null,
   "metadata": {
    "colab": {},
    "colab_type": "code",
    "id": "kWwn9CjY1ByL"
   },
   "outputs": [],
   "source": []
  },
  {
   "cell_type": "markdown",
   "metadata": {
    "colab_type": "text",
    "id": "iFnbzPZ31ByN"
   },
   "source": [
    "## 8. Test"
   ]
  },
  {
   "cell_type": "markdown",
   "metadata": {
    "colab_type": "text",
    "id": "DNoTtlX31ByO"
   },
   "source": [
    "#8 Here we will test our model on test set and find its test accuracy. "
   ]
  },
  {
   "cell_type": "code",
   "execution_count": null,
   "metadata": {
    "colab": {},
    "colab_type": "code",
    "id": "rlCEp5d91ByO"
   },
   "outputs": [],
   "source": []
  },
  {
   "cell_type": "markdown",
   "metadata": {
    "colab_type": "text",
    "id": "-pikVOyz1ByQ"
   },
   "source": [
    "## 9. Conclusion"
   ]
  },
  {
   "cell_type": "markdown",
   "metadata": {
    "colab_type": "text",
    "id": "eajt0M0P1ByQ"
   },
   "source": [
    "#9 We can also fit other models (like logistic model?) with our training data, and test on test set about their accuracy."
   ]
  },
  {
   "cell_type": "code",
   "execution_count": null,
   "metadata": {
    "colab": {},
    "colab_type": "code",
    "id": "exWnWXOK1ByQ"
   },
   "outputs": [],
   "source": []
  },
  {
   "cell_type": "code",
   "execution_count": null,
   "metadata": {
    "colab": {},
    "colab_type": "code",
    "id": "eqeuM5F_1ByS"
   },
   "outputs": [],
   "source": []
  },
  {
   "cell_type": "code",
   "execution_count": null,
   "metadata": {
    "colab": {},
    "colab_type": "code",
    "id": "UkkIRj_e1ByU"
   },
   "outputs": [],
   "source": []
  }
 ],
 "metadata": {
  "colab": {
   "name": "[Newest]Version3 Final Project - Covid-3.ipynb",
   "provenance": [],
   "toc_visible": true
  },
  "kernelspec": {
   "display_name": "Python 3",
   "language": "python",
   "name": "python3"
  },
  "language_info": {
   "codemirror_mode": {
    "name": "ipython",
    "version": 3
   },
   "file_extension": ".py",
   "mimetype": "text/x-python",
   "name": "python",
   "nbconvert_exporter": "python",
   "pygments_lexer": "ipython3",
   "version": "3.7.6"
  }
 },
 "nbformat": 4,
 "nbformat_minor": 1
}
