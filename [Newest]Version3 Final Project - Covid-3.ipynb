{
 "cells": [
  {
   "cell_type": "markdown",
   "metadata": {
    "colab_type": "text",
    "id": "l9xgh7dG1Bwd"
   },
   "source": [
    "Welcome! We first import the needed packages."
   ]
  },
  {
   "cell_type": "code",
   "execution_count": 1,
   "metadata": {
    "colab": {
     "base_uri": "https://localhost:8080/",
     "height": 50
    },
    "colab_type": "code",
    "executionInfo": {
     "elapsed": 1005,
     "status": "ok",
     "timestamp": 1588967591944,
     "user": {
      "displayName": "Eric Yang",
      "photoUrl": "",
      "userId": "16540930875245764335"
     },
     "user_tz": 420
    },
    "id": "2yl2HFIU1Bwe",
    "outputId": "76c66de8-8670-41b8-87d0-5da7b711a183"
   },
   "outputs": [],
   "source": [
    "import numpy as np\n",
    "import pandas as pd\n",
    "import matplotlib\n",
    "import matplotlib.pyplot as plt\n",
    "import seaborn as sns"
   ]
  },
  {
   "cell_type": "markdown",
   "metadata": {
    "colab_type": "text",
    "id": "sYag11_U1Bwg"
   },
   "source": [
    "## 0. Goal"
   ]
  },
  {
   "cell_type": "markdown",
   "metadata": {
    "colab_type": "text",
    "id": "-B7NEBG41Bwh"
   },
   "source": [
    "The goal of this part of the project is to make a linear model to predict mortality rates in different states and countries. "
   ]
  },
  {
   "cell_type": "markdown",
   "metadata": {
    "colab_type": "text",
    "id": "XQe5Gdvc1Bwh"
   },
   "source": [
    "# Preparing Data"
   ]
  },
  {
   "cell_type": "markdown",
   "metadata": {
    "colab_type": "text",
    "id": "HU_LDA5Z1Bwh"
   },
   "source": [
    "## 1. Loading the data"
   ]
  },
  {
   "cell_type": "markdown",
   "metadata": {
    "colab_type": "text",
    "id": "6Lzpa8kr1Bwi"
   },
   "source": [
    "#1 Let's first load the data and clean it a little."
   ]
  },
  {
   "cell_type": "code",
   "execution_count": 2,
   "metadata": {
    "colab": {
     "base_uri": "https://localhost:8080/",
     "height": 404
    },
    "colab_type": "code",
    "executionInfo": {
     "elapsed": 503,
     "status": "error",
     "timestamp": 1588967595608,
     "user": {
      "displayName": "Eric Yang",
      "photoUrl": "",
      "userId": "16540930875245764335"
     },
     "user_tz": 420
    },
    "id": "9825T2Yu1Bwi",
    "outputId": "585da6a6-391d-43b7-f8cd-c331c9b56418"
   },
   "outputs": [
    {
     "data": {
      "text/html": [
       "<div>\n",
       "<style scoped>\n",
       "    .dataframe tbody tr th:only-of-type {\n",
       "        vertical-align: middle;\n",
       "    }\n",
       "\n",
       "    .dataframe tbody tr th {\n",
       "        vertical-align: top;\n",
       "    }\n",
       "\n",
       "    .dataframe thead th {\n",
       "        text-align: right;\n",
       "    }\n",
       "</style>\n",
       "<table border=\"1\" class=\"dataframe\">\n",
       "  <thead>\n",
       "    <tr style=\"text-align: right;\">\n",
       "      <th></th>\n",
       "      <th>Province_State</th>\n",
       "      <th>Country_Region</th>\n",
       "      <th>Last_Update</th>\n",
       "      <th>Lat</th>\n",
       "      <th>Long_</th>\n",
       "      <th>Confirmed</th>\n",
       "      <th>Deaths</th>\n",
       "      <th>Recovered</th>\n",
       "      <th>Active</th>\n",
       "      <th>FIPS</th>\n",
       "      <th>Incident_Rate</th>\n",
       "      <th>People_Tested</th>\n",
       "      <th>People_Hospitalized</th>\n",
       "      <th>Mortality_Rate</th>\n",
       "      <th>UID</th>\n",
       "      <th>ISO3</th>\n",
       "      <th>Testing_Rate</th>\n",
       "      <th>Hospitalization_Rate</th>\n",
       "    </tr>\n",
       "  </thead>\n",
       "  <tbody>\n",
       "    <tr>\n",
       "      <th>0</th>\n",
       "      <td>Alabama</td>\n",
       "      <td>US</td>\n",
       "      <td>2020-04-18 22:32:47</td>\n",
       "      <td>32.3182</td>\n",
       "      <td>-86.9023</td>\n",
       "      <td>4712</td>\n",
       "      <td>153</td>\n",
       "      <td>NaN</td>\n",
       "      <td>4559.0</td>\n",
       "      <td>1.0</td>\n",
       "      <td>100.492717</td>\n",
       "      <td>42538.0</td>\n",
       "      <td>620.0</td>\n",
       "      <td>3.247029</td>\n",
       "      <td>84000001</td>\n",
       "      <td>USA</td>\n",
       "      <td>907.206961</td>\n",
       "      <td>13.157895</td>\n",
       "    </tr>\n",
       "    <tr>\n",
       "      <th>1</th>\n",
       "      <td>Alaska</td>\n",
       "      <td>US</td>\n",
       "      <td>2020-04-18 22:32:47</td>\n",
       "      <td>61.3707</td>\n",
       "      <td>-152.4044</td>\n",
       "      <td>314</td>\n",
       "      <td>9</td>\n",
       "      <td>147.0</td>\n",
       "      <td>305.0</td>\n",
       "      <td>2.0</td>\n",
       "      <td>52.530410</td>\n",
       "      <td>9655.0</td>\n",
       "      <td>39.0</td>\n",
       "      <td>2.866242</td>\n",
       "      <td>84000002</td>\n",
       "      <td>USA</td>\n",
       "      <td>1615.226458</td>\n",
       "      <td>12.420382</td>\n",
       "    </tr>\n",
       "    <tr>\n",
       "      <th>2</th>\n",
       "      <td>American Samoa</td>\n",
       "      <td>US</td>\n",
       "      <td>NaN</td>\n",
       "      <td>-14.2710</td>\n",
       "      <td>-170.1320</td>\n",
       "      <td>0</td>\n",
       "      <td>0</td>\n",
       "      <td>NaN</td>\n",
       "      <td>NaN</td>\n",
       "      <td>60.0</td>\n",
       "      <td>0.000000</td>\n",
       "      <td>3.0</td>\n",
       "      <td>NaN</td>\n",
       "      <td>NaN</td>\n",
       "      <td>16</td>\n",
       "      <td>ASM</td>\n",
       "      <td>5.391708</td>\n",
       "      <td>NaN</td>\n",
       "    </tr>\n",
       "    <tr>\n",
       "      <th>3</th>\n",
       "      <td>Arizona</td>\n",
       "      <td>US</td>\n",
       "      <td>2020-04-18 22:32:47</td>\n",
       "      <td>33.7298</td>\n",
       "      <td>-111.4312</td>\n",
       "      <td>4724</td>\n",
       "      <td>180</td>\n",
       "      <td>539.0</td>\n",
       "      <td>4544.0</td>\n",
       "      <td>4.0</td>\n",
       "      <td>64.901548</td>\n",
       "      <td>51045.0</td>\n",
       "      <td>566.0</td>\n",
       "      <td>3.810330</td>\n",
       "      <td>84000004</td>\n",
       "      <td>USA</td>\n",
       "      <td>701.291175</td>\n",
       "      <td>11.981372</td>\n",
       "    </tr>\n",
       "    <tr>\n",
       "      <th>4</th>\n",
       "      <td>Arkansas</td>\n",
       "      <td>US</td>\n",
       "      <td>2020-04-18 22:32:47</td>\n",
       "      <td>34.9697</td>\n",
       "      <td>-92.3731</td>\n",
       "      <td>1744</td>\n",
       "      <td>38</td>\n",
       "      <td>703.0</td>\n",
       "      <td>1706.0</td>\n",
       "      <td>5.0</td>\n",
       "      <td>67.361213</td>\n",
       "      <td>24141.0</td>\n",
       "      <td>291.0</td>\n",
       "      <td>2.178899</td>\n",
       "      <td>84000005</td>\n",
       "      <td>USA</td>\n",
       "      <td>932.435235</td>\n",
       "      <td>16.685780</td>\n",
       "    </tr>\n",
       "    <tr>\n",
       "      <th>...</th>\n",
       "      <td>...</td>\n",
       "      <td>...</td>\n",
       "      <td>...</td>\n",
       "      <td>...</td>\n",
       "      <td>...</td>\n",
       "      <td>...</td>\n",
       "      <td>...</td>\n",
       "      <td>...</td>\n",
       "      <td>...</td>\n",
       "      <td>...</td>\n",
       "      <td>...</td>\n",
       "      <td>...</td>\n",
       "      <td>...</td>\n",
       "      <td>...</td>\n",
       "      <td>...</td>\n",
       "      <td>...</td>\n",
       "      <td>...</td>\n",
       "      <td>...</td>\n",
       "    </tr>\n",
       "    <tr>\n",
       "      <th>135</th>\n",
       "      <td>Xinjiang</td>\n",
       "      <td>China</td>\n",
       "      <td>NaN</td>\n",
       "      <td>41.1129</td>\n",
       "      <td>85.2401</td>\n",
       "      <td>76</td>\n",
       "      <td>3</td>\n",
       "      <td>73.0</td>\n",
       "      <td>0.0</td>\n",
       "      <td>NaN</td>\n",
       "      <td>0.305589</td>\n",
       "      <td>NaN</td>\n",
       "      <td>NaN</td>\n",
       "      <td>3.947368</td>\n",
       "      <td>15629</td>\n",
       "      <td>CHN</td>\n",
       "      <td>NaN</td>\n",
       "      <td>NaN</td>\n",
       "    </tr>\n",
       "    <tr>\n",
       "      <th>136</th>\n",
       "      <td>Yukon</td>\n",
       "      <td>Canada</td>\n",
       "      <td>NaN</td>\n",
       "      <td>64.2823</td>\n",
       "      <td>-135.0000</td>\n",
       "      <td>9</td>\n",
       "      <td>0</td>\n",
       "      <td>0.0</td>\n",
       "      <td>9.0</td>\n",
       "      <td>NaN</td>\n",
       "      <td>21.909538</td>\n",
       "      <td>NaN</td>\n",
       "      <td>NaN</td>\n",
       "      <td>0.000000</td>\n",
       "      <td>12412</td>\n",
       "      <td>CAN</td>\n",
       "      <td>NaN</td>\n",
       "      <td>NaN</td>\n",
       "    </tr>\n",
       "    <tr>\n",
       "      <th>137</th>\n",
       "      <td>Yunnan</td>\n",
       "      <td>China</td>\n",
       "      <td>NaN</td>\n",
       "      <td>24.9740</td>\n",
       "      <td>101.4870</td>\n",
       "      <td>184</td>\n",
       "      <td>2</td>\n",
       "      <td>177.0</td>\n",
       "      <td>5.0</td>\n",
       "      <td>NaN</td>\n",
       "      <td>0.380952</td>\n",
       "      <td>NaN</td>\n",
       "      <td>NaN</td>\n",
       "      <td>1.086957</td>\n",
       "      <td>15630</td>\n",
       "      <td>CHN</td>\n",
       "      <td>NaN</td>\n",
       "      <td>NaN</td>\n",
       "    </tr>\n",
       "    <tr>\n",
       "      <th>138</th>\n",
       "      <td>Zhejiang</td>\n",
       "      <td>China</td>\n",
       "      <td>NaN</td>\n",
       "      <td>29.1832</td>\n",
       "      <td>120.0934</td>\n",
       "      <td>1268</td>\n",
       "      <td>1</td>\n",
       "      <td>1246.0</td>\n",
       "      <td>21.0</td>\n",
       "      <td>NaN</td>\n",
       "      <td>2.210214</td>\n",
       "      <td>NaN</td>\n",
       "      <td>NaN</td>\n",
       "      <td>0.078864</td>\n",
       "      <td>15631</td>\n",
       "      <td>CHN</td>\n",
       "      <td>NaN</td>\n",
       "      <td>NaN</td>\n",
       "    </tr>\n",
       "    <tr>\n",
       "      <th>139</th>\n",
       "      <td>Grand Princess</td>\n",
       "      <td>Canada</td>\n",
       "      <td>NaN</td>\n",
       "      <td>NaN</td>\n",
       "      <td>NaN</td>\n",
       "      <td>13</td>\n",
       "      <td>0</td>\n",
       "      <td>0.0</td>\n",
       "      <td>13.0</td>\n",
       "      <td>NaN</td>\n",
       "      <td>NaN</td>\n",
       "      <td>NaN</td>\n",
       "      <td>NaN</td>\n",
       "      <td>0.000000</td>\n",
       "      <td>12414</td>\n",
       "      <td>CAN</td>\n",
       "      <td>NaN</td>\n",
       "      <td>NaN</td>\n",
       "    </tr>\n",
       "  </tbody>\n",
       "</table>\n",
       "<p>140 rows × 18 columns</p>\n",
       "</div>"
      ],
      "text/plain": [
       "     Province_State Country_Region          Last_Update      Lat     Long_  \\\n",
       "0           Alabama             US  2020-04-18 22:32:47  32.3182  -86.9023   \n",
       "1            Alaska             US  2020-04-18 22:32:47  61.3707 -152.4044   \n",
       "2    American Samoa             US                  NaN -14.2710 -170.1320   \n",
       "3           Arizona             US  2020-04-18 22:32:47  33.7298 -111.4312   \n",
       "4          Arkansas             US  2020-04-18 22:32:47  34.9697  -92.3731   \n",
       "..              ...            ...                  ...      ...       ...   \n",
       "135        Xinjiang          China                  NaN  41.1129   85.2401   \n",
       "136           Yukon         Canada                  NaN  64.2823 -135.0000   \n",
       "137          Yunnan          China                  NaN  24.9740  101.4870   \n",
       "138        Zhejiang          China                  NaN  29.1832  120.0934   \n",
       "139  Grand Princess         Canada                  NaN      NaN       NaN   \n",
       "\n",
       "     Confirmed  Deaths  Recovered  Active  FIPS  Incident_Rate  People_Tested  \\\n",
       "0         4712     153        NaN  4559.0   1.0     100.492717        42538.0   \n",
       "1          314       9      147.0   305.0   2.0      52.530410         9655.0   \n",
       "2            0       0        NaN     NaN  60.0       0.000000            3.0   \n",
       "3         4724     180      539.0  4544.0   4.0      64.901548        51045.0   \n",
       "4         1744      38      703.0  1706.0   5.0      67.361213        24141.0   \n",
       "..         ...     ...        ...     ...   ...            ...            ...   \n",
       "135         76       3       73.0     0.0   NaN       0.305589            NaN   \n",
       "136          9       0        0.0     9.0   NaN      21.909538            NaN   \n",
       "137        184       2      177.0     5.0   NaN       0.380952            NaN   \n",
       "138       1268       1     1246.0    21.0   NaN       2.210214            NaN   \n",
       "139         13       0        0.0    13.0   NaN            NaN            NaN   \n",
       "\n",
       "     People_Hospitalized  Mortality_Rate       UID ISO3  Testing_Rate  \\\n",
       "0                  620.0        3.247029  84000001  USA    907.206961   \n",
       "1                   39.0        2.866242  84000002  USA   1615.226458   \n",
       "2                    NaN             NaN        16  ASM      5.391708   \n",
       "3                  566.0        3.810330  84000004  USA    701.291175   \n",
       "4                  291.0        2.178899  84000005  USA    932.435235   \n",
       "..                   ...             ...       ...  ...           ...   \n",
       "135                  NaN        3.947368     15629  CHN           NaN   \n",
       "136                  NaN        0.000000     12412  CAN           NaN   \n",
       "137                  NaN        1.086957     15630  CHN           NaN   \n",
       "138                  NaN        0.078864     15631  CHN           NaN   \n",
       "139                  NaN        0.000000     12414  CAN           NaN   \n",
       "\n",
       "     Hospitalization_Rate  \n",
       "0               13.157895  \n",
       "1               12.420382  \n",
       "2                     NaN  \n",
       "3               11.981372  \n",
       "4               16.685780  \n",
       "..                    ...  \n",
       "135                   NaN  \n",
       "136                   NaN  \n",
       "137                   NaN  \n",
       "138                   NaN  \n",
       "139                   NaN  \n",
       "\n",
       "[140 rows x 18 columns]"
      ]
     },
     "execution_count": 2,
     "metadata": {},
     "output_type": "execute_result"
    }
   ],
   "source": [
    "original_data1 = pd.read_csv('4.18states.csv')\n",
    "data1 = original_data1\n",
    "data1"
   ]
  },
  {
   "cell_type": "code",
   "execution_count": 3,
   "metadata": {
    "colab": {},
    "colab_type": "code",
    "id": "p8avOHfa1Bwl"
   },
   "outputs": [],
   "source": [
    "original_data2 = pd.read_csv('abridged_couties.csv')\n",
    "data2 = original_data2"
   ]
  },
  {
   "cell_type": "code",
   "execution_count": 4,
   "metadata": {
    "colab": {
     "base_uri": "https://localhost:8080/",
     "height": 121
    },
    "colab_type": "code",
    "executionInfo": {
     "elapsed": 23042,
     "status": "ok",
     "timestamp": 1588967654975,
     "user": {
      "displayName": "Eric Yang",
      "photoUrl": "",
      "userId": "16540930875245764335"
     },
     "user_tz": 420
    },
    "id": "7-WWYMJH2cZh",
    "outputId": "30c18f07-8d9c-40c3-ad41-263de8552432"
   },
   "outputs": [],
   "source": [
    "# from google.colab import drive\n",
    "# drive.mount('/content/drive')"
   ]
  },
  {
   "cell_type": "markdown",
   "metadata": {
    "colab_type": "text",
    "id": "d49URzdV1Bwn"
   },
   "source": [
    "# EDA"
   ]
  },
  {
   "cell_type": "markdown",
   "metadata": {
    "colab_type": "text",
    "id": "Se8w0zna1Bwo"
   },
   "source": [
    "## Mortality rate"
   ]
  },
  {
   "cell_type": "markdown",
   "metadata": {
    "colab_type": "text",
    "id": "16Q1m4a71Bwo"
   },
   "source": [
    "Let's do some visualization and see whether there are some relationship between different variables."
   ]
  },
  {
   "cell_type": "markdown",
   "metadata": {
    "colab_type": "text",
    "id": "qW_FX47B1Bwp"
   },
   "source": [
    "### Mortality rates' outlier and overlapping points"
   ]
  },
  {
   "cell_type": "markdown",
   "metadata": {
    "colab_type": "text",
    "id": "4K-6qho91Bwp"
   },
   "source": [
    "Plot the distribution of mortality rate and see if we can find something interesting."
   ]
  },
  {
   "cell_type": "code",
   "execution_count": 5,
   "metadata": {
    "colab": {},
    "colab_type": "code",
    "id": "Y0jivfpp1Bwp",
    "outputId": "e43efa01-4071-47c1-f255-9210b0bd339b",
    "scrolled": false
   },
   "outputs": [
    {
     "data": {
      "text/plain": [
       "<matplotlib.axes._subplots.AxesSubplot at 0x276a0f7ce88>"
      ]
     },
     "execution_count": 5,
     "metadata": {},
     "output_type": "execute_result"
    },
    {
     "data": {
      "image/png": "[encoded data removed]",
      "text/plain": [
       "<Figure size 360x360 with 1 Axes>"
      ]
     },
     "metadata": {
      "needs_background": "light"
     },
     "output_type": "display_data"
    },
    {
     "data": {
      "image/png": "[encoded data removed]",
      "text/plain": [
       "<Figure size 360x360 with 1 Axes>"
      ]
     },
     "metadata": {
      "needs_background": "light"
     },
     "output_type": "display_data"
    }
   ],
   "source": [
    "mortality_rate = data1['Mortality_Rate']\n",
    "#operate_data2['mortality_rate'] = operate_data2[operate_data2['State'].isin(mortality_rate.index)]\n",
    "\n",
    "plt.figure(figsize = (5,5))\n",
    "sns.distplot(data1['Mortality_Rate'])\n",
    "plt.figure(figsize = (5,5))\n",
    "sns.scatterplot(x=data1['Province_State'],y=data1['Mortality_Rate'])"
   ]
  },
  {
   "cell_type": "code",
   "execution_count": 6,
   "metadata": {
    "colab": {},
    "colab_type": "code",
    "id": "xauhnf8E1Bwr"
   },
   "outputs": [],
   "source": [
    "#mortality_rate.value_counts()\n",
    "#data1[data1['Mortality_Rate']>8]"
   ]
  },
  {
   "cell_type": "markdown",
   "metadata": {
    "colab_type": "text",
    "id": "dckIeUgZ1Bwt"
   },
   "source": [
    "Two interesting things to note: \n",
    "\n",
    "1: overlapping: there are 28 points of 0 mortality rate.\n",
    "\n",
    "2: outliers: three states have mortality rate>8%. It seems like they have high mortality rates because they have pretty small population? The confirmed cases and death cases are pretty low."
   ]
  },
  {
   "cell_type": "markdown",
   "metadata": {
    "colab_type": "text",
    "id": "1Tn-UmhX1Bwu"
   },
   "source": [
    "## Update state representation"
   ]
  },
  {
   "cell_type": "markdown",
   "metadata": {
    "colab_type": "text",
    "id": "6GyGIIC_1Bwu"
   },
   "source": [
    "For table 2, there are >150 entries with NaN values in \"State\". Here we add a new column to table 2 called \"State update\", where we fill in the NaN values for State based on the state abbreviation column."
   ]
  },
  {
   "cell_type": "code",
   "execution_count": 7,
   "metadata": {
    "colab": {
     "base_uri": "https://localhost:8080/",
     "height": 229
    },
    "colab_type": "code",
    "executionInfo": {
     "elapsed": 786,
     "status": "error",
     "timestamp": 1588967590810,
     "user": {
      "displayName": "Eric Yang",
      "photoUrl": "",
      "userId": "16540930875245764335"
     },
     "user_tz": 420
    },
    "id": "iBGk95gt1Bwu",
    "outputId": "822b6ef2-48ca-4aa0-d587-d3abd301fb9c"
   },
   "outputs": [
    {
     "data": {
      "text/plain": [
       "0"
      ]
     },
     "execution_count": 7,
     "metadata": {},
     "output_type": "execute_result"
    }
   ],
   "source": [
    "state_abbreviation = data2.groupby(['StateName', 'State']).agg(sum)#['StateName']\n",
    "state_dict_original = state_abbreviation.reset_index()[['StateName', 'State']]\n",
    "new_state_df = pd.DataFrame({'StateName': ['AK','VI', 'PR', \"HI\", 'GU',\"AS\",'MP'], \n",
    "                             'State': ['Alaska', 'Virgin Islands','Puerto Rico','Hawaii', \"Guam\",'American Samoa'\n",
    "                                      ,'Northern Marianas']})\n",
    "state_dict_combined = pd.concat([state_dict_original, new_state_df])\n",
    "state_dict = state_dict_combined.set_index('StateName')['State']\n",
    "mapped_state = data2['StateName'].map(state_dict)\n",
    "mapped_state.isna().sum()\n",
    "#state_dict"
   ]
  },
  {
   "cell_type": "markdown",
   "metadata": {
    "colab_type": "text",
    "id": "EtgVglZU1Bww"
   },
   "source": [
    "## Append mortality to table 2"
   ]
  },
  {
   "cell_type": "markdown",
   "metadata": {
    "colab_type": "text",
    "id": "xaaIk1bN1Bww"
   },
   "source": [
    "Here we add a new column to table 2 called \"Mortality Rate\", which corresponds to the \"Mortality_Rate\" column in table 1, and mapped the mortality rate to each county based on which state it is in."
   ]
  },
  {
   "cell_type": "markdown",
   "metadata": {
    "colab_type": "text",
    "id": "EvUjoADw1Bwx"
   },
   "source": [
    "**Question about methodology**: Is it valid to take the aggregate data from a bigger granularity (state) to a data of lower granularity (county)? The mortality rate in different county is different, and since each county has different population, we cannot generalize one state's mortality rate to all counties in it?\n",
    "\n"
   ]
  },
  {
   "cell_type": "code",
   "execution_count": 8,
   "metadata": {
    "colab": {},
    "colab_type": "code",
    "id": "xTgGEgY11Bwx"
   },
   "outputs": [],
   "source": [
    "data2['State updated'] = mapped_state\n",
    "mortality_dict = data1[data1['Country_Region'] == 'US'][['Province_State', 'Mortality_Rate']].set_index('Province_State')['Mortality_Rate']\n",
    "mapped_mortality = data2['State updated'].map(mortality_dict)\n",
    "mapped_mortality.isna().sum() #should be American Samoa \n",
    "data2['Mortality Rate'] = mapped_mortality\n",
    "#data2\n"
   ]
  },
  {
   "cell_type": "markdown",
   "metadata": {
    "colab_type": "text",
    "id": "6faOxzqF1Bwz"
   },
   "source": [
    "## Feature Selection"
   ]
  },
  {
   "cell_type": "markdown",
   "metadata": {
    "colab_type": "text",
    "id": "b_ZCouiR1Bwz"
   },
   "source": [
    "To begin with, we first take an \"educated guess\" and select a few features of interest in the second table, which we think will affect the death rate of Covid 19. \n",
    "\n",
    "We also wants to drop American Samoa and Northern Marianas because they do not have mortality rates. We also manually fill in the mortality rate for DC (don't know why it was not there). "
   ]
  },
  {
   "cell_type": "code",
   "execution_count": 9,
   "metadata": {
    "colab": {},
    "colab_type": "code",
    "id": "X898b9pg1Bwz",
    "outputId": "f77135cc-d32d-4ee7-f7d1-3e568f51961f"
   },
   "outputs": [
    {
     "name": "stderr",
     "output_type": "stream",
     "text": [
      "D:\\Anaconda3\\lib\\site-packages\\ipykernel_launcher.py:2: UserWarning: Boolean Series key will be reindexed to match DataFrame index.\n",
      "  \n"
     ]
    },
    {
     "data": {
      "text/html": [
       "<div>\n",
       "<style scoped>\n",
       "    .dataframe tbody tr th:only-of-type {\n",
       "        vertical-align: middle;\n",
       "    }\n",
       "\n",
       "    .dataframe tbody tr th {\n",
       "        vertical-align: top;\n",
       "    }\n",
       "\n",
       "    .dataframe thead th {\n",
       "        text-align: right;\n",
       "    }\n",
       "</style>\n",
       "<table border=\"1\" class=\"dataframe\">\n",
       "  <thead>\n",
       "    <tr style=\"text-align: right;\">\n",
       "      <th></th>\n",
       "      <th>CountyName</th>\n",
       "      <th>State updated</th>\n",
       "      <th>stay at home</th>\n",
       "      <th>public schools</th>\n",
       "      <th>&gt;500 gatherings</th>\n",
       "      <th>Mortality Rate</th>\n",
       "    </tr>\n",
       "  </thead>\n",
       "  <tbody>\n",
       "    <tr>\n",
       "      <th>0</th>\n",
       "      <td>Autauga</td>\n",
       "      <td>Alabama</td>\n",
       "      <td>737519.0</td>\n",
       "      <td>737500.0</td>\n",
       "      <td>737497.0</td>\n",
       "      <td>3.247029</td>\n",
       "    </tr>\n",
       "    <tr>\n",
       "      <th>1</th>\n",
       "      <td>Baldwin</td>\n",
       "      <td>Alabama</td>\n",
       "      <td>737519.0</td>\n",
       "      <td>737500.0</td>\n",
       "      <td>737497.0</td>\n",
       "      <td>3.247029</td>\n",
       "    </tr>\n",
       "    <tr>\n",
       "      <th>2</th>\n",
       "      <td>Barbour</td>\n",
       "      <td>Alabama</td>\n",
       "      <td>737519.0</td>\n",
       "      <td>737500.0</td>\n",
       "      <td>737497.0</td>\n",
       "      <td>3.247029</td>\n",
       "    </tr>\n",
       "    <tr>\n",
       "      <th>3</th>\n",
       "      <td>Bibb</td>\n",
       "      <td>Alabama</td>\n",
       "      <td>737519.0</td>\n",
       "      <td>737500.0</td>\n",
       "      <td>737497.0</td>\n",
       "      <td>3.247029</td>\n",
       "    </tr>\n",
       "    <tr>\n",
       "      <th>4</th>\n",
       "      <td>Blount</td>\n",
       "      <td>Alabama</td>\n",
       "      <td>737519.0</td>\n",
       "      <td>737500.0</td>\n",
       "      <td>737497.0</td>\n",
       "      <td>3.247029</td>\n",
       "    </tr>\n",
       "    <tr>\n",
       "      <th>...</th>\n",
       "      <td>...</td>\n",
       "      <td>...</td>\n",
       "      <td>...</td>\n",
       "      <td>...</td>\n",
       "      <td>...</td>\n",
       "      <td>...</td>\n",
       "    </tr>\n",
       "    <tr>\n",
       "      <th>3239</th>\n",
       "      <td>Kalawao</td>\n",
       "      <td>Hawaii</td>\n",
       "      <td>737509.0</td>\n",
       "      <td>737507.0</td>\n",
       "      <td>737509.0</td>\n",
       "      <td>1.567944</td>\n",
       "    </tr>\n",
       "    <tr>\n",
       "      <th>3240</th>\n",
       "      <td>Ciales Municipio</td>\n",
       "      <td>Puerto Rico</td>\n",
       "      <td>NaN</td>\n",
       "      <td>737500.0</td>\n",
       "      <td>NaN</td>\n",
       "      <td>5.366726</td>\n",
       "    </tr>\n",
       "    <tr>\n",
       "      <th>3241</th>\n",
       "      <td>Humacao Municipio</td>\n",
       "      <td>Puerto Rico</td>\n",
       "      <td>NaN</td>\n",
       "      <td>737500.0</td>\n",
       "      <td>NaN</td>\n",
       "      <td>5.366726</td>\n",
       "    </tr>\n",
       "    <tr>\n",
       "      <th>3242</th>\n",
       "      <td>New York City</td>\n",
       "      <td>New York</td>\n",
       "      <td>NaN</td>\n",
       "      <td>NaN</td>\n",
       "      <td>NaN</td>\n",
       "      <td>7.310767</td>\n",
       "    </tr>\n",
       "    <tr>\n",
       "      <th>3243</th>\n",
       "      <td>Kansas City</td>\n",
       "      <td>Missouri</td>\n",
       "      <td>NaN</td>\n",
       "      <td>NaN</td>\n",
       "      <td>NaN</td>\n",
       "      <td>3.531099</td>\n",
       "    </tr>\n",
       "  </tbody>\n",
       "</table>\n",
       "<p>3234 rows × 6 columns</p>\n",
       "</div>"
      ],
      "text/plain": [
       "             CountyName State updated  stay at home  public schools  \\\n",
       "0               Autauga       Alabama      737519.0        737500.0   \n",
       "1               Baldwin       Alabama      737519.0        737500.0   \n",
       "2               Barbour       Alabama      737519.0        737500.0   \n",
       "3                  Bibb       Alabama      737519.0        737500.0   \n",
       "4                Blount       Alabama      737519.0        737500.0   \n",
       "...                 ...           ...           ...             ...   \n",
       "3239            Kalawao        Hawaii      737509.0        737507.0   \n",
       "3240   Ciales Municipio   Puerto Rico           NaN        737500.0   \n",
       "3241  Humacao Municipio   Puerto Rico           NaN        737500.0   \n",
       "3242      New York City      New York           NaN             NaN   \n",
       "3243        Kansas City      Missouri           NaN             NaN   \n",
       "\n",
       "      >500 gatherings  Mortality Rate  \n",
       "0            737497.0        3.247029  \n",
       "1            737497.0        3.247029  \n",
       "2            737497.0        3.247029  \n",
       "3            737497.0        3.247029  \n",
       "4            737497.0        3.247029  \n",
       "...               ...             ...  \n",
       "3239         737509.0        1.567944  \n",
       "3240              NaN        5.366726  \n",
       "3241              NaN        5.366726  \n",
       "3242              NaN        7.310767  \n",
       "3243              NaN        3.531099  \n",
       "\n",
       "[3234 rows x 6 columns]"
      ]
     },
     "execution_count": 9,
     "metadata": {},
     "output_type": "execute_result"
    }
   ],
   "source": [
    "operate_data2 = data2[['CountyName', 'State updated', 'stay at home', 'public schools', '>500 gatherings',\n",
    "                                 'Mortality Rate']][data2['State updated'] != 'American Samoa'][data2['State updated'] != 'Northern Marianas']\n",
    "#operate_data2[operate_data2['CountyName']=='Washington']\n",
    "operate_data2['Mortality Rate'] = operate_data2['Mortality Rate'].fillna(3.413353)\n",
    "operate_data2_with_states = operate_data2\n",
    "operate_data2_with_states"
   ]
  },
  {
   "cell_type": "markdown",
   "metadata": {
    "colab_type": "text",
    "id": "qyKl5DGK1Bw2"
   },
   "source": [
    "##  Missing Values"
   ]
  },
  {
   "cell_type": "markdown",
   "metadata": {
    "colab_type": "text",
    "id": "2qkZZ_OK1Bw2"
   },
   "source": [
    "#2 Now we will look at missing values."
   ]
  },
  {
   "cell_type": "code",
   "execution_count": 10,
   "metadata": {
    "colab": {},
    "colab_type": "code",
    "id": "7p046CJ81Bw2",
    "outputId": "a84161e7-50b2-4f49-d8a7-723200ac2603",
    "scrolled": true
   },
   "outputs": [
    {
     "data": {
      "text/plain": [
       "CountyName           0\n",
       "State updated        0\n",
       "stay at home       582\n",
       "public schools      15\n",
       ">500 gatherings    211\n",
       "Mortality Rate       0\n",
       "dtype: int64"
      ]
     },
     "execution_count": 10,
     "metadata": {},
     "output_type": "execute_result"
    }
   ],
   "source": [
    "operate_data2.isnull().sum()"
   ]
  },
  {
   "cell_type": "markdown",
   "metadata": {
    "colab_type": "text",
    "id": "PpcOge9V1Bw5"
   },
   "source": [
    "We should replace the NaN values of 'stay at home', 'public school', and '>500 gatherings' with the average value in their states. \n",
    "\n",
    "**For Now** for simplicity I will replace all values in the three columns with an average value of the whole table (which is incorrect but convenient). \n",
    "\n",
    "**An idea** We can also fill all the NaN values with .isna(method = 'ffill') to fill all the values with previous valid values, which saves more time and should work well, given that adjacent counties are likely to be in the same state.\n"
   ]
  },
  {
   "cell_type": "code",
   "execution_count": 11,
   "metadata": {
    "colab": {},
    "colab_type": "code",
    "id": "hFSCYnza1Bw5",
    "outputId": "c580db86-1802-4efc-d81e-a7eae67a3975"
   },
   "outputs": [
    {
     "data": {
      "text/plain": [
       "CountyName         0\n",
       "State updated      0\n",
       "stay at home       0\n",
       "public schools     0\n",
       ">500 gatherings    0\n",
       "Mortality Rate     0\n",
       "dtype: int64"
      ]
     },
     "execution_count": 11,
     "metadata": {},
     "output_type": "execute_result"
    }
   ],
   "source": [
    "operate_data2_with_states['stay at home'] = operate_data2_with_states['stay at home'].fillna(np.mean(operate_data2_with_states['stay at home']))\n",
    "operate_data2_with_states['public schools'] = operate_data2_with_states['public schools'].fillna(np.mean(operate_data2_with_states['public schools']))\n",
    "operate_data2_with_states['>500 gatherings'] = operate_data2_with_states['>500 gatherings'].fillna(np.mean(operate_data2_with_states['>500 gatherings']))\n",
    "operate_data2_with_states.isnull().sum()\n",
    "#operate_data2_with_states[operate_data2_with_states['stay at home'].isnull()]"
   ]
  },
  {
   "cell_type": "markdown",
   "metadata": {
    "colab_type": "text",
    "id": "ASvl_o8J1Bw7"
   },
   "source": [
    "Now we can see all the null values are filled."
   ]
  },
  {
   "cell_type": "markdown",
   "metadata": {
    "colab_type": "text",
    "id": "7kYfsFYE1Bw7"
   },
   "source": [
    "## Outliers"
   ]
  },
  {
   "cell_type": "markdown",
   "metadata": {
    "colab_type": "text",
    "id": "t9buP9m51Bw8"
   },
   "source": [
    "#3 Let's observe whether there is any outlier for each feature. "
   ]
  },
  {
   "cell_type": "code",
   "execution_count": 12,
   "metadata": {
    "colab": {},
    "colab_type": "code",
    "id": "v5tkMp_z1Bw8"
   },
   "outputs": [],
   "source": [
    "#operate_data2_with_states['stay at home'].value_counts()\n",
    "#operate_data2_with_states['public schools'].value_counts()\n",
    "#operate_data2_with_states['>500 gatherings'].value_counts()\n"
   ]
  },
  {
   "cell_type": "markdown",
   "metadata": {
    "colab_type": "text",
    "id": "kHaeKlgK1Bw9"
   },
   "source": [
    "By observing the value_counts, we find that there is no significant outlier. "
   ]
  },
  {
   "cell_type": "markdown",
   "metadata": {
    "colab_type": "text",
    "id": "ngnI2CI51Bw-"
   },
   "source": [
    "**To Do:** Here we can also draw some scatter plot to show the relation between some features we choose and the response vector (death rate), and show they have positive correlation."
   ]
  },
  {
   "cell_type": "markdown",
   "metadata": {
    "colab_type": "text",
    "id": "y_H5fPIH1Bw-"
   },
   "source": [
    "## PCA (for feature selection)"
   ]
  },
  {
   "cell_type": "markdown",
   "metadata": {
    "colab_type": "text",
    "id": "Q-K1LhDs1Bw-"
   },
   "source": [
    "I have copied the below text from lecture slides. Not entirely sure how we can use PCA, but it should be an idea in performing feature selection.\n",
    "\n",
    "Principal Component Analysis for Exploratory Data Analysis\n",
    "\n",
    "Goal: Plot high dimensional data as a 2 dimensional approximation that results from a linear combinations of attributes.\n",
    "\n",
    "Related Goal: Determine whether this two-dimensional plot is really showing the variability in the data. (If not, be wary of conclusions drawn using PCA.)\n",
    "\n",
    "PCA is appropriate  for EDA when:\n",
    "\n",
    "Visually identifying clusters of similar observations in high dimensions.\n",
    "\n",
    "You are still exploring the data.\n",
    "(If you already know what to predict, you probably don’t need PCA.)\n",
    "\n",
    "You have reason to believe that the data are inherently low rank: there are many attributes, but only a few (perhaps unobserved) attributes mostly determine the rest through a linear association.\n"
   ]
  },
  {
   "cell_type": "code",
   "execution_count": 13,
   "metadata": {
    "colab": {},
    "colab_type": "code",
    "id": "Br5UGYq_1Bw_",
    "outputId": "b44e75e1-d643-457e-d5f1-3edf3ab3e6b0"
   },
   "outputs": [
    {
     "data": {
      "text/html": [
       "<div>\n",
       "<style scoped>\n",
       "    .dataframe tbody tr th:only-of-type {\n",
       "        vertical-align: middle;\n",
       "    }\n",
       "\n",
       "    .dataframe tbody tr th {\n",
       "        vertical-align: top;\n",
       "    }\n",
       "\n",
       "    .dataframe thead th {\n",
       "        text-align: right;\n",
       "    }\n",
       "</style>\n",
       "<table border=\"1\" class=\"dataframe\">\n",
       "  <thead>\n",
       "    <tr style=\"text-align: right;\">\n",
       "      <th></th>\n",
       "      <th>lat</th>\n",
       "      <th>lon</th>\n",
       "      <th>POP_LATITUDE</th>\n",
       "      <th>POP_LONGITUDE</th>\n",
       "      <th>Rural-UrbanContinuumCode2013</th>\n",
       "      <th>PopulationEstimate2018</th>\n",
       "      <th>PopTotalMale2017</th>\n",
       "      <th>PopTotalFemale2017</th>\n",
       "      <th>FracMale2017</th>\n",
       "      <th>PopulationEstimate65+2017</th>\n",
       "      <th>...</th>\n",
       "      <th>public schools</th>\n",
       "      <th>restaurant dine-in</th>\n",
       "      <th>entertainment/gym</th>\n",
       "      <th>federal guidelines</th>\n",
       "      <th>foreign travel ban</th>\n",
       "      <th>SVIPercentile</th>\n",
       "      <th>HPSAShortage</th>\n",
       "      <th>HPSAServedPop</th>\n",
       "      <th>HPSAUnderservedPop</th>\n",
       "      <th>Mortality Rate</th>\n",
       "    </tr>\n",
       "  </thead>\n",
       "  <tbody>\n",
       "    <tr>\n",
       "      <th>0</th>\n",
       "      <td>-1.183100</td>\n",
       "      <td>0.450419</td>\n",
       "      <td>-0.897046</td>\n",
       "      <td>0.385337</td>\n",
       "      <td>-1.077926</td>\n",
       "      <td>-0.142820</td>\n",
       "      <td>-0.144330</td>\n",
       "      <td>-0.139855</td>\n",
       "      <td>-0.621969</td>\n",
       "      <td>-0.166017</td>\n",
       "      <td>...</td>\n",
       "      <td>-0.694048</td>\n",
       "      <td>-0.158968</td>\n",
       "      <td>1.289019</td>\n",
       "      <td>0.0</td>\n",
       "      <td>0.0</td>\n",
       "      <td>-0.223209</td>\n",
       "      <td>0.000000</td>\n",
       "      <td>0.000000</td>\n",
       "      <td>0.000000</td>\n",
       "      <td>-0.319650</td>\n",
       "    </tr>\n",
       "    <tr>\n",
       "      <th>1</th>\n",
       "      <td>-1.553909</td>\n",
       "      <td>0.356098</td>\n",
       "      <td>-1.217620</td>\n",
       "      <td>0.290719</td>\n",
       "      <td>-0.710866</td>\n",
       "      <td>0.350062</td>\n",
       "      <td>0.327061</td>\n",
       "      <td>0.343308</td>\n",
       "      <td>-0.671181</td>\n",
       "      <td>0.576091</td>\n",
       "      <td>...</td>\n",
       "      <td>-0.694048</td>\n",
       "      <td>-0.158968</td>\n",
       "      <td>1.289019</td>\n",
       "      <td>0.0</td>\n",
       "      <td>0.0</td>\n",
       "      <td>-0.982529</td>\n",
       "      <td>0.000000</td>\n",
       "      <td>0.000000</td>\n",
       "      <td>0.000000</td>\n",
       "      <td>-0.319650</td>\n",
       "    </tr>\n",
       "    <tr>\n",
       "      <th>2</th>\n",
       "      <td>-1.320177</td>\n",
       "      <td>0.559376</td>\n",
       "      <td>-1.004867</td>\n",
       "      <td>0.473681</td>\n",
       "      <td>0.390315</td>\n",
       "      <td>-0.236043</td>\n",
       "      <td>-0.228888</td>\n",
       "      <td>-0.238762</td>\n",
       "      <td>1.209035</td>\n",
       "      <td>-0.245308</td>\n",
       "      <td>...</td>\n",
       "      <td>-0.694048</td>\n",
       "      <td>-0.158968</td>\n",
       "      <td>1.289019</td>\n",
       "      <td>0.0</td>\n",
       "      <td>0.0</td>\n",
       "      <td>1.718395</td>\n",
       "      <td>0.227212</td>\n",
       "      <td>-0.277673</td>\n",
       "      <td>0.218240</td>\n",
       "      <td>-0.319650</td>\n",
       "    </tr>\n",
       "    <tr>\n",
       "      <th>3</th>\n",
       "      <td>-1.088652</td>\n",
       "      <td>0.408557</td>\n",
       "      <td>-0.809893</td>\n",
       "      <td>0.338074</td>\n",
       "      <td>-1.444986</td>\n",
       "      <td>-0.243572</td>\n",
       "      <td>-0.236292</td>\n",
       "      <td>-0.247152</td>\n",
       "      <td>1.554889</td>\n",
       "      <td>-0.269848</td>\n",
       "      <td>...</td>\n",
       "      <td>-0.694048</td>\n",
       "      <td>-0.158968</td>\n",
       "      <td>1.289019</td>\n",
       "      <td>0.0</td>\n",
       "      <td>0.0</td>\n",
       "      <td>0.348014</td>\n",
       "      <td>-0.171121</td>\n",
       "      <td>0.227732</td>\n",
       "      <td>-0.263002</td>\n",
       "      <td>-0.319650</td>\n",
       "    </tr>\n",
       "    <tr>\n",
       "      <th>4</th>\n",
       "      <td>-0.884617</td>\n",
       "      <td>0.457658</td>\n",
       "      <td>-0.658051</td>\n",
       "      <td>0.378076</td>\n",
       "      <td>-1.444986</td>\n",
       "      <td>-0.136026</td>\n",
       "      <td>-0.134434</td>\n",
       "      <td>-0.134426</td>\n",
       "      <td>-0.330952</td>\n",
       "      <td>-0.123285</td>\n",
       "      <td>...</td>\n",
       "      <td>-0.694048</td>\n",
       "      <td>-0.158968</td>\n",
       "      <td>1.289019</td>\n",
       "      <td>0.0</td>\n",
       "      <td>0.0</td>\n",
       "      <td>-0.262006</td>\n",
       "      <td>0.362382</td>\n",
       "      <td>1.117732</td>\n",
       "      <td>0.495844</td>\n",
       "      <td>-0.319650</td>\n",
       "    </tr>\n",
       "    <tr>\n",
       "      <th>...</th>\n",
       "      <td>...</td>\n",
       "      <td>...</td>\n",
       "      <td>...</td>\n",
       "      <td>...</td>\n",
       "      <td>...</td>\n",
       "      <td>...</td>\n",
       "      <td>...</td>\n",
       "      <td>...</td>\n",
       "      <td>...</td>\n",
       "      <td>...</td>\n",
       "      <td>...</td>\n",
       "      <td>...</td>\n",
       "      <td>...</td>\n",
       "      <td>...</td>\n",
       "      <td>...</td>\n",
       "      <td>...</td>\n",
       "      <td>...</td>\n",
       "      <td>...</td>\n",
       "      <td>...</td>\n",
       "      <td>...</td>\n",
       "      <td>...</td>\n",
       "    </tr>\n",
       "    <tr>\n",
       "      <th>3239</th>\n",
       "      <td>-2.609756</td>\n",
       "      <td>0.979194</td>\n",
       "      <td>-2.755294</td>\n",
       "      <td>-4.873380</td>\n",
       "      <td>-0.710866</td>\n",
       "      <td>-0.311280</td>\n",
       "      <td>-0.311103</td>\n",
       "      <td>-0.309761</td>\n",
       "      <td>-1.036264</td>\n",
       "      <td>-0.348332</td>\n",
       "      <td>...</td>\n",
       "      <td>1.352940</td>\n",
       "      <td>0.076197</td>\n",
       "      <td>0.752547</td>\n",
       "      <td>0.0</td>\n",
       "      <td>0.0</td>\n",
       "      <td>-0.636124</td>\n",
       "      <td>-0.417537</td>\n",
       "      <td>-0.553325</td>\n",
       "      <td>-0.410221</td>\n",
       "      <td>-1.459617</td>\n",
       "    </tr>\n",
       "    <tr>\n",
       "      <th>3240</th>\n",
       "      <td>-2.609756</td>\n",
       "      <td>0.979194</td>\n",
       "      <td>-3.227433</td>\n",
       "      <td>1.877468</td>\n",
       "      <td>-1.444986</td>\n",
       "      <td>-0.263242</td>\n",
       "      <td>-0.261569</td>\n",
       "      <td>-0.258821</td>\n",
       "      <td>-0.727275</td>\n",
       "      <td>-0.279075</td>\n",
       "      <td>...</td>\n",
       "      <td>-0.694048</td>\n",
       "      <td>-1.099628</td>\n",
       "      <td>-1.035694</td>\n",
       "      <td>0.0</td>\n",
       "      <td>0.0</td>\n",
       "      <td>-0.636124</td>\n",
       "      <td>-0.417537</td>\n",
       "      <td>-0.553325</td>\n",
       "      <td>-0.410221</td>\n",
       "      <td>1.119459</td>\n",
       "    </tr>\n",
       "    <tr>\n",
       "      <th>3241</th>\n",
       "      <td>-2.609756</td>\n",
       "      <td>0.979194</td>\n",
       "      <td>-3.255293</td>\n",
       "      <td>1.927985</td>\n",
       "      <td>-1.444986</td>\n",
       "      <td>-0.158202</td>\n",
       "      <td>-0.157763</td>\n",
       "      <td>-0.143205</td>\n",
       "      <td>-1.332549</td>\n",
       "      <td>-0.107383</td>\n",
       "      <td>...</td>\n",
       "      <td>-0.694048</td>\n",
       "      <td>-1.099628</td>\n",
       "      <td>-1.035694</td>\n",
       "      <td>0.0</td>\n",
       "      <td>0.0</td>\n",
       "      <td>-0.636124</td>\n",
       "      <td>-0.417537</td>\n",
       "      <td>-0.553325</td>\n",
       "      <td>-0.410221</td>\n",
       "      <td>1.119459</td>\n",
       "    </tr>\n",
       "    <tr>\n",
       "      <th>3242</th>\n",
       "      <td>-2.609756</td>\n",
       "      <td>0.979194</td>\n",
       "      <td>-3.255293</td>\n",
       "      <td>1.927985</td>\n",
       "      <td>-1.444986</td>\n",
       "      <td>-0.158202</td>\n",
       "      <td>-0.157763</td>\n",
       "      <td>-0.143205</td>\n",
       "      <td>-1.332549</td>\n",
       "      <td>-0.107383</td>\n",
       "      <td>...</td>\n",
       "      <td>-0.694048</td>\n",
       "      <td>-1.099628</td>\n",
       "      <td>-1.035694</td>\n",
       "      <td>0.0</td>\n",
       "      <td>0.0</td>\n",
       "      <td>-0.636124</td>\n",
       "      <td>-0.417537</td>\n",
       "      <td>-0.553325</td>\n",
       "      <td>-0.410221</td>\n",
       "      <td>2.439311</td>\n",
       "    </tr>\n",
       "    <tr>\n",
       "      <th>3243</th>\n",
       "      <td>-2.609756</td>\n",
       "      <td>0.979194</td>\n",
       "      <td>-3.255293</td>\n",
       "      <td>1.927985</td>\n",
       "      <td>-1.444986</td>\n",
       "      <td>-0.158202</td>\n",
       "      <td>-0.157763</td>\n",
       "      <td>-0.143205</td>\n",
       "      <td>-1.332549</td>\n",
       "      <td>-0.107383</td>\n",
       "      <td>...</td>\n",
       "      <td>-0.694048</td>\n",
       "      <td>-1.099628</td>\n",
       "      <td>-1.035694</td>\n",
       "      <td>0.0</td>\n",
       "      <td>0.0</td>\n",
       "      <td>-0.636124</td>\n",
       "      <td>-0.417537</td>\n",
       "      <td>-0.553325</td>\n",
       "      <td>-0.410221</td>\n",
       "      <td>-0.126788</td>\n",
       "    </tr>\n",
       "  </tbody>\n",
       "</table>\n",
       "<p>3244 rows × 80 columns</p>\n",
       "</div>"
      ],
      "text/plain": [
       "           lat       lon  POP_LATITUDE  POP_LONGITUDE  \\\n",
       "0    -1.183100  0.450419     -0.897046       0.385337   \n",
       "1    -1.553909  0.356098     -1.217620       0.290719   \n",
       "2    -1.320177  0.559376     -1.004867       0.473681   \n",
       "3    -1.088652  0.408557     -0.809893       0.338074   \n",
       "4    -0.884617  0.457658     -0.658051       0.378076   \n",
       "...        ...       ...           ...            ...   \n",
       "3239 -2.609756  0.979194     -2.755294      -4.873380   \n",
       "3240 -2.609756  0.979194     -3.227433       1.877468   \n",
       "3241 -2.609756  0.979194     -3.255293       1.927985   \n",
       "3242 -2.609756  0.979194     -3.255293       1.927985   \n",
       "3243 -2.609756  0.979194     -3.255293       1.927985   \n",
       "\n",
       "      Rural-UrbanContinuumCode2013  PopulationEstimate2018  PopTotalMale2017  \\\n",
       "0                        -1.077926               -0.142820         -0.144330   \n",
       "1                        -0.710866                0.350062          0.327061   \n",
       "2                         0.390315               -0.236043         -0.228888   \n",
       "3                        -1.444986               -0.243572         -0.236292   \n",
       "4                        -1.444986               -0.136026         -0.134434   \n",
       "...                            ...                     ...               ...   \n",
       "3239                     -0.710866               -0.311280         -0.311103   \n",
       "3240                     -1.444986               -0.263242         -0.261569   \n",
       "3241                     -1.444986               -0.158202         -0.157763   \n",
       "3242                     -1.444986               -0.158202         -0.157763   \n",
       "3243                     -1.444986               -0.158202         -0.157763   \n",
       "\n",
       "      PopTotalFemale2017  FracMale2017  PopulationEstimate65+2017  ...  \\\n",
       "0              -0.139855     -0.621969                  -0.166017  ...   \n",
       "1               0.343308     -0.671181                   0.576091  ...   \n",
       "2              -0.238762      1.209035                  -0.245308  ...   \n",
       "3              -0.247152      1.554889                  -0.269848  ...   \n",
       "4              -0.134426     -0.330952                  -0.123285  ...   \n",
       "...                  ...           ...                        ...  ...   \n",
       "3239           -0.309761     -1.036264                  -0.348332  ...   \n",
       "3240           -0.258821     -0.727275                  -0.279075  ...   \n",
       "3241           -0.143205     -1.332549                  -0.107383  ...   \n",
       "3242           -0.143205     -1.332549                  -0.107383  ...   \n",
       "3243           -0.143205     -1.332549                  -0.107383  ...   \n",
       "\n",
       "      public schools  restaurant dine-in  entertainment/gym  \\\n",
       "0          -0.694048           -0.158968           1.289019   \n",
       "1          -0.694048           -0.158968           1.289019   \n",
       "2          -0.694048           -0.158968           1.289019   \n",
       "3          -0.694048           -0.158968           1.289019   \n",
       "4          -0.694048           -0.158968           1.289019   \n",
       "...              ...                 ...                ...   \n",
       "3239        1.352940            0.076197           0.752547   \n",
       "3240       -0.694048           -1.099628          -1.035694   \n",
       "3241       -0.694048           -1.099628          -1.035694   \n",
       "3242       -0.694048           -1.099628          -1.035694   \n",
       "3243       -0.694048           -1.099628          -1.035694   \n",
       "\n",
       "      federal guidelines  foreign travel ban  SVIPercentile  HPSAShortage  \\\n",
       "0                    0.0                 0.0      -0.223209      0.000000   \n",
       "1                    0.0                 0.0      -0.982529      0.000000   \n",
       "2                    0.0                 0.0       1.718395      0.227212   \n",
       "3                    0.0                 0.0       0.348014     -0.171121   \n",
       "4                    0.0                 0.0      -0.262006      0.362382   \n",
       "...                  ...                 ...            ...           ...   \n",
       "3239                 0.0                 0.0      -0.636124     -0.417537   \n",
       "3240                 0.0                 0.0      -0.636124     -0.417537   \n",
       "3241                 0.0                 0.0      -0.636124     -0.417537   \n",
       "3242                 0.0                 0.0      -0.636124     -0.417537   \n",
       "3243                 0.0                 0.0      -0.636124     -0.417537   \n",
       "\n",
       "      HPSAServedPop  HPSAUnderservedPop  Mortality Rate  \n",
       "0          0.000000            0.000000       -0.319650  \n",
       "1          0.000000            0.000000       -0.319650  \n",
       "2         -0.277673            0.218240       -0.319650  \n",
       "3          0.227732           -0.263002       -0.319650  \n",
       "4          1.117732            0.495844       -0.319650  \n",
       "...             ...                 ...             ...  \n",
       "3239      -0.553325           -0.410221       -1.459617  \n",
       "3240      -0.553325           -0.410221        1.119459  \n",
       "3241      -0.553325           -0.410221        1.119459  \n",
       "3242      -0.553325           -0.410221        2.439311  \n",
       "3243      -0.553325           -0.410221       -0.126788  \n",
       "\n",
       "[3244 rows x 80 columns]"
      ]
     },
     "execution_count": 13,
     "metadata": {},
     "output_type": "execute_result"
    }
   ],
   "source": [
    "data2_PCA = data2.select_dtypes(['number']).drop(columns=['STATEFP','COUNTYFP'])\n",
    "# center our data and normalize the variance\n",
    "df_mean = np.mean(data2_PCA)\n",
    "df_centered = data2_PCA - df_mean\n",
    "df_centered_scaled = df_centered / (np.var(df_centered))**0.5\n",
    "data2_PCA = df_centered_scaled\n",
    "data2_PCA_fillna =data2_PCA.fillna(method = 'ffill') #use the previous valid data to fill NaN,\n",
    "                                                    #good here since closeby county likely to be in the same State\n",
    "\n",
    "data2_PCA_fillna2 = data2_PCA_fillna.fillna(0) #fill NaN with no previous valid data (whole column is NaN)\n",
    "#sum(data2_PCA_fillna2.isna().sum())\n",
    "data2_PCA_fillna2"
   ]
  },
  {
   "cell_type": "code",
   "execution_count": 14,
   "metadata": {
    "colab": {},
    "colab_type": "code",
    "id": "GfXbdJ6U1BxA",
    "outputId": "3e6137b9-7020-48dd-f716-077b95d3d981"
   },
   "outputs": [
    {
     "data": {
      "image/png": "[encoded data removed]",
      "text/plain": [
       "<Figure size 432x288 with 1 Axes>"
      ]
     },
     "metadata": {
      "needs_background": "light"
     },
     "output_type": "display_data"
    }
   ],
   "source": [
    "#PCA \n",
    "u, s, vt = np.linalg.svd(data2_PCA_fillna2, full_matrices=False)\n",
    "P = u @ np.diag(s)\n",
    "df_1st_2_pcs =pd.DataFrame(P[:,0:2], columns=['pc1', 'pc2'])\n",
    "first_2_pcs = df_1st_2_pcs\n",
    "\n",
    "#jittered scatter plot (added noise)\n",
    "first_2_pcs_jittered = first_2_pcs + np.random.normal(0, 0.1, size = (len(first_2_pcs), 2))\n",
    "sns.scatterplot(data = first_2_pcs_jittered, x = \"pc1\", y = \"pc2\");\n",
    "\n",
    "#a better looking scatter plot with labels\n",
    "#import plotly.express as px\n",
    "#px.scatter(data_frame = first_2_pcs_jittered, x = \"pc1\", y = \"pc2\", text = list(df_1972_to_2016.index)).update_traces(textposition = 'top center')\n",
    "\n"
   ]
  },
  {
   "cell_type": "code",
   "execution_count": 15,
   "metadata": {
    "colab": {},
    "colab_type": "code",
    "id": "nWgLmFjN1BxC",
    "outputId": "68e4f7ed-3ace-47b5-ecb6-f7eee318a80c",
    "scrolled": false
   },
   "outputs": [
    {
     "data": {
      "image/png": "[encoded data removed]",
      "text/plain": [
       "<Figure size 720x720 with 1 Axes>"
      ]
     },
     "metadata": {
      "needs_background": "light"
     },
     "output_type": "display_data"
    }
   ],
   "source": [
    "#scree plot\n",
    "plt.figure(figsize = (10,10))\n",
    "x = list(range(1, s.shape[0]+1)) \n",
    "plt.plot(x, s**2 / sum(s**2)); \n",
    "plt.xticks(x, x);\n",
    "plt.xlabel('PC #');\n",
    "plt.ylabel('Fraction of Variance Explained');\n",
    "\n"
   ]
  },
  {
   "cell_type": "markdown",
   "metadata": {
    "colab_type": "text",
    "id": "9eSy1iLU1BxD"
   },
   "source": [
    "This plot doesn't make sense LOL why would latitude explain the variance this much. ???"
   ]
  },
  {
   "cell_type": "markdown",
   "metadata": {
    "colab_type": "text",
    "id": "D8YEZlNN1BxE"
   },
   "source": [
    "## 4. Train-Test Split"
   ]
  },
  {
   "cell_type": "markdown",
   "metadata": {
    "colab_type": "text",
    "id": "pw654jXw1BxE"
   },
   "source": [
    "#4 Let's do a train-test split."
   ]
  },
  {
   "cell_type": "code",
   "execution_count": 16,
   "metadata": {
    "colab": {},
    "colab_type": "code",
    "id": "KLNVlfrw1BxE"
   },
   "outputs": [],
   "source": [
    "from sklearn.model_selection import train_test_split\n",
    "\n",
    "train, test = train_test_split(operate_data2_with_states, test_size=0.1, random_state=42)"
   ]
  },
  {
   "cell_type": "markdown",
   "metadata": {
    "colab_type": "text",
    "id": "dluhwhzt1BxG"
   },
   "source": [
    "Let's do some feature selection. What are some good features to use to predict death rates? "
   ]
  },
  {
   "cell_type": "markdown",
   "metadata": {
    "colab_type": "text",
    "id": "o7-DvgxE1BxG"
   },
   "source": [
    "## Selecting features"
   ]
  },
  {
   "cell_type": "markdown",
   "metadata": {
    "colab_type": "text",
    "id": "b9-j12bP1BxG"
   },
   "source": [
    "Let's draw some scatter plot to see whether some features' values increase with mortality rates. "
   ]
  },
  {
   "cell_type": "code",
   "execution_count": 17,
   "metadata": {
    "colab": {},
    "colab_type": "code",
    "id": "zmCVw4FO1BxH",
    "outputId": "6306938f-5f7d-4b97-8ad1-5fe756688990"
   },
   "outputs": [
    {
     "data": {
      "text/plain": [
       "<Figure size 360x360 with 0 Axes>"
      ]
     },
     "execution_count": 17,
     "metadata": {},
     "output_type": "execute_result"
    },
    {
     "data": {
      "text/plain": [
       "<Figure size 360x360 with 0 Axes>"
      ]
     },
     "metadata": {},
     "output_type": "display_data"
    }
   ],
   "source": [
    "plt.figure(figsize = (5,5))\n",
    "#sns.regplot(operate_data2_with_states['Mortality_Rate'])"
   ]
  },
  {
   "cell_type": "code",
   "execution_count": 18,
   "metadata": {
    "colab": {},
    "colab_type": "code",
    "id": "Tbcp__dG1Bxo",
    "outputId": "d831ccbf-eb37-48c2-da98-dc7c6932c55e"
   },
   "outputs": [
    {
     "data": {
      "text/html": [
       "<div>\n",
       "<style scoped>\n",
       "    .dataframe tbody tr th:only-of-type {\n",
       "        vertical-align: middle;\n",
       "    }\n",
       "\n",
       "    .dataframe tbody tr th {\n",
       "        vertical-align: top;\n",
       "    }\n",
       "\n",
       "    .dataframe thead th {\n",
       "        text-align: right;\n",
       "    }\n",
       "</style>\n",
       "<table border=\"1\" class=\"dataframe\">\n",
       "  <thead>\n",
       "    <tr style=\"text-align: right;\">\n",
       "      <th></th>\n",
       "      <th>CountyName</th>\n",
       "      <th>State updated</th>\n",
       "      <th>stay at home</th>\n",
       "      <th>public schools</th>\n",
       "      <th>&gt;500 gatherings</th>\n",
       "      <th>Mortality Rate</th>\n",
       "    </tr>\n",
       "  </thead>\n",
       "  <tbody>\n",
       "    <tr>\n",
       "      <th>0</th>\n",
       "      <td>Autauga</td>\n",
       "      <td>Alabama</td>\n",
       "      <td>737519.000000</td>\n",
       "      <td>737500.000000</td>\n",
       "      <td>737497.000000</td>\n",
       "      <td>3.247029</td>\n",
       "    </tr>\n",
       "    <tr>\n",
       "      <th>1</th>\n",
       "      <td>Baldwin</td>\n",
       "      <td>Alabama</td>\n",
       "      <td>737519.000000</td>\n",
       "      <td>737500.000000</td>\n",
       "      <td>737497.000000</td>\n",
       "      <td>3.247029</td>\n",
       "    </tr>\n",
       "    <tr>\n",
       "      <th>2</th>\n",
       "      <td>Barbour</td>\n",
       "      <td>Alabama</td>\n",
       "      <td>737519.000000</td>\n",
       "      <td>737500.000000</td>\n",
       "      <td>737497.000000</td>\n",
       "      <td>3.247029</td>\n",
       "    </tr>\n",
       "    <tr>\n",
       "      <th>3</th>\n",
       "      <td>Bibb</td>\n",
       "      <td>Alabama</td>\n",
       "      <td>737519.000000</td>\n",
       "      <td>737500.000000</td>\n",
       "      <td>737497.000000</td>\n",
       "      <td>3.247029</td>\n",
       "    </tr>\n",
       "    <tr>\n",
       "      <th>4</th>\n",
       "      <td>Blount</td>\n",
       "      <td>Alabama</td>\n",
       "      <td>737519.000000</td>\n",
       "      <td>737500.000000</td>\n",
       "      <td>737497.000000</td>\n",
       "      <td>3.247029</td>\n",
       "    </tr>\n",
       "    <tr>\n",
       "      <th>...</th>\n",
       "      <td>...</td>\n",
       "      <td>...</td>\n",
       "      <td>...</td>\n",
       "      <td>...</td>\n",
       "      <td>...</td>\n",
       "      <td>...</td>\n",
       "    </tr>\n",
       "    <tr>\n",
       "      <th>3239</th>\n",
       "      <td>Kalawao</td>\n",
       "      <td>Hawaii</td>\n",
       "      <td>737509.000000</td>\n",
       "      <td>737507.000000</td>\n",
       "      <td>737509.000000</td>\n",
       "      <td>1.567944</td>\n",
       "    </tr>\n",
       "    <tr>\n",
       "      <th>3240</th>\n",
       "      <td>Ciales Municipio</td>\n",
       "      <td>Puerto Rico</td>\n",
       "      <td>737512.481146</td>\n",
       "      <td>737500.000000</td>\n",
       "      <td>737503.856103</td>\n",
       "      <td>5.366726</td>\n",
       "    </tr>\n",
       "    <tr>\n",
       "      <th>3241</th>\n",
       "      <td>Humacao Municipio</td>\n",
       "      <td>Puerto Rico</td>\n",
       "      <td>737512.481146</td>\n",
       "      <td>737500.000000</td>\n",
       "      <td>737503.856103</td>\n",
       "      <td>5.366726</td>\n",
       "    </tr>\n",
       "    <tr>\n",
       "      <th>3242</th>\n",
       "      <td>New York City</td>\n",
       "      <td>New York</td>\n",
       "      <td>737512.481146</td>\n",
       "      <td>737502.373408</td>\n",
       "      <td>737503.856103</td>\n",
       "      <td>7.310767</td>\n",
       "    </tr>\n",
       "    <tr>\n",
       "      <th>3243</th>\n",
       "      <td>Kansas City</td>\n",
       "      <td>Missouri</td>\n",
       "      <td>737512.481146</td>\n",
       "      <td>737502.373408</td>\n",
       "      <td>737503.856103</td>\n",
       "      <td>3.531099</td>\n",
       "    </tr>\n",
       "  </tbody>\n",
       "</table>\n",
       "<p>3234 rows × 6 columns</p>\n",
       "</div>"
      ],
      "text/plain": [
       "             CountyName State updated   stay at home  public schools  \\\n",
       "0               Autauga       Alabama  737519.000000   737500.000000   \n",
       "1               Baldwin       Alabama  737519.000000   737500.000000   \n",
       "2               Barbour       Alabama  737519.000000   737500.000000   \n",
       "3                  Bibb       Alabama  737519.000000   737500.000000   \n",
       "4                Blount       Alabama  737519.000000   737500.000000   \n",
       "...                 ...           ...            ...             ...   \n",
       "3239            Kalawao        Hawaii  737509.000000   737507.000000   \n",
       "3240   Ciales Municipio   Puerto Rico  737512.481146   737500.000000   \n",
       "3241  Humacao Municipio   Puerto Rico  737512.481146   737500.000000   \n",
       "3242      New York City      New York  737512.481146   737502.373408   \n",
       "3243        Kansas City      Missouri  737512.481146   737502.373408   \n",
       "\n",
       "      >500 gatherings  Mortality Rate  \n",
       "0       737497.000000        3.247029  \n",
       "1       737497.000000        3.247029  \n",
       "2       737497.000000        3.247029  \n",
       "3       737497.000000        3.247029  \n",
       "4       737497.000000        3.247029  \n",
       "...               ...             ...  \n",
       "3239    737509.000000        1.567944  \n",
       "3240    737503.856103        5.366726  \n",
       "3241    737503.856103        5.366726  \n",
       "3242    737503.856103        7.310767  \n",
       "3243    737503.856103        3.531099  \n",
       "\n",
       "[3234 rows x 6 columns]"
      ]
     },
     "execution_count": 18,
     "metadata": {},
     "output_type": "execute_result"
    }
   ],
   "source": [
    "operate_data2_with_states"
   ]
  },
  {
   "cell_type": "markdown",
   "metadata": {
    "colab_type": "text",
    "id": "wiF9vilD1Bxq"
   },
   "source": [
    "# Classification"
   ]
  },
  {
   "cell_type": "markdown",
   "metadata": {
    "colab_type": "text",
    "id": "thwWZT7o1Bxr"
   },
   "source": [
    "## 5. Basic Classification"
   ]
  },
  {
   "cell_type": "markdown",
   "metadata": {
    "colab_type": "text",
    "id": "7hxotDEm1Bxs"
   },
   "source": [
    "#5 After selecting features, now we will make training set and test sets. "
   ]
  },
  {
   "cell_type": "code",
   "execution_count": 19,
   "metadata": {
    "colab": {},
    "colab_type": "code",
    "id": "LePvbiE31Bxs",
    "outputId": "e1ba696b-94de-4670-812e-21d2b4612d6b"
   },
   "outputs": [
    {
     "data": {
      "text/plain": [
       "(       stay at home  public schools  >500 gatherings\n",
       " 2807  737509.000000        737502.0         737509.0\n",
       " 2046  737507.000000        737501.0         737499.0\n",
       " 2110  737507.000000        737501.0         737499.0\n",
       " 2130  737512.481146        737501.0         737513.0\n",
       " 1226  737508.000000        737501.0         737501.0,\n",
       " 2807    4.732254\n",
       " 2046    4.412052\n",
       " 2110    4.412052\n",
       " 2130    5.517241\n",
       " 1226    3.860112\n",
       " Name: Mortality Rate, dtype: float64)"
      ]
     },
     "execution_count": 19,
     "metadata": {},
     "output_type": "execute_result"
    }
   ],
   "source": [
    "X_train = train.drop(['CountyName', 'State updated','Mortality Rate'], axis=1)\n",
    "Y_train = train['Mortality Rate']\n",
    "\n",
    "X_train[:5], Y_train[:5]"
   ]
  },
  {
   "cell_type": "markdown",
   "metadata": {
    "colab_type": "text",
    "id": "fyx4iJNJ1ByB"
   },
   "source": [
    "Now we will make a linear regression model, fit the model with training data, and get the training loss. \n",
    "\n",
    "Loss function: I will use RMSE now but we can try other loss functions later. \n",
    "\n",
    "***Question: *** So what is a satisfying result loss for our model? How do we know how good our model is? "
   ]
  },
  {
   "cell_type": "code",
   "execution_count": 20,
   "metadata": {
    "colab": {},
    "colab_type": "code",
    "id": "NZEzLg_C1ByB",
    "outputId": "4895e607-7e94-4d56-f7ea-2008924ac25c"
   },
   "outputs": [
    {
     "name": "stdout",
     "output_type": "stream",
     "text": [
      "Training loss:  1.805616660547656\n"
     ]
    }
   ],
   "source": [
    "from sklearn.linear_model import LinearRegression\n",
    "from sklearn import metrics\n",
    "\n",
    "\n",
    "\n",
    "model = LinearRegression(fit_intercept=True) # should fit intercept be true?\n",
    "model.fit(X_train, Y_train)\n",
    "\n",
    "Y_prediction = model.predict(X_train)\n",
    "\n",
    "\n",
    "training_loss = metrics.mean_squared_error(Y_prediction, Y_train)\n",
    "print(\"Training loss: \", training_loss)"
   ]
  },
  {
   "cell_type": "code",
   "execution_count": 21,
   "metadata": {
    "colab": {},
    "colab_type": "code",
    "id": "T5DIWN0A1ByE",
    "outputId": "b53cd2f8-af79-497b-c3ff-ab3d4b678831",
    "scrolled": true
   },
   "outputs": [
    {
     "data": {
      "text/plain": [
       "<matplotlib.axes._subplots.AxesSubplot at 0x276a3846b08>"
      ]
     },
     "execution_count": 21,
     "metadata": {},
     "output_type": "execute_result"
    },
    {
     "data": {
      "image/png": "[encoded data removed]",
      "text/plain": [
       "<Figure size 360x360 with 1 Axes>"
      ]
     },
     "metadata": {
      "needs_background": "light"
     },
     "output_type": "display_data"
    }
   ],
   "source": [
    "plt.figure(figsize = (5,5))\n",
    "sns.regplot(Y_prediction, Y_train)"
   ]
  },
  {
   "cell_type": "markdown",
   "metadata": {
    "colab_type": "text",
    "id": "V6m1j2FJ1ByG"
   },
   "source": [
    "Should also check residual plot to make sure it has no pattern."
   ]
  },
  {
   "cell_type": "code",
   "execution_count": 22,
   "metadata": {
    "colab": {},
    "colab_type": "code",
    "id": "emuOgrdZ1ByG",
    "outputId": "310a17ca-67ca-4bfc-d2c2-31c12f9fe321"
   },
   "outputs": [
    {
     "data": {
      "text/plain": [
       "<matplotlib.axes._subplots.AxesSubplot at 0x276a38f9c08>"
      ]
     },
     "execution_count": 22,
     "metadata": {},
     "output_type": "execute_result"
    },
    {
     "data": {
      "image/png": "[encoded data removed]",
      "text/plain": [
       "<Figure size 360x360 with 1 Axes>"
      ]
     },
     "metadata": {
      "needs_background": "light"
     },
     "output_type": "display_data"
    }
   ],
   "source": [
    "plt.figure(figsize = (5,5))\n",
    "sns.regplot(Y_prediction, Y_train-Y_prediction)"
   ]
  },
  {
   "cell_type": "markdown",
   "metadata": {
    "colab_type": "text",
    "id": "NB5PJ11w1ByH"
   },
   "source": [
    "## 6. Cross-Validation"
   ]
  },
  {
   "cell_type": "markdown",
   "metadata": {
    "colab_type": "text",
    "id": "8Fae7REo1ByI"
   },
   "source": [
    "#6 Now let's perform cross-validation to check whether we are overfitting, and determine which features are useful. "
   ]
  },
  {
   "cell_type": "code",
   "execution_count": 23,
   "metadata": {
    "colab": {},
    "colab_type": "code",
    "id": "PD4i6An21ByJ",
    "outputId": "8ab27e2c-543e-4e54-f64d-af97211f5f2a"
   },
   "outputs": [
    {
     "name": "stdout",
     "output_type": "stream",
     "text": [
      "Trying first 1 features\n",
      "\tScore: 0.14636331747418546\n",
      "Trying first 2 features\n",
      "\tScore: 0.16845981263385307\n",
      "Trying first 3 features\n",
      "\tScore: 0.1701325901522453\n",
      "3\n",
      "Best choice, use the first 3 features\n"
     ]
    }
   ],
   "source": [
    "# perform cross validation\n",
    "from sklearn import model_selection as ms\n",
    "\n",
    "# finding which features to use using Cross Validation\n",
    "errors = []\n",
    "range_of_num_features = range(1, X_train.shape[1] + 1)\n",
    "for N in range_of_num_features:\n",
    "    print(f\"Trying first {N} features\")\n",
    "    model = LinearRegression()\n",
    "    \n",
    "    # compute the cross validation error\n",
    "    error = ms.cross_val_score(model, X_train.iloc[:, 0:N], Y_train).mean()\n",
    "    \n",
    "    print(\"\\tScore:\", error)\n",
    "    errors.append(error)\n",
    "\n",
    "best_num_features = np.argmax(errors) + 1\n",
    "print (best_num_features)\n",
    "best_err = min(errors)\n",
    "\n",
    "print(f\"Best choice, use the first {best_num_features} features\")"
   ]
  },
  {
   "cell_type": "markdown",
   "metadata": {
    "colab_type": "text",
    "id": "n5bxhpOr1ByL"
   },
   "source": [
    "## 7. Regularization"
   ]
  },
  {
   "cell_type": "markdown",
   "metadata": {
    "colab_type": "text",
    "id": "Obu_dT7a1ByL"
   },
   "source": [
    "#7 Here we perform regularization of data."
   ]
  },
  {
   "cell_type": "code",
   "execution_count": null,
   "metadata": {
    "colab": {},
    "colab_type": "code",
    "id": "kWwn9CjY1ByL"
   },
   "outputs": [],
   "source": []
  },
  {
   "cell_type": "markdown",
   "metadata": {
    "colab_type": "text",
    "id": "iFnbzPZ31ByN"
   },
   "source": [
    "## 8. Test"
   ]
  },
  {
   "cell_type": "markdown",
   "metadata": {
    "colab_type": "text",
    "id": "DNoTtlX31ByO"
   },
   "source": [
    "#8 Here we will test our model on test set and find its test accuracy. "
   ]
  },
  {
   "cell_type": "code",
   "execution_count": null,
   "metadata": {
    "colab": {},
    "colab_type": "code",
    "id": "rlCEp5d91ByO"
   },
   "outputs": [],
   "source": []
  },
  {
   "cell_type": "markdown",
   "metadata": {
    "colab_type": "text",
    "id": "-pikVOyz1ByQ"
   },
   "source": [
    "## 9. Conclusion"
   ]
  },
  {
   "cell_type": "markdown",
   "metadata": {
    "colab_type": "text",
    "id": "eajt0M0P1ByQ"
   },
   "source": [
    "#9 We can also fit other models (like logistic model?) with our training data, and test on test set about their accuracy."
   ]
  },
  {
   "cell_type": "code",
   "execution_count": null,
   "metadata": {
    "colab": {},
    "colab_type": "code",
    "id": "exWnWXOK1ByQ"
   },
   "outputs": [],
   "source": []
  },
  {
   "cell_type": "code",
   "execution_count": null,
   "metadata": {
    "colab": {},
    "colab_type": "code",
    "id": "eqeuM5F_1ByS"
   },
   "outputs": [],
   "source": []
  },
  {
   "cell_type": "code",
   "execution_count": null,
   "metadata": {
    "colab": {},
    "colab_type": "code",
    "id": "UkkIRj_e1ByU"
   },
   "outputs": [],
   "source": []
  }
 ],
 "metadata": {
  "colab": {
   "name": "[Newest]Version3 Final Project - Covid-3.ipynb",
   "provenance": [],
   "toc_visible": true
  },
  "kernelspec": {
   "display_name": "Python 3",
   "language": "python",
   "name": "python3"
  },
  "language_info": {
   "codemirror_mode": {
    "name": "ipython",
    "version": 3
   },
   "file_extension": ".py",
   "mimetype": "text/x-python",
   "name": "python",
   "nbconvert_exporter": "python",
   "pygments_lexer": "ipython3",
   "version": "3.7.6"
  }
 },
 "nbformat": 4,
 "nbformat_minor": 1
}
